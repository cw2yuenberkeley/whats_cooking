{
 "cells": [
  {
   "cell_type": "markdown",
   "metadata": {},
   "source": [
    "# W207 Group Project - What's Cooking?\n",
    "\n",
    "Group members: Daniel Volk, Aaron Yuen\n",
    "\n",
    "Kaggle competition link: https://www.kaggle.com/c/whats-cooking"
   ]
  },
  {
   "cell_type": "markdown",
   "metadata": {},
   "source": [
    "## Business Understanding"
   ]
  },
  {
   "cell_type": "markdown",
   "metadata": {},
   "source": [
    "#### Description from Kaggle:\n",
    "\n",
    "Picture yourself strolling through your local, open-air market... What do you see? What do you smell? What will you make for dinner tonight?\n",
    "\n",
    "If you're in Northern California, you'll be walking past the inevitable bushels of leafy greens, spiked with dark purple kale and the bright pinks and yellows of chard. Across the world in South Korea, mounds of bright red kimchi greet you, while the smell of the sea draws your attention to squids squirming nearby. India’s market is perhaps the most colorful, awash in the rich hues and aromas of dozens of spices: turmeric, star anise, poppy seeds, and garam masala as far as the eye can see.\n",
    "\n",
    "Some of our strongest geographic and cultural associations are tied to a region's local foods. This playground competitions asks you to predict the category of a dish's cuisine given a list of its ingredients. \n",
    "\n",
    "#### What problem are we trying to solve?\n",
    "\n",
    "The problem at hand is to categorize the cuisine of a recipe based on the provided list of ingredients. This competition was hosted by Yummly, a company that builds a mobile app and website that provides recipe recommendations personalized to the individual's tastes. This is a multi-class classification problem where the input is a list of strings (ingredients) and the output we are trying to predict is one of the various classes of cuisine. \n",
    "\n",
    "#### What are the relevant metrics?\n",
    "\n",
    "In this classification problem, there are a few relevant metrics we will explore:\n",
    "1. Accuracy\n",
    "2. Precision\n",
    "3. Recall\n",
    "\n",
    "#### How do we plan to improve these metrics?\n",
    "\n",
    "We will start by establishing a baseline using a very simple classifier with little parameter tuning and feature engineering.  Once we have established a baseline, we will then build upon it with trying various models, tuning various hyper-parameters, and spend considerable effects in feature engineering. We will also iterate through error analysis, which will also be shared in this deliverable as well.\n",
    "\n",
    "#### What will we deliver?\n",
    "\n",
    "The main deliverable is this iPython notebook that completes the full end-to-end project from problem scope, data understanding, exploratory analysis, baseline model, feature engineering, error analysis and final results."
   ]
  },
  {
   "cell_type": "markdown",
   "metadata": {},
   "source": [
    "## Data Understanding"
   ]
  },
  {
   "cell_type": "markdown",
   "metadata": {},
   "source": [
    "#### Library Imports"
   ]
  },
  {
   "cell_type": "code",
   "execution_count": null,
   "metadata": {
    "collapsed": true
   },
   "outputs": [],
   "source": [
    "# Loading all relevant libraries\n",
    "%matplotlib inline\n",
    "import pandas\n",
    "import matplotlib\n",
    "import matplotlib.pyplot as plt\n",
    "import numpy as np\n",
    "from matplotlib import pyplot as pd\n",
    "from collections import Counter\n",
    "from sklearn.model_selection import train_test_split\n",
    "\n",
    "matplotlib.rc('font', **{'weight' : 'bold', 'size':10} )"
   ]
  },
  {
   "cell_type": "markdown",
   "metadata": {},
   "source": [
    "#### Data Loading"
   ]
  },
  {
   "cell_type": "markdown",
   "metadata": {},
   "source": [
    "The provided sources of data from the competition are:\n",
    "\n",
    "1. train.json - Includes both the list of ingredients as features and the cuisine as the class\n",
    "2. test.json - Includes only the list of ingredients as features. The cuisine (e.g. the class) is not present.\n",
    "\n",
    "Both "
   ]
  },
  {
   "cell_type": "code",
   "execution_count": 101,
   "metadata": {
    "collapsed": true
   },
   "outputs": [],
   "source": [
    "# Read train and test dataset from the provided JSONs\n",
    "train = pandas.read_json(\"data/train.json\")\n",
    "test = pandas.read_json(\"data/test.json\")\n",
    "\n",
    "# Separate to raw features dataframe\n",
    "X_train_all = train[\"ingredients\"]\n",
    "X_test = test[\"ingredients\"]\n",
    "\n",
    "# Separate label dataframe\n",
    "y_train_all = train[\"cuisine\"]\n",
    "\n",
    "train['ingredients_clean_string'] = [' , '.join(z).strip() for z in train['ingredients']]  \n",
    "train['ingredients_string'] = [' '.join([WordNetLemmatizer().lemmatize(re.sub('[^A-Za-z]', ' ', line)) for line in lists]).strip() for lists in traindf['ingredients']]       "
   ]
  },
  {
   "cell_type": "code",
   "execution_count": null,
   "metadata": {
    "collapsed": true
   },
   "outputs": [],
   "source": []
  },
  {
   "cell_type": "code",
   "execution_count": 102,
   "metadata": {},
   "outputs": [
    {
     "name": "stdout",
     "output_type": "stream",
     "text": [
      "(39774L,)\n",
      "(39774L,)\n"
     ]
    }
   ],
   "source": [
    "print X_train_all.shape\n",
    "print y_train_all.shape"
   ]
  },
  {
   "cell_type": "code",
   "execution_count": 103,
   "metadata": {},
   "outputs": [
    {
     "name": "stdout",
     "output_type": "stream",
     "text": [
      "First 10 example features from the training set\n",
      "0    [romaine lettuce, black olives, grape tomatoes...\n",
      "1    [plain flour, ground pepper, salt, tomatoes, g...\n",
      "2    [eggs, pepper, salt, mayonaise, cooking oil, g...\n",
      "3                  [water, vegetable oil, wheat, salt]\n",
      "4    [black pepper, shallots, cornflour, cayenne pe...\n",
      "5    [plain flour, sugar, butter, eggs, fresh ginge...\n",
      "6    [olive oil, salt, medium shrimp, pepper, garli...\n",
      "7    [sugar, pistachio nuts, white almond bark, flo...\n",
      "8    [olive oil, purple onion, fresh pineapple, por...\n",
      "9    [chopped tomatoes, fresh basil, garlic, extra-...\n",
      "Name: ingredients, dtype: object\n",
      "\n",
      "First 10 example labels from the training set\n",
      "0    [romaine lettuce, black olives, grape tomatoes...\n",
      "1    [plain flour, ground pepper, salt, tomatoes, g...\n",
      "2    [eggs, pepper, salt, mayonaise, cooking oil, g...\n",
      "3                  [water, vegetable oil, wheat, salt]\n",
      "4    [black pepper, shallots, cornflour, cayenne pe...\n",
      "5    [plain flour, sugar, butter, eggs, fresh ginge...\n",
      "6    [olive oil, salt, medium shrimp, pepper, garli...\n",
      "7    [sugar, pistachio nuts, white almond bark, flo...\n",
      "8    [olive oil, purple onion, fresh pineapple, por...\n",
      "9    [chopped tomatoes, fresh basil, garlic, extra-...\n",
      "Name: ingredients, dtype: object\n",
      "\n",
      "First 10 example features from the test set\n",
      "0    [romaine lettuce, black olives, grape tomatoes...\n",
      "1    [plain flour, ground pepper, salt, tomatoes, g...\n",
      "2    [eggs, pepper, salt, mayonaise, cooking oil, g...\n",
      "3                  [water, vegetable oil, wheat, salt]\n",
      "4    [black pepper, shallots, cornflour, cayenne pe...\n",
      "5    [plain flour, sugar, butter, eggs, fresh ginge...\n",
      "6    [olive oil, salt, medium shrimp, pepper, garli...\n",
      "7    [sugar, pistachio nuts, white almond bark, flo...\n",
      "8    [olive oil, purple onion, fresh pineapple, por...\n",
      "9    [chopped tomatoes, fresh basil, garlic, extra-...\n",
      "Name: ingredients, dtype: object\n",
      "\n"
     ]
    }
   ],
   "source": [
    "print \"First 10 example features from the training set\"\n",
    "print X_train_all.head(10)\n",
    "print \"\"\n",
    "\n",
    "print \"First 10 example labels from the training set\"\n",
    "print y_train_all.head(10)\n",
    "print \"\"\n",
    "\n",
    "print \"First 10 example features from the test set\"\n",
    "print X_test.head(10)\n",
    "print \"\""
   ]
  },
  {
   "cell_type": "code",
   "execution_count": 104,
   "metadata": {},
   "outputs": [
    {
     "data": {
      "text/plain": [
       "0"
      ]
     },
     "execution_count": 104,
     "metadata": {},
     "output_type": "execute_result"
    }
   ],
   "source": [
    "# Check for nulls in the ingredients column\n",
    "(X_train_all.isnull()).sum()"
   ]
  },
  {
   "cell_type": "markdown",
   "metadata": {},
   "source": [
    "#### Distribution of training classes"
   ]
  },
  {
   "cell_type": "code",
   "execution_count": 105,
   "metadata": {},
   "outputs": [
    {
     "data": {
      "text/plain": [
       "<matplotlib.text.Text at 0x1c651fd0>"
      ]
     },
     "execution_count": 105,
     "metadata": {},
     "output_type": "execute_result"
    },
    {
     "data": {
      "image/png": "[encoded data removed]",
      "text/plain": [
       "<matplotlib.figure.Figure at 0x147cf898>"
      ]
     },
     "metadata": {},
     "output_type": "display_data"
    }
   ],
   "source": [
    "# Plot distribution of training classes\n",
    "plt.figure(figsize=(10,10))\n",
    "f = y_values = y_train_all.value_counts().plot(kind='barh')\n",
    "f.invert_yaxis()\n",
    "plt.title(\"Distribution of training classes\")\n",
    "plt.ylabel(\"Cuisine\")\n",
    "plt.xlabel(\"Number of examples\")"
   ]
  },
  {
   "cell_type": "markdown",
   "metadata": {},
   "source": [
    "#### Number of Ingredients per Recipe"
   ]
  },
  {
   "cell_type": "code",
   "execution_count": 106,
   "metadata": {},
   "outputs": [
    {
     "data": {
      "text/plain": [
       "<matplotlib.text.Text at 0x16269588>"
      ]
     },
     "execution_count": 106,
     "metadata": {},
     "output_type": "execute_result"
    },
    {
     "data": {
      "image/png": "[encoded data removed]",
      "text/plain": [
       "<matplotlib.figure.Figure at 0x1962eef0>"
      ]
     },
     "metadata": {},
     "output_type": "display_data"
    }
   ],
   "source": [
    "f = X_train_all.apply(len).hist(bins=30)\n",
    "plt.title(\"Histogram of number of ingredients per recipe\")\n",
    "plt.ylabel(\"Frequency\")\n",
    "plt.xlabel(\"Ingredients per recipe\")"
   ]
  },
  {
   "cell_type": "markdown",
   "metadata": {},
   "source": [
    "#### Top Ingredients"
   ]
  },
  {
   "cell_type": "code",
   "execution_count": null,
   "metadata": {
    "collapsed": true
   },
   "outputs": [],
   "source": [
    "#ing_cuisine_pair = np.empty(2)\n",
    "#for i in xrange(X_train_all.shape[0]):\n",
    "#    for ingredient in X_train_all[i]:\n",
    "#        ing_cuisine_pair = np.vstack((ing_cuisine_pair, [y_train_all[i], ingredient]))\n",
    "#        \n",
    "#ing_cuisine = pandas.DataFrame(ing_cuisine_pair[1:], columns=['cuisine', 'ingredient'])\n",
    "#ing_cuisine.head()\n",
    "\n",
    "#X_train_all['ingredient_string'] = [','.join(i) for i in X_train_all['ingredients']] \n",
    "#cv = CountVectorizer()\n",
    "#cv.fit_transform(X_train_all)"
   ]
  },
  {
   "cell_type": "code",
   "execution_count": null,
   "metadata": {
    "collapsed": true
   },
   "outputs": [],
   "source": [
    "plt.figure(figsize=(20,30))\n",
    "plt.title(\"Distribution of top 50 ingredients - All cuisines\")\n",
    "plt.ylabel(\"ingredient\")\n",
    "plt.xlabel(\"Number of examples\")\n",
    "f = ing_cuisine['ingredient'].value_counts()[:50].plot(kind='barh')\n",
    "f.invert_yaxis()"
   ]
  },
  {
   "cell_type": "code",
   "execution_count": null,
   "metadata": {
    "collapsed": true
   },
   "outputs": [],
   "source": [
    "# Top ingredients by cuisine\n",
    "plt.figure(figsize=(10,120))\n",
    "\n",
    "grouped = ing_cuisine.groupby('cuisine')\n",
    "\n",
    "cuisines = grouped.groups.keys()\n",
    "for i in range(len(cuisines)):\n",
    "    plt.subplot(20, 1, i+1)\n",
    "    \n",
    "    f = ing_cuisine[ing_cuisine['cuisine'] == cuisines[i]]['ingredient'].value_counts()[:20].plot(kind='barh')\n",
    "    f.invert_yaxis()\n",
    "    plt.title(\"Top ingredients for %s\" % cuisines[i])\n",
    "    plt.ylabel(\"Ingredient\")\n",
    "    plt.xlabel(\"Number of examples\")\n",
    "    i+=1\n",
    "\n",
    "plt.show()"
   ]
  },
  {
   "cell_type": "markdown",
   "metadata": {},
   "source": [
    "## Data Preparation"
   ]
  },
  {
   "cell_type": "code",
   "execution_count": 26,
   "metadata": {
    "collapsed": true
   },
   "outputs": [],
   "source": [
    "X_train, X_dev, y_train, y_dev = train_test_split(X_train_all, y_train_all, random_state=2)"
   ]
  },
  {
   "cell_type": "code",
   "execution_count": null,
   "metadata": {
    "collapsed": true
   },
   "outputs": [],
   "source": []
  },
  {
   "cell_type": "markdown",
   "metadata": {},
   "source": [
    "## Modeling"
   ]
  },
  {
   "cell_type": "code",
   "execution_count": null,
   "metadata": {
    "collapsed": true
   },
   "outputs": [],
   "source": []
  },
  {
   "cell_type": "markdown",
   "metadata": {},
   "source": [
    "## Evaluation"
   ]
  },
  {
   "cell_type": "code",
   "execution_count": null,
   "metadata": {
    "collapsed": true
   },
   "outputs": [],
   "source": []
  },
  {
   "cell_type": "markdown",
   "metadata": {},
   "source": [
    "## Deployment"
   ]
  },
  {
   "cell_type": "markdown",
   "metadata": {},
   "source": [
    "Deployment is out of scope of this project, since there is no deployment in the deliverable other than this notebook."
   ]
  }
 ],
 "metadata": {
  "kernelspec": {
   "display_name": "Python 2",
   "language": "python",
   "name": "python2"
  },
  "language_info": {
   "codemirror_mode": {
    "name": "ipython",
    "version": 2
   },
   "file_extension": ".py",
   "mimetype": "text/x-python",
   "name": "python",
   "nbconvert_exporter": "python",
   "pygments_lexer": "ipython2",
   "version": "2.7.13"
  }
 },
 "nbformat": 4,
 "nbformat_minor": 2
}
