{
 "cells": [
  {
   "cell_type": "markdown",
   "metadata": {},
   "source": [
    "# W207 Group Project - What's Cooking?\n",
    "\n",
    "Group members: Daniel Volk, Aaron Yuen\n",
    "\n",
    "Kaggle competition link: https://www.kaggle.com/c/whats-cooking"
   ]
  },
  {
   "cell_type": "markdown",
   "metadata": {},
   "source": [
    "## Business Understanding"
   ]
  },
  {
   "cell_type": "markdown",
   "metadata": {},
   "source": [
    "#### Description from Kaggle:\n",
    "\n",
    "Picture yourself strolling through your local, open-air market... What do you see? What do you smell? What will you make for dinner tonight?\n",
    "\n",
    "If you're in Northern California, you'll be walking past the inevitable bushels of leafy greens, spiked with dark purple kale and the bright pinks and yellows of chard. Across the world in South Korea, mounds of bright red kimchi greet you, while the smell of the sea draws your attention to squids squirming nearby. India’s market is perhaps the most colorful, awash in the rich hues and aromas of dozens of spices: turmeric, star anise, poppy seeds, and garam masala as far as the eye can see.\n",
    "\n",
    "Some of our strongest geographic and cultural associations are tied to a region's local foods. This playground competitions asks you to predict the category of a dish's cuisine given a list of its ingredients. \n",
    "\n",
    "#### What problem are we trying to solve?\n",
    "\n",
    "The problem at hand is to categorize the cuisine of a recipe based on the provided list of ingredients. This competition was hosted by Yummly, a company that builds a mobile app and website that provides recipe recommendations personalized to the individual's tastes. This is a multi-class classification problem where the input is a list of strings (ingredients) and the output we are trying to predict is one of the various classes of cuisine. \n",
    "\n",
    "#### What will we deliver?\n",
    "\n",
    "The main deliverable is this iPython notebook that completes the full end-to-end project from problem scope, data understanding, exploratory analysis, baseline model, feature engineering, error analysis and final results."
   ]
  },
  {
   "cell_type": "markdown",
   "metadata": {},
   "source": [
    "## Data Understanding"
   ]
  },
  {
   "cell_type": "markdown",
   "metadata": {},
   "source": [
    "#### Library Imports"
   ]
  },
  {
   "cell_type": "code",
   "execution_count": 441,
   "metadata": {
    "collapsed": true
   },
   "outputs": [],
   "source": [
    "# Loading all relevant libraries\n",
    "%matplotlib inline\n",
    "\n",
    "import pandas as pd\n",
    "import matplotlib\n",
    "import matplotlib.pyplot as plt\n",
    "import numpy as np\n",
    "from collections import Counter\n",
    "from sklearn.model_selection import train_test_split\n",
    "import seaborn as sn\n",
    "sn.set()\n",
    "\n",
    "matplotlib.rc('font', **{'weight' : 'bold', 'size':10} )\n",
    "\n",
    "from sklearn.feature_extraction.text import CountVectorizer\n",
    "from sklearn.feature_extraction.text import TfidfVectorizer\n",
    "from sklearn.pipeline import Pipeline\n",
    "from sklearn.preprocessing import FunctionTransformer\n",
    "from sklearn.linear_model import LogisticRegression\n",
    "from sklearn.metrics import confusion_matrix, roc_curve, precision_score, recall_score\n",
    "from sklearn import svm\n",
    "from sklearn.utils import resample\n",
    "from xgboost import XGBClassifier\n",
    "import string\n",
    "from nltk.stem import WordNetLemmatizer\n",
    "from sklearn.model_selection import GridSearchCV\n",
    "\n",
    "from sklearn.decomposition import PCA\n",
    "from sklearn.decomposition import TruncatedSVD"
   ]
  },
  {
   "cell_type": "markdown",
   "metadata": {},
   "source": [
    "#### Data Loading"
   ]
  },
  {
   "cell_type": "markdown",
   "metadata": {},
   "source": [
    "The provided sources of data from the competition are:\n",
    "\n",
    "1. train.json - Includes both the list of ingredients as features and the cuisine as the class\n",
    "2. test.json - Includes only the list of ingredients as features. The cuisine (e.g. the class) is not present.\n"
   ]
  },
  {
   "cell_type": "code",
   "execution_count": 505,
   "metadata": {
    "collapsed": true
   },
   "outputs": [],
   "source": [
    "# Read train and test dataset from the provided JSONs\n",
    "train = pd.read_json(\"data/train.json\")\n",
    "test = pd.read_json(\"data/test.json\")\n",
    "\n",
    "# Separate to raw features dataframe\n",
    "X_train_all = train[\"ingredients\"]\n",
    "X_test = test[\"ingredients\"]\n",
    "\n",
    "# Separate label dataframe\n",
    "y_train_all = train[\"cuisine\"]"
   ]
  },
  {
   "cell_type": "code",
   "execution_count": 482,
   "metadata": {},
   "outputs": [
    {
     "name": "stdout",
     "output_type": "stream",
     "text": [
      "Shape of features: (39774,)\n",
      "Shape of labels: (39774,)\n"
     ]
    }
   ],
   "source": [
    "print \"Shape of features:\", X_train_all.shape\n",
    "print \"Shape of labels:\", y_train_all.shape"
   ]
  },
  {
   "cell_type": "markdown",
   "metadata": {},
   "source": [
    "#### Example features and labels"
   ]
  },
  {
   "cell_type": "code",
   "execution_count": 554,
   "metadata": {},
   "outputs": [
    {
     "name": "stdout",
     "output_type": "stream",
     "text": [
      "First 10 example features from the training set\n",
      "0    [romaine lettuce, black olives, grape tomatoes, garlic, pepper, purple onion, seasoning, garbanzo beans, feta cheese crumbles]                                                                                                                    \n",
      "1    [plain flour, ground pepper, salt, tomatoes, ground black pepper, thyme, eggs, green tomatoes, yellow corn meal, milk, vegetable oil]                                                                                                             \n",
      "2    [eggs, pepper, salt, mayonaise, cooking oil, green chilies, grilled chicken breasts, garlic powder, yellow onion, soy sauce, butter, chicken livers]                                                                                              \n",
      "3    [water, vegetable oil, wheat, salt]                                                                                                                                                                                                               \n",
      "4    [black pepper, shallots, cornflour, cayenne pepper, onions, garlic paste, milk, butter, salt, lemon juice, water, chili powder, passata, oil, ground cumin, boneless chicken skinless thigh, garam masala, double cream, natural yogurt, bay leaf]\n",
      "5    [plain flour, sugar, butter, eggs, fresh ginger root, salt, ground cinnamon, milk, vanilla extract, ground ginger, powdered sugar, baking powder]                                                                                                 \n",
      "6    [olive oil, salt, medium shrimp, pepper, garlic, chopped cilantro, jalapeno chilies, flat leaf parsley, skirt steak, white vinegar, sea salt, bay leaf, chorizo sausage]                                                                          \n",
      "7    [sugar, pistachio nuts, white almond bark, flour, vanilla extract, olive oil, almond extract, eggs, baking powder, dried cranberries]                                                                                                             \n",
      "8    [olive oil, purple onion, fresh pineapple, pork, poblano peppers, corn tortillas, cheddar cheese, ground black pepper, salt, iceberg lettuce, lime, jalapeno chilies, chopped cilantro fresh]                                                     \n",
      "9    [chopped tomatoes, fresh basil, garlic, extra-virgin olive oil, kosher salt, flat leaf parsley]                                                                                                                                                   \n",
      "Name: ingredients, dtype: object\n",
      "\n",
      "First 10 example labels from the training set\n",
      "0    greek      \n",
      "1    southern_us\n",
      "2    filipino   \n",
      "3    indian     \n",
      "4    indian     \n",
      "5    jamaican   \n",
      "6    spanish    \n",
      "7    italian    \n",
      "8    mexican    \n",
      "9    italian    \n",
      "Name: cuisine, dtype: object\n",
      "\n",
      "First 10 example features from the test set\n",
      "0    [baking powder, eggs, all-purpose flour, raisins, milk, white sugar]                                                                                                                                                                                                                                                          \n",
      "1    [sugar, egg yolks, corn starch, cream of tartar, bananas, vanilla wafers, milk, vanilla extract, toasted pecans, egg whites, light rum]                                                                                                                                                                                       \n",
      "2    [sausage links, fennel bulb, fronds, olive oil, cuban peppers, onions]                                                                                                                                                                                                                                                        \n",
      "3    [meat cuts, file powder, smoked sausage, okra, shrimp, andouille sausage, water, paprika, hot sauce, garlic cloves, browning, lump crab meat, vegetable oil, all-purpose flour, freshly ground pepper, flat leaf parsley, boneless chicken skinless thigh, dried thyme, white rice, yellow onion, ham]                        \n",
      "4    [ground black pepper, salt, sausage casings, leeks, parmigiano reggiano cheese, cornmeal, water, extra-virgin olive oil]                                                                                                                                                                                                      \n",
      "5    [baking powder, all-purpose flour, peach slices, corn starch, heavy cream, lemon juice, unsalted butter, salt, white sugar]                                                                                                                                                                                                   \n",
      "6    [grape juice, orange, white zinfandel]                                                                                                                                                                                                                                                                                        \n",
      "7    [ground ginger, white pepper, green onions, orange juice, sugar, Sriracha, vegetable oil, orange zest, chicken broth, sesame seeds, boneless skinless chicken breasts, corn starch, white vinegar, soy sauce, large eggs, garlic]                                                                                             \n",
      "8    [diced onions, taco seasoning mix, all-purpose flour, chopped cilantro fresh, ground cumin, ground cinnamon, vegetable oil, bittersweet chocolate, chopped garlic, water, hot chili powder, boneless skinless chicken breast halves, shredded Monterey Jack cheese, chicken broth, Anaheim chile, cream cheese, dried oregano]\n",
      "9    [eggs, cherries, dates, dark muscovado sugar, ground cinnamon, mixed spice, cake, vanilla extract, self raising flour, sultana, rum, raisins, prunes, glace cherries, butter, port]                                                                                                                                           \n",
      "Name: ingredients, dtype: object\n",
      "\n"
     ]
    }
   ],
   "source": [
    "print \"First 10 example features from the training set\"\n",
    "print X_train_all.head(10)\n",
    "print \"\"\n",
    "\n",
    "print \"First 10 example labels from the training set\"\n",
    "print y_train_all.head(10)\n",
    "print \"\"\n",
    "\n",
    "print \"First 10 example features from the test set\"\n",
    "print X_test.head(10)\n",
    "print \"\""
   ]
  },
  {
   "cell_type": "code",
   "execution_count": 483,
   "metadata": {},
   "outputs": [
    {
     "name": "stdout",
     "output_type": "stream",
     "text": [
      "The number of examples where ingredients is null is 0\n"
     ]
    }
   ],
   "source": [
    "# Check for nulls in the ingredients column\n",
    "print \"The number of examples where ingredients is null is\", (X_train_all.isnull()).sum()"
   ]
  },
  {
   "cell_type": "code",
   "execution_count": 558,
   "metadata": {},
   "outputs": [
    {
     "data": {
      "text/html": [
       "<div>\n",
       "<style>\n",
       "    .dataframe thead tr:only-child th {\n",
       "        text-align: right;\n",
       "    }\n",
       "\n",
       "    .dataframe thead th {\n",
       "        text-align: left;\n",
       "    }\n",
       "\n",
       "    .dataframe tbody tr th {\n",
       "        vertical-align: top;\n",
       "    }\n",
       "</style>\n",
       "<table border=\"1\" class=\"dataframe\">\n",
       "  <thead>\n",
       "    <tr style=\"text-align: right;\">\n",
       "      <th></th>\n",
       "      <th>ingredients</th>\n",
       "      <th>cuisine</th>\n",
       "    </tr>\n",
       "  </thead>\n",
       "  <tbody>\n",
       "    <tr>\n",
       "      <th>0</th>\n",
       "      <td>[romaine lettuce, black olives, grape tomatoes, garlic, pepper, purple onion, seasoning, garbanzo beans, feta cheese crumbles]</td>\n",
       "      <td>greek</td>\n",
       "    </tr>\n",
       "    <tr>\n",
       "      <th>1</th>\n",
       "      <td>[plain flour, ground pepper, salt, tomatoes, ground black pepper, thyme, eggs, green tomatoes, yellow corn meal, milk, vegetable oil]</td>\n",
       "      <td>southern_us</td>\n",
       "    </tr>\n",
       "    <tr>\n",
       "      <th>2</th>\n",
       "      <td>[eggs, pepper, salt, mayonaise, cooking oil, green chilies, grilled chicken breasts, garlic powder, yellow onion, soy sauce, butter, chicken livers]</td>\n",
       "      <td>filipino</td>\n",
       "    </tr>\n",
       "    <tr>\n",
       "      <th>3</th>\n",
       "      <td>[water, vegetable oil, wheat, salt]</td>\n",
       "      <td>indian</td>\n",
       "    </tr>\n",
       "    <tr>\n",
       "      <th>4</th>\n",
       "      <td>[black pepper, shallots, cornflour, cayenne pepper, onions, garlic paste, milk, butter, salt, lemon juice, water, chili powder, passata, oil, ground cumin, boneless chicken skinless thigh, garam masala, double cream, natural yogurt, bay leaf]</td>\n",
       "      <td>indian</td>\n",
       "    </tr>\n",
       "    <tr>\n",
       "      <th>5</th>\n",
       "      <td>[plain flour, sugar, butter, eggs, fresh ginger root, salt, ground cinnamon, milk, vanilla extract, ground ginger, powdered sugar, baking powder]</td>\n",
       "      <td>jamaican</td>\n",
       "    </tr>\n",
       "    <tr>\n",
       "      <th>6</th>\n",
       "      <td>[olive oil, salt, medium shrimp, pepper, garlic, chopped cilantro, jalapeno chilies, flat leaf parsley, skirt steak, white vinegar, sea salt, bay leaf, chorizo sausage]</td>\n",
       "      <td>spanish</td>\n",
       "    </tr>\n",
       "    <tr>\n",
       "      <th>7</th>\n",
       "      <td>[sugar, pistachio nuts, white almond bark, flour, vanilla extract, olive oil, almond extract, eggs, baking powder, dried cranberries]</td>\n",
       "      <td>italian</td>\n",
       "    </tr>\n",
       "    <tr>\n",
       "      <th>8</th>\n",
       "      <td>[olive oil, purple onion, fresh pineapple, pork, poblano peppers, corn tortillas, cheddar cheese, ground black pepper, salt, iceberg lettuce, lime, jalapeno chilies, chopped cilantro fresh]</td>\n",
       "      <td>mexican</td>\n",
       "    </tr>\n",
       "    <tr>\n",
       "      <th>9</th>\n",
       "      <td>[chopped tomatoes, fresh basil, garlic, extra-virgin olive oil, kosher salt, flat leaf parsley]</td>\n",
       "      <td>italian</td>\n",
       "    </tr>\n",
       "  </tbody>\n",
       "</table>\n",
       "</div>"
      ],
      "text/plain": [
       "                                                                                                                                                                                                                                          ingredients  \\\n",
       "0  [romaine lettuce, black olives, grape tomatoes, garlic, pepper, purple onion, seasoning, garbanzo beans, feta cheese crumbles]                                                                                                                       \n",
       "1  [plain flour, ground pepper, salt, tomatoes, ground black pepper, thyme, eggs, green tomatoes, yellow corn meal, milk, vegetable oil]                                                                                                                \n",
       "2  [eggs, pepper, salt, mayonaise, cooking oil, green chilies, grilled chicken breasts, garlic powder, yellow onion, soy sauce, butter, chicken livers]                                                                                                 \n",
       "3  [water, vegetable oil, wheat, salt]                                                                                                                                                                                                                  \n",
       "4  [black pepper, shallots, cornflour, cayenne pepper, onions, garlic paste, milk, butter, salt, lemon juice, water, chili powder, passata, oil, ground cumin, boneless chicken skinless thigh, garam masala, double cream, natural yogurt, bay leaf]   \n",
       "5  [plain flour, sugar, butter, eggs, fresh ginger root, salt, ground cinnamon, milk, vanilla extract, ground ginger, powdered sugar, baking powder]                                                                                                    \n",
       "6  [olive oil, salt, medium shrimp, pepper, garlic, chopped cilantro, jalapeno chilies, flat leaf parsley, skirt steak, white vinegar, sea salt, bay leaf, chorizo sausage]                                                                             \n",
       "7  [sugar, pistachio nuts, white almond bark, flour, vanilla extract, olive oil, almond extract, eggs, baking powder, dried cranberries]                                                                                                                \n",
       "8  [olive oil, purple onion, fresh pineapple, pork, poblano peppers, corn tortillas, cheddar cheese, ground black pepper, salt, iceberg lettuce, lime, jalapeno chilies, chopped cilantro fresh]                                                        \n",
       "9  [chopped tomatoes, fresh basil, garlic, extra-virgin olive oil, kosher salt, flat leaf parsley]                                                                                                                                                      \n",
       "\n",
       "       cuisine  \n",
       "0  greek        \n",
       "1  southern_us  \n",
       "2  filipino     \n",
       "3  indian       \n",
       "4  indian       \n",
       "5  jamaican     \n",
       "6  spanish      \n",
       "7  italian      \n",
       "8  mexican      \n",
       "9  italian      "
      ]
     },
     "execution_count": 558,
     "metadata": {},
     "output_type": "execute_result"
    }
   ],
   "source": [
    "pd.DataFrame(train)[['ingredients', 'cuisine']].head(10)"
   ]
  },
  {
   "cell_type": "markdown",
   "metadata": {},
   "source": [
    "#### Distribution of training classes"
   ]
  },
  {
   "cell_type": "markdown",
   "metadata": {},
   "source": [
    "Here we can see that there is a high imbalance of classes, with majority of the cuisine to be Italian, Mexican, and Southern US. We'll need to ensure in the data preparation step that these are more balanced before training, or make sure that if we don't handle it ourselves, the model already rebalances the classes based on label frequencies (e.g. like in LogisticRegression)."
   ]
  },
  {
   "cell_type": "code",
   "execution_count": 563,
   "metadata": {},
   "outputs": [
    {
     "data": {
      "text/plain": [
       "Text(0.5,0,u'Number of examples')"
      ]
     },
     "execution_count": 563,
     "metadata": {},
     "output_type": "execute_result"
    },
    {
     "data": {
      "image/png": "[encoded data removed]",
      "text/plain": [
       "<matplotlib.figure.Figure at 0x1a2ac76c90>"
      ]
     },
     "metadata": {},
     "output_type": "display_data"
    }
   ],
   "source": [
    "# Plot distribution of training classes\n",
    "plt.figure(figsize=(15,10))\n",
    "f = y_values = y_train_all.value_counts().plot(kind='barh')\n",
    "f.invert_yaxis()\n",
    "plt.title(\"Distribution of training classes\", fontsize=16)\n",
    "plt.ylabel(\"Cuisine\", fontsize=16)\n",
    "plt.xlabel(\"Number of examples\", fontsize=16)"
   ]
  },
  {
   "cell_type": "markdown",
   "metadata": {},
   "source": [
    "#### Number of Ingredients per Recipe"
   ]
  },
  {
   "cell_type": "code",
   "execution_count": 45,
   "metadata": {},
   "outputs": [
    {
     "data": {
      "text/plain": [
       "Text(0.5,0,u'Ingredients per recipe')"
      ]
     },
     "execution_count": 45,
     "metadata": {},
     "output_type": "execute_result"
    },
    {
     "data": {
      "image/png": "[encoded data removed]",
      "text/plain": [
       "<matplotlib.figure.Figure at 0x1a1b3e5550>"
      ]
     },
     "metadata": {},
     "output_type": "display_data"
    }
   ],
   "source": [
    "plt.figure(figsize=(10,5))\n",
    "f = X_train_all.apply(len).hist(bins=30)\n",
    "plt.title(\"Histogram of number of ingredients per recipe\")\n",
    "plt.ylabel(\"Frequency\")\n",
    "plt.xlabel(\"Ingredients per recipe\")"
   ]
  },
  {
   "cell_type": "markdown",
   "metadata": {},
   "source": [
    "#### Most Common Ingredients - Across All Cuisines"
   ]
  },
  {
   "cell_type": "markdown",
   "metadata": {},
   "source": [
    "The top ingredients seem to be very common ingredients like salt, sugar, oil, etc. which may not be cusine-specific. These features could potentially be ruled out (or let the model feature-select). Here we can also see that there are similar ingredients that should be deduplicated (e.g. kosher salt and salt, olive oil and oil)."
   ]
  },
  {
   "cell_type": "code",
   "execution_count": 46,
   "metadata": {
    "collapsed": true
   },
   "outputs": [],
   "source": [
    "# For each row, go through each ingredient and create a cuisine-ingredient pair\n",
    "ing_cuisine_pair = []\n",
    "for i in xrange(X_train_all.shape[0]):\n",
    "    for ingredient in X_train_all[i]:\n",
    "        ing_cuisine_pair.append([y_train_all[i], ingredient])\n",
    "\n",
    "ing_cuisine = pandas.DataFrame(ing_cuisine_pair, columns=['cuisine', 'ingredient'])"
   ]
  },
  {
   "cell_type": "code",
   "execution_count": 562,
   "metadata": {},
   "outputs": [
    {
     "data": {
      "image/png": "[encoded data removed]",
      "text/plain": [
       "<matplotlib.figure.Figure at 0x1a2289eb90>"
      ]
     },
     "metadata": {},
     "output_type": "display_data"
    }
   ],
   "source": [
    "plt.figure(figsize=(10,5))\n",
    "plt.title(\"Distribution of top 15 ingredients - All cuisines\")\n",
    "plt.ylabel(\"ingredient\")\n",
    "plt.xlabel(\"Number of examples\")\n",
    "f = ing_cuisine['ingredient'].value_counts()[:15].plot(kind='barh')\n",
    "f.invert_yaxis()"
   ]
  },
  {
   "cell_type": "markdown",
   "metadata": {},
   "source": [
    "#### Most Common Ingredients - By Cuisine"
   ]
  },
  {
   "cell_type": "markdown",
   "metadata": {},
   "source": [
    "Similarly, here by cuisine the top ingredients are common ingredients like salt, but we start to see some cuisine-specific incredients like jalapeno chilies for Mexican and soy sauce for Chinese. Below are the top ingredients by four cuisines (out of the 20 cuisines)."
   ]
  },
  {
   "cell_type": "code",
   "execution_count": 567,
   "metadata": {},
   "outputs": [
    {
     "data": {
      "image/png": "[encoded data removed]",
      "text/plain": [
       "<matplotlib.figure.Figure at 0x1a5bfceb90>"
      ]
     },
     "metadata": {},
     "output_type": "display_data"
    }
   ],
   "source": [
    "# Top ingredients by cuisine\n",
    "plt.figure(figsize=(4,30))\n",
    "\n",
    "grouped = ing_cuisine.groupby('cuisine')\n",
    "cuisine_list = ['mexican', 'chinese', 'french', 'italian']\n",
    "\n",
    "cuisines = grouped.groups.keys()\n",
    "j = 0\n",
    "for i in range(len(cuisines)):\n",
    "    if cuisines[i] not in cuisine_list:\n",
    "        continue\n",
    "\n",
    "    plt.subplot(len(cuisine_list), 1, j+1)\n",
    "    j+=1\n",
    "    \n",
    "    f = ing_cuisine[ing_cuisine['cuisine'] == cuisines[i]]['ingredient'].value_counts()[:20].plot(kind='barh')\n",
    "    f.invert_yaxis()\n",
    "    plt.title(\"Top ingredients for %s\" % cuisines[i])\n",
    "    plt.ylabel(\"Ingredient\")\n",
    "    plt.xlabel(\"Number of examples\")\n",
    "    i+=1\n",
    "\n",
    "plt.show()"
   ]
  },
  {
   "cell_type": "markdown",
   "metadata": {},
   "source": [
    "#### Least Common Ingredients - All Cuisines"
   ]
  },
  {
   "cell_type": "markdown",
   "metadata": {},
   "source": [
    "There are also a long tail of uncommon ingredients in the data. Many of these tail ingredients seem to be just common ingredients (e.g. jack cheese) with additional modifiers (e.g. reduced fat). Below is an extreme case where the ingredient \"one third less sodium chicken broth\" really should just be chicken broth. One approach we want to look into is to find a systemmatic way of removing these modifies and normalizing them to the more common ingredients, which should reduce the total number of unique ingredients."
   ]
  },
  {
   "cell_type": "code",
   "execution_count": 570,
   "metadata": {},
   "outputs": [
    {
     "data": {
      "text/html": [
       "<div>\n",
       "<style>\n",
       "    .dataframe thead tr:only-child th {\n",
       "        text-align: right;\n",
       "    }\n",
       "\n",
       "    .dataframe thead th {\n",
       "        text-align: left;\n",
       "    }\n",
       "\n",
       "    .dataframe tbody tr th {\n",
       "        vertical-align: top;\n",
       "    }\n",
       "</style>\n",
       "<table border=\"1\" class=\"dataframe\">\n",
       "  <thead>\n",
       "    <tr style=\"text-align: right;\">\n",
       "      <th></th>\n",
       "      <th>ingredient</th>\n",
       "    </tr>\n",
       "  </thead>\n",
       "  <tbody>\n",
       "    <tr>\n",
       "      <th>Crystal Farms Reduced Fat Shredded Marble Jack Cheese</th>\n",
       "      <td>1</td>\n",
       "    </tr>\n",
       "    <tr>\n",
       "      <th>chile piquin</th>\n",
       "      <td>1</td>\n",
       "    </tr>\n",
       "    <tr>\n",
       "      <th>fiddlehead ferns</th>\n",
       "      <td>1</td>\n",
       "    </tr>\n",
       "    <tr>\n",
       "      <th>jamaican jerk</th>\n",
       "      <td>1</td>\n",
       "    </tr>\n",
       "    <tr>\n",
       "      <th>butternut</th>\n",
       "      <td>1</td>\n",
       "    </tr>\n",
       "    <tr>\n",
       "      <th>chestnut spread</th>\n",
       "      <td>1</td>\n",
       "    </tr>\n",
       "    <tr>\n",
       "      <th>one third less sodium chicken broth</th>\n",
       "      <td>1</td>\n",
       "    </tr>\n",
       "    <tr>\n",
       "      <th>low sodium cajun seasoning</th>\n",
       "      <td>1</td>\n",
       "    </tr>\n",
       "    <tr>\n",
       "      <th>non-dairy margarine</th>\n",
       "      <td>1</td>\n",
       "    </tr>\n",
       "    <tr>\n",
       "      <th>wood mushrooms</th>\n",
       "      <td>1</td>\n",
       "    </tr>\n",
       "    <tr>\n",
       "      <th>mojo marinade</th>\n",
       "      <td>1</td>\n",
       "    </tr>\n",
       "    <tr>\n",
       "      <th>soybean oil</th>\n",
       "      <td>1</td>\n",
       "    </tr>\n",
       "    <tr>\n",
       "      <th>assam</th>\n",
       "      <td>1</td>\n",
       "    </tr>\n",
       "    <tr>\n",
       "      <th>pareve margarine</th>\n",
       "      <td>1</td>\n",
       "    </tr>\n",
       "    <tr>\n",
       "      <th>bone-in short ribs</th>\n",
       "      <td>1</td>\n",
       "    </tr>\n",
       "  </tbody>\n",
       "</table>\n",
       "</div>"
      ],
      "text/plain": [
       "                                                       ingredient\n",
       "Crystal Farms Reduced Fat Shredded Marble Jack Cheese  1         \n",
       "chile piquin                                           1         \n",
       "fiddlehead ferns                                       1         \n",
       "jamaican jerk                                          1         \n",
       "butternut                                              1         \n",
       "chestnut spread                                        1         \n",
       "one third less sodium chicken broth                    1         \n",
       "low sodium cajun seasoning                             1         \n",
       "non-dairy margarine                                    1         \n",
       "wood mushrooms                                         1         \n",
       "mojo marinade                                          1         \n",
       "soybean oil                                            1         \n",
       "assam                                                  1         \n",
       "pareve margarine                                       1         \n",
       "bone-in short ribs                                     1         "
      ]
     },
     "execution_count": 570,
     "metadata": {},
     "output_type": "execute_result"
    }
   ],
   "source": [
    "pd.DataFrame(ing_cuisine['ingredient'].value_counts()[-15:])"
   ]
  },
  {
   "cell_type": "markdown",
   "metadata": {},
   "source": [
    "## Baseline Data Preparation"
   ]
  },
  {
   "cell_type": "code",
   "execution_count": 50,
   "metadata": {
    "collapsed": true
   },
   "outputs": [],
   "source": [
    "X_train, X_dev, y_train, y_dev = train_test_split(X_train_all, y_train_all, random_state=2)"
   ]
  },
  {
   "cell_type": "code",
   "execution_count": 51,
   "metadata": {},
   "outputs": [
    {
     "name": "stdout",
     "output_type": "stream",
     "text": [
      "The shape of X_train is (29830,)\n",
      "The shape of X_dev is  (9944,)\n",
      "The shape of y_train is (29830,)\n",
      "The shape of y_dev is (9944,)\n"
     ]
    }
   ],
   "source": [
    "print \"The shape of X_train is\", X_train.shape\n",
    "print \"The shape of X_dev is \", X_dev.shape\n",
    "print \"The shape of y_train is\", y_train.shape\n",
    "print \"The shape of y_dev is\", y_dev.shape"
   ]
  },
  {
   "cell_type": "code",
   "execution_count": 52,
   "metadata": {
    "collapsed": true
   },
   "outputs": [],
   "source": [
    "def list_to_string(l):\n",
    "    return '|'.join(l).replace(' ', '_').replace('|', ' ')\n",
    "\n",
    "X_train_str = X_train.apply(list_to_string)\n",
    "X_dev_str = X_dev.apply(list_to_string)"
   ]
  },
  {
   "cell_type": "markdown",
   "metadata": {},
   "source": [
    "## Baseline Model"
   ]
  },
  {
   "cell_type": "markdown",
   "metadata": {},
   "source": [
    "#### Training"
   ]
  },
  {
   "cell_type": "markdown",
   "metadata": {},
   "source": [
    "For the baseline model, we are starting with a very simple logistic regression model with no hyperparameter tuning. We will also be using a very basic count vectorizer. The goal of this is really to establish a baseline and understand what the metrics are for this very basic model. Note that no class balancing is done here for the baseline model. This will be explored in a subsequent section."
   ]
  },
  {
   "cell_type": "code",
   "execution_count": 495,
   "metadata": {},
   "outputs": [
    {
     "data": {
      "text/plain": [
       "Pipeline(memory=None,\n",
       "     steps=[('countvectorizer', CountVectorizer(analyzer=u'word', binary=True, decode_error=u'strict',\n",
       "        dtype=<type 'numpy.int64'>, encoding=u'utf-8', input=u'content',\n",
       "        lowercase=True, max_df=1.0, max_features=None, min_df=1,\n",
       "        ngram_range=(1, 1), preprocessor=None, stop_words=None,\n",
       "...ty='l2', random_state=None, solver='liblinear', tol=0.0001,\n",
       "          verbose=0, warm_start=False))])"
      ]
     },
     "execution_count": 495,
     "metadata": {},
     "output_type": "execute_result"
    }
   ],
   "source": [
    "base_pipeline = Pipeline(steps=[\n",
    "    ('countvectorizer', CountVectorizer(binary=True)),\n",
    "    ('lr', LogisticRegression()),\n",
    "])\n",
    "base_pipeline.fit(X_train_str, y_train)"
   ]
  },
  {
   "cell_type": "markdown",
   "metadata": {},
   "source": [
    "#### Evaluation - Accuracy"
   ]
  },
  {
   "cell_type": "code",
   "execution_count": 496,
   "metadata": {},
   "outputs": [
    {
     "name": "stdout",
     "output_type": "stream",
     "text": [
      "Accuracy of the base model is 0.776448109413\n"
     ]
    }
   ],
   "source": [
    "print \"Accuracy of the base model is\", base_pipeline.score(X_dev_str, y_dev)"
   ]
  },
  {
   "cell_type": "markdown",
   "metadata": {},
   "source": [
    "#### Confusion matrix\n",
    "From the confusion matrix, it can be seen that the baseline model confuses French and Italian cuisines considerably. Southern and Cajun Creole are also confused by the model."
   ]
  },
  {
   "cell_type": "code",
   "execution_count": 571,
   "metadata": {},
   "outputs": [
    {
     "data": {
      "text/plain": [
       "Text(0.5,1,u'Confusion matrix for the baseline model')"
      ]
     },
     "execution_count": 571,
     "metadata": {},
     "output_type": "execute_result"
    },
    {
     "data": {
      "image/png": "[encoded data removed]",
      "text/plain": [
       "<matplotlib.figure.Figure at 0x1a22964ad0>"
      ]
     },
     "metadata": {},
     "output_type": "display_data"
    }
   ],
   "source": [
    "cm = confusion_matrix(y_dev, y_pred)\n",
    "np.fill_diagonal(cm, 0)\n",
    "cm_df = pandas.DataFrame(cm, index=base_pipeline.classes_, columns=base_pipeline.classes_)\n",
    "\n",
    "plt.figure(figsize=(7,7))\n",
    "sn.set(font_scale=1.3)\n",
    "ax = sn.heatmap(cm_df, cmap=\"Blues\")\n",
    "plt.title(\"Confusion matrix for the baseline model\")"
   ]
  },
  {
   "cell_type": "markdown",
   "metadata": {},
   "source": [
    "#### Error Analysis"
   ]
  },
  {
   "cell_type": "code",
   "execution_count": 503,
   "metadata": {},
   "outputs": [
    {
     "data": {
      "text/html": [
       "<div>\n",
       "<style>\n",
       "    .dataframe thead tr:only-child th {\n",
       "        text-align: right;\n",
       "    }\n",
       "\n",
       "    .dataframe thead th {\n",
       "        text-align: left;\n",
       "    }\n",
       "\n",
       "    .dataframe tbody tr th {\n",
       "        vertical-align: top;\n",
       "    }\n",
       "</style>\n",
       "<table border=\"1\" class=\"dataframe\">\n",
       "  <thead>\n",
       "    <tr style=\"text-align: right;\">\n",
       "      <th></th>\n",
       "      <th>cuisine</th>\n",
       "      <th>ingredients</th>\n",
       "    </tr>\n",
       "  </thead>\n",
       "  <tbody>\n",
       "    <tr>\n",
       "      <th>0</th>\n",
       "      <td>greek</td>\n",
       "      <td>[romaine lettuce, black olives, grape tomatoes, garlic, pepper, purple onion, seasoning, garbanzo beans, feta cheese crumbles]</td>\n",
       "    </tr>\n",
       "    <tr>\n",
       "      <th>1</th>\n",
       "      <td>southern_us</td>\n",
       "      <td>[plain flour, ground pepper, salt, tomatoes, ground black pepper, thyme, eggs, green tomatoes, yellow corn meal, milk, vegetable oil]</td>\n",
       "    </tr>\n",
       "    <tr>\n",
       "      <th>2</th>\n",
       "      <td>filipino</td>\n",
       "      <td>[eggs, pepper, salt, mayonaise, cooking oil, green chilies, grilled chicken breasts, garlic powder, yellow onion, soy sauce, butter, chicken livers]</td>\n",
       "    </tr>\n",
       "    <tr>\n",
       "      <th>3</th>\n",
       "      <td>indian</td>\n",
       "      <td>[water, vegetable oil, wheat, salt]</td>\n",
       "    </tr>\n",
       "    <tr>\n",
       "      <th>4</th>\n",
       "      <td>indian</td>\n",
       "      <td>[black pepper, shallots, cornflour, cayenne pepper, onions, garlic paste, milk, butter, salt, lemon juice, water, chili powder, passata, oil, ground cumin, boneless chicken skinless thigh, garam masala, double cream, natural yogurt, bay leaf]</td>\n",
       "    </tr>\n",
       "    <tr>\n",
       "      <th>5</th>\n",
       "      <td>jamaican</td>\n",
       "      <td>[plain flour, sugar, butter, eggs, fresh ginger root, salt, ground cinnamon, milk, vanilla extract, ground ginger, powdered sugar, baking powder]</td>\n",
       "    </tr>\n",
       "    <tr>\n",
       "      <th>6</th>\n",
       "      <td>spanish</td>\n",
       "      <td>[olive oil, salt, medium shrimp, pepper, garlic, chopped cilantro, jalapeno chilies, flat leaf parsley, skirt steak, white vinegar, sea salt, bay leaf, chorizo sausage]</td>\n",
       "    </tr>\n",
       "    <tr>\n",
       "      <th>7</th>\n",
       "      <td>italian</td>\n",
       "      <td>[sugar, pistachio nuts, white almond bark, flour, vanilla extract, olive oil, almond extract, eggs, baking powder, dried cranberries]</td>\n",
       "    </tr>\n",
       "    <tr>\n",
       "      <th>8</th>\n",
       "      <td>mexican</td>\n",
       "      <td>[olive oil, purple onion, fresh pineapple, pork, poblano peppers, corn tortillas, cheddar cheese, ground black pepper, salt, iceberg lettuce, lime, jalapeno chilies, chopped cilantro fresh]</td>\n",
       "    </tr>\n",
       "    <tr>\n",
       "      <th>9</th>\n",
       "      <td>italian</td>\n",
       "      <td>[chopped tomatoes, fresh basil, garlic, extra-virgin olive oil, kosher salt, flat leaf parsley]</td>\n",
       "    </tr>\n",
       "    <tr>\n",
       "      <th>10</th>\n",
       "      <td>italian</td>\n",
       "      <td>[pimentos, sweet pepper, dried oregano, olive oil, garlic, sharp cheddar cheese, pepper, swiss cheese, provolone cheese, canola oil, mushrooms, black olives, sausages]</td>\n",
       "    </tr>\n",
       "    <tr>\n",
       "      <th>11</th>\n",
       "      <td>chinese</td>\n",
       "      <td>[low sodium soy sauce, fresh ginger, dry mustard, green beans, white pepper, sesame oil, scallions, canola oil, sugar, Shaoxing wine, garlic, ground turkey, water, crushed red pepper flakes, corn starch]</td>\n",
       "    </tr>\n",
       "    <tr>\n",
       "      <th>12</th>\n",
       "      <td>italian</td>\n",
       "      <td>[Italian parsley leaves, walnuts, hot red pepper flakes, extra-virgin olive oil, fresh lemon juice, trout fillet, garlic cloves, chipotle chile, fine sea salt, flat leaf parsley]</td>\n",
       "    </tr>\n",
       "    <tr>\n",
       "      <th>13</th>\n",
       "      <td>mexican</td>\n",
       "      <td>[ground cinnamon, fresh cilantro, chili powder, ground coriander, kosher salt, ground black pepper, garlic, plum tomatoes, avocado, lime juice, flank steak, salt, ground cumin, black pepper, olive oil, crushed red pepper flakes, onions]</td>\n",
       "    </tr>\n",
       "    <tr>\n",
       "      <th>14</th>\n",
       "      <td>italian</td>\n",
       "      <td>[fresh parmesan cheese, butter, all-purpose flour, fat free less sodium chicken broth, chopped fresh chives, gruyere cheese, ground black pepper, bacon slices, gnocchi, fat free milk, cooking spray, salt]</td>\n",
       "    </tr>\n",
       "    <tr>\n",
       "      <th>15</th>\n",
       "      <td>indian</td>\n",
       "      <td>[tumeric, vegetable stock, tomatoes, garam masala, naan, red lentils, red chili peppers, onions, spinach, sweet potatoes]</td>\n",
       "    </tr>\n",
       "    <tr>\n",
       "      <th>16</th>\n",
       "      <td>british</td>\n",
       "      <td>[greek yogurt, lemon curd, confectioners sugar, raspberries]</td>\n",
       "    </tr>\n",
       "    <tr>\n",
       "      <th>17</th>\n",
       "      <td>italian</td>\n",
       "      <td>[italian seasoning, broiler-fryer chicken, mayonaise, zesty italian dressing]</td>\n",
       "    </tr>\n",
       "    <tr>\n",
       "      <th>18</th>\n",
       "      <td>thai</td>\n",
       "      <td>[sugar, hot chili, asian fish sauce, lime juice]</td>\n",
       "    </tr>\n",
       "    <tr>\n",
       "      <th>19</th>\n",
       "      <td>vietnamese</td>\n",
       "      <td>[soy sauce, vegetable oil, red bell pepper, chicken broth, yellow squash, garlic chili sauce, sliced green onions, broccolini, salt, fresh lime juice, cooked rice, chicken breasts, corn starch]</td>\n",
       "    </tr>\n",
       "    <tr>\n",
       "      <th>20</th>\n",
       "      <td>thai</td>\n",
       "      <td>[pork loin, roasted peanuts, chopped cilantro fresh, hoisin sauce, creamy peanut butter, chopped fresh mint, thai basil, rice, medium shrimp, water, rice noodles, beansprouts]</td>\n",
       "    </tr>\n",
       "    <tr>\n",
       "      <th>21</th>\n",
       "      <td>mexican</td>\n",
       "      <td>[roma tomatoes, kosher salt, purple onion, jalapeno chilies, lime, chopped cilantro]</td>\n",
       "    </tr>\n",
       "    <tr>\n",
       "      <th>22</th>\n",
       "      <td>southern_us</td>\n",
       "      <td>[low-fat mayonnaise, pepper, salt, baking potatoes, eggs, spicy brown mustard]</td>\n",
       "    </tr>\n",
       "    <tr>\n",
       "      <th>23</th>\n",
       "      <td>chinese</td>\n",
       "      <td>[sesame seeds, red pepper, yellow peppers, water, extra firm tofu, broccoli, soy sauce, orange bell pepper, arrowroot powder, fresh ginger, sesame oil, red curry paste]</td>\n",
       "    </tr>\n",
       "    <tr>\n",
       "      <th>24</th>\n",
       "      <td>italian</td>\n",
       "      <td>[marinara sauce, flat leaf parsley, olive oil, linguine, capers, crushed red pepper flakes, olives, lemon zest, garlic]</td>\n",
       "    </tr>\n",
       "    <tr>\n",
       "      <th>25</th>\n",
       "      <td>chinese</td>\n",
       "      <td>[sugar, lo mein noodles, salt, chicken broth, light soy sauce, flank steak, beansprouts, dried black mushrooms, pepper, chives, oyster sauce, dark soy sauce, peanuts, sesame oil, cabbage]</td>\n",
       "    </tr>\n",
       "    <tr>\n",
       "      <th>26</th>\n",
       "      <td>cajun_creole</td>\n",
       "      <td>[herbs, lemon juice, fresh tomatoes, paprika, mango, stock, chile pepper, onions, red chili peppers, oil]</td>\n",
       "    </tr>\n",
       "    <tr>\n",
       "      <th>27</th>\n",
       "      <td>italian</td>\n",
       "      <td>[ground black pepper, butter, sliced mushrooms, sherry, salt, grated parmesan cheese, heavy cream, spaghetti, chicken broth, cooked chicken, all-purpose flour]</td>\n",
       "    </tr>\n",
       "    <tr>\n",
       "      <th>28</th>\n",
       "      <td>chinese</td>\n",
       "      <td>[green bell pepper, egg roll wrappers, sweet and sour sauce, corn starch, molasses, vegetable oil, oil, soy sauce, shredded cabbage, garlic, onions, fresh ginger root, ground pork, carrots]</td>\n",
       "    </tr>\n",
       "    <tr>\n",
       "      <th>29</th>\n",
       "      <td>mexican</td>\n",
       "      <td>[flour tortillas, cheese, breakfast sausages, large eggs]</td>\n",
       "    </tr>\n",
       "    <tr>\n",
       "      <th>...</th>\n",
       "      <td>...</td>\n",
       "      <td>...</td>\n",
       "    </tr>\n",
       "    <tr>\n",
       "      <th>39744</th>\n",
       "      <td>greek</td>\n",
       "      <td>[extra-virgin olive oil, oregano, potatoes, garlic cloves, pepper, salt, yellow mustard, fresh lemon juice]</td>\n",
       "    </tr>\n",
       "    <tr>\n",
       "      <th>39745</th>\n",
       "      <td>spanish</td>\n",
       "      <td>[quinoa, extra-virgin olive oil, fresh thyme leaves, scallion greens]</td>\n",
       "    </tr>\n",
       "    <tr>\n",
       "      <th>39746</th>\n",
       "      <td>indian</td>\n",
       "      <td>[clove, bay leaves, ginger, chopped cilantro, ground turmeric, white onion, cinnamon, cardamom pods, serrano chile, canola oil, kosher salt, dates, ground coriander, basmati rice, black peppercorns, russet potatoes, garlic, frozen peas, plum tomatoes]</td>\n",
       "    </tr>\n",
       "    <tr>\n",
       "      <th>39747</th>\n",
       "      <td>moroccan</td>\n",
       "      <td>[water, sugar, grated lemon zest, butter, pitted date, blanched almonds]</td>\n",
       "    </tr>\n",
       "    <tr>\n",
       "      <th>39748</th>\n",
       "      <td>italian</td>\n",
       "      <td>[sea salt, pizza doughs, all-purpose flour, cornmeal, extra-virgin olive oil, shredded mozzarella cheese, kosher salt, ricotta]</td>\n",
       "    </tr>\n",
       "    <tr>\n",
       "      <th>39749</th>\n",
       "      <td>mexican</td>\n",
       "      <td>[kosher salt, minced onion, tortilla chips, sugar, tomato juice, cilantro leaves, avocado, lime juice, roma tomatoes, Manzanilla olives, fish fillets, olive oil, Mexican oregano, serrano chile]</td>\n",
       "    </tr>\n",
       "    <tr>\n",
       "      <th>39750</th>\n",
       "      <td>mexican</td>\n",
       "      <td>[ground black pepper, chicken breasts, salsa, cheddar cheese, pepper jack, heavy cream, red enchilada sauce, unsalted butter, chili powder, tortilla chips, kosher salt, large eggs, mild green chiles, sour cream]</td>\n",
       "    </tr>\n",
       "    <tr>\n",
       "      <th>39751</th>\n",
       "      <td>moroccan</td>\n",
       "      <td>[olive oil, cayenne pepper, chopped cilantro fresh, boneless chicken skinless thigh, fine sea salt, low salt chicken broth, fennel bulb, fresh lemon juice, ground cumin, paprika, brine cured green olives]</td>\n",
       "    </tr>\n",
       "    <tr>\n",
       "      <th>39752</th>\n",
       "      <td>southern_us</td>\n",
       "      <td>[self rising flour, milk, white sugar, butter, peaches in light syrup]</td>\n",
       "    </tr>\n",
       "    <tr>\n",
       "      <th>39753</th>\n",
       "      <td>italian</td>\n",
       "      <td>[rosemary sprigs, lemon zest, garlic cloves, ground black pepper, vegetable broth, fresh basil leaves, minced garlic, extra-virgin olive oil, thyme sprigs, red potato, parsley leaves, artichokes]</td>\n",
       "    </tr>\n",
       "    <tr>\n",
       "      <th>39754</th>\n",
       "      <td>vietnamese</td>\n",
       "      <td>[jasmine rice, bay leaves, sticky rice, rotisserie chicken, chopped cilantro, large eggs, vegetable oil, yellow onion, beansprouts, lime, savory, salt, carrots, pepper, green onions, ginger, garlic cloves, peppercorns]</td>\n",
       "    </tr>\n",
       "    <tr>\n",
       "      <th>39755</th>\n",
       "      <td>indian</td>\n",
       "      <td>[mint leaves, cilantro leaves, ghee, tomatoes, cinnamon, oil, basmati rice, garlic paste, salt, coconut milk, clove, bay leaves, green chilies, onions]</td>\n",
       "    </tr>\n",
       "    <tr>\n",
       "      <th>39756</th>\n",
       "      <td>mexican</td>\n",
       "      <td>[vegetable oil, cinnamon sticks, water, all-purpose flour, piloncillo, salt, orange zest, baking powder, hot water]</td>\n",
       "    </tr>\n",
       "    <tr>\n",
       "      <th>39757</th>\n",
       "      <td>greek</td>\n",
       "      <td>[red bell pepper, garlic cloves, extra-virgin olive oil, feta cheese crumbles]</td>\n",
       "    </tr>\n",
       "    <tr>\n",
       "      <th>39758</th>\n",
       "      <td>greek</td>\n",
       "      <td>[milk, salt, ground cayenne pepper, ground lamb, ground cinnamon, ground black pepper, pomegranate, chopped fresh mint, pitas, ground coriander, fresh mint, ground cumin, kosher salt, purple onion, greek yogurt, canola oil]</td>\n",
       "    </tr>\n",
       "    <tr>\n",
       "      <th>39759</th>\n",
       "      <td>korean</td>\n",
       "      <td>[red chili peppers, sea salt, onions, water, chilli bean sauce, caster sugar, garlic, white vinegar, chili oil, cucumber]</td>\n",
       "    </tr>\n",
       "    <tr>\n",
       "      <th>39760</th>\n",
       "      <td>southern_us</td>\n",
       "      <td>[butter, large eggs, cornmeal, baking powder, boiling water, milk, salt]</td>\n",
       "    </tr>\n",
       "    <tr>\n",
       "      <th>39761</th>\n",
       "      <td>chinese</td>\n",
       "      <td>[honey, chicken breast halves, cilantro leaves, carrots, soy sauce, Sriracha, wonton wrappers, freshly ground pepper, beansprouts, fresh ginger, shallots, rice vinegar, red bell pepper, kosher salt, green onions, napa cabbage, garlic cloves, canola oil]</td>\n",
       "    </tr>\n",
       "    <tr>\n",
       "      <th>39762</th>\n",
       "      <td>indian</td>\n",
       "      <td>[curry powder, salt, chicken, water, vegetable oil, basmati rice, eggs, finely chopped onion, lemon juice, pepper, mango chutney, puff pastry]</td>\n",
       "    </tr>\n",
       "    <tr>\n",
       "      <th>39763</th>\n",
       "      <td>italian</td>\n",
       "      <td>[fettuccine pasta, low-fat cream cheese, garlic, nonfat evaporated milk, grated parmesan cheese, corn starch, nonfat milk]</td>\n",
       "    </tr>\n",
       "    <tr>\n",
       "      <th>39764</th>\n",
       "      <td>mexican</td>\n",
       "      <td>[chili powder, worcestershire sauce, celery, red kidney beans, lean ground beef, stewed tomatoes, dried parsley, pepper, red wine vinegar, salt, ground cumin, dried basil, red wine, red bell pepper]</td>\n",
       "    </tr>\n",
       "    <tr>\n",
       "      <th>39765</th>\n",
       "      <td>indian</td>\n",
       "      <td>[coconut, unsweetened coconut milk, mint leaves, plain yogurt]</td>\n",
       "    </tr>\n",
       "    <tr>\n",
       "      <th>39766</th>\n",
       "      <td>irish</td>\n",
       "      <td>[rutabaga, ham, thick-cut bacon, potatoes, fresh parsley, salt, onions, pepper, carrots, pork sausages]</td>\n",
       "    </tr>\n",
       "    <tr>\n",
       "      <th>39767</th>\n",
       "      <td>italian</td>\n",
       "      <td>[low-fat sour cream, grated parmesan cheese, salt, dried oregano, low-fat cottage cheese, butter, onions, olive oil, artichok heart marin, ground cayenne pepper, ground black pepper, garlic, spaghetti]</td>\n",
       "    </tr>\n",
       "    <tr>\n",
       "      <th>39768</th>\n",
       "      <td>mexican</td>\n",
       "      <td>[shredded cheddar cheese, crushed cheese crackers, cheddar cheese soup, cream of chicken soup, hot sauce, diced green chilies, salt, pepper, cooked chicken, rotini]</td>\n",
       "    </tr>\n",
       "    <tr>\n",
       "      <th>39769</th>\n",
       "      <td>irish</td>\n",
       "      <td>[light brown sugar, granulated sugar, butter, warm water, large eggs, all-purpose flour, whole wheat flour, cooking spray, boiling water, steel-cut oats, dry yeast, salt]</td>\n",
       "    </tr>\n",
       "    <tr>\n",
       "      <th>39770</th>\n",
       "      <td>italian</td>\n",
       "      <td>[KRAFT Zesty Italian Dressing, purple onion, broccoli florets, rotini, pitted black olives, Kraft Grated Parmesan Cheese, red pepper]</td>\n",
       "    </tr>\n",
       "    <tr>\n",
       "      <th>39771</th>\n",
       "      <td>irish</td>\n",
       "      <td>[eggs, citrus fruit, raisins, sourdough starter, flour, hot tea, sugar, ground nutmeg, salt, ground cinnamon, milk, butter]</td>\n",
       "    </tr>\n",
       "    <tr>\n",
       "      <th>39772</th>\n",
       "      <td>chinese</td>\n",
       "      <td>[boneless chicken skinless thigh, minced garlic, steamed white rice, baking powder, corn starch, dark soy sauce, kosher salt, peanuts, flour, scallions, Chinese rice vinegar, vodka, fresh ginger, egg whites, broccoli, toasted sesame seeds, sugar, store bought low sodium chicken stock, baking soda, Shaoxing wine, oil]</td>\n",
       "    </tr>\n",
       "    <tr>\n",
       "      <th>39773</th>\n",
       "      <td>mexican</td>\n",
       "      <td>[green chile, jalapeno chilies, onions, ground black pepper, salt, chopped cilantro fresh, green bell pepper, garlic, white sugar, roma tomatoes, celery, dried oregano]</td>\n",
       "    </tr>\n",
       "  </tbody>\n",
       "</table>\n",
       "<p>39774 rows × 2 columns</p>\n",
       "</div>"
      ],
      "text/plain": [
       "            cuisine  \\\n",
       "0      greek          \n",
       "1      southern_us    \n",
       "2      filipino       \n",
       "3      indian         \n",
       "4      indian         \n",
       "5      jamaican       \n",
       "6      spanish        \n",
       "7      italian        \n",
       "8      mexican        \n",
       "9      italian        \n",
       "10     italian        \n",
       "11     chinese        \n",
       "12     italian        \n",
       "13     mexican        \n",
       "14     italian        \n",
       "15     indian         \n",
       "16     british        \n",
       "17     italian        \n",
       "18     thai           \n",
       "19     vietnamese     \n",
       "20     thai           \n",
       "21     mexican        \n",
       "22     southern_us    \n",
       "23     chinese        \n",
       "24     italian        \n",
       "25     chinese        \n",
       "26     cajun_creole   \n",
       "27     italian        \n",
       "28     chinese        \n",
       "29     mexican        \n",
       "...        ...        \n",
       "39744  greek          \n",
       "39745  spanish        \n",
       "39746  indian         \n",
       "39747  moroccan       \n",
       "39748  italian        \n",
       "39749  mexican        \n",
       "39750  mexican        \n",
       "39751  moroccan       \n",
       "39752  southern_us    \n",
       "39753  italian        \n",
       "39754  vietnamese     \n",
       "39755  indian         \n",
       "39756  mexican        \n",
       "39757  greek          \n",
       "39758  greek          \n",
       "39759  korean         \n",
       "39760  southern_us    \n",
       "39761  chinese        \n",
       "39762  indian         \n",
       "39763  italian        \n",
       "39764  mexican        \n",
       "39765  indian         \n",
       "39766  irish          \n",
       "39767  italian        \n",
       "39768  mexican        \n",
       "39769  irish          \n",
       "39770  italian        \n",
       "39771  irish          \n",
       "39772  chinese        \n",
       "39773  mexican        \n",
       "\n",
       "                                                                                                                                                                                                                                                                                                                          ingredients  \n",
       "0      [romaine lettuce, black olives, grape tomatoes, garlic, pepper, purple onion, seasoning, garbanzo beans, feta cheese crumbles]                                                                                                                                                                                                  \n",
       "1      [plain flour, ground pepper, salt, tomatoes, ground black pepper, thyme, eggs, green tomatoes, yellow corn meal, milk, vegetable oil]                                                                                                                                                                                           \n",
       "2      [eggs, pepper, salt, mayonaise, cooking oil, green chilies, grilled chicken breasts, garlic powder, yellow onion, soy sauce, butter, chicken livers]                                                                                                                                                                            \n",
       "3      [water, vegetable oil, wheat, salt]                                                                                                                                                                                                                                                                                             \n",
       "4      [black pepper, shallots, cornflour, cayenne pepper, onions, garlic paste, milk, butter, salt, lemon juice, water, chili powder, passata, oil, ground cumin, boneless chicken skinless thigh, garam masala, double cream, natural yogurt, bay leaf]                                                                              \n",
       "5      [plain flour, sugar, butter, eggs, fresh ginger root, salt, ground cinnamon, milk, vanilla extract, ground ginger, powdered sugar, baking powder]                                                                                                                                                                               \n",
       "6      [olive oil, salt, medium shrimp, pepper, garlic, chopped cilantro, jalapeno chilies, flat leaf parsley, skirt steak, white vinegar, sea salt, bay leaf, chorizo sausage]                                                                                                                                                        \n",
       "7      [sugar, pistachio nuts, white almond bark, flour, vanilla extract, olive oil, almond extract, eggs, baking powder, dried cranberries]                                                                                                                                                                                           \n",
       "8      [olive oil, purple onion, fresh pineapple, pork, poblano peppers, corn tortillas, cheddar cheese, ground black pepper, salt, iceberg lettuce, lime, jalapeno chilies, chopped cilantro fresh]                                                                                                                                   \n",
       "9      [chopped tomatoes, fresh basil, garlic, extra-virgin olive oil, kosher salt, flat leaf parsley]                                                                                                                                                                                                                                 \n",
       "10     [pimentos, sweet pepper, dried oregano, olive oil, garlic, sharp cheddar cheese, pepper, swiss cheese, provolone cheese, canola oil, mushrooms, black olives, sausages]                                                                                                                                                         \n",
       "11     [low sodium soy sauce, fresh ginger, dry mustard, green beans, white pepper, sesame oil, scallions, canola oil, sugar, Shaoxing wine, garlic, ground turkey, water, crushed red pepper flakes, corn starch]                                                                                                                     \n",
       "12     [Italian parsley leaves, walnuts, hot red pepper flakes, extra-virgin olive oil, fresh lemon juice, trout fillet, garlic cloves, chipotle chile, fine sea salt, flat leaf parsley]                                                                                                                                              \n",
       "13     [ground cinnamon, fresh cilantro, chili powder, ground coriander, kosher salt, ground black pepper, garlic, plum tomatoes, avocado, lime juice, flank steak, salt, ground cumin, black pepper, olive oil, crushed red pepper flakes, onions]                                                                                    \n",
       "14     [fresh parmesan cheese, butter, all-purpose flour, fat free less sodium chicken broth, chopped fresh chives, gruyere cheese, ground black pepper, bacon slices, gnocchi, fat free milk, cooking spray, salt]                                                                                                                    \n",
       "15     [tumeric, vegetable stock, tomatoes, garam masala, naan, red lentils, red chili peppers, onions, spinach, sweet potatoes]                                                                                                                                                                                                       \n",
       "16     [greek yogurt, lemon curd, confectioners sugar, raspberries]                                                                                                                                                                                                                                                                    \n",
       "17     [italian seasoning, broiler-fryer chicken, mayonaise, zesty italian dressing]                                                                                                                                                                                                                                                   \n",
       "18     [sugar, hot chili, asian fish sauce, lime juice]                                                                                                                                                                                                                                                                                \n",
       "19     [soy sauce, vegetable oil, red bell pepper, chicken broth, yellow squash, garlic chili sauce, sliced green onions, broccolini, salt, fresh lime juice, cooked rice, chicken breasts, corn starch]                                                                                                                               \n",
       "20     [pork loin, roasted peanuts, chopped cilantro fresh, hoisin sauce, creamy peanut butter, chopped fresh mint, thai basil, rice, medium shrimp, water, rice noodles, beansprouts]                                                                                                                                                 \n",
       "21     [roma tomatoes, kosher salt, purple onion, jalapeno chilies, lime, chopped cilantro]                                                                                                                                                                                                                                            \n",
       "22     [low-fat mayonnaise, pepper, salt, baking potatoes, eggs, spicy brown mustard]                                                                                                                                                                                                                                                  \n",
       "23     [sesame seeds, red pepper, yellow peppers, water, extra firm tofu, broccoli, soy sauce, orange bell pepper, arrowroot powder, fresh ginger, sesame oil, red curry paste]                                                                                                                                                        \n",
       "24     [marinara sauce, flat leaf parsley, olive oil, linguine, capers, crushed red pepper flakes, olives, lemon zest, garlic]                                                                                                                                                                                                         \n",
       "25     [sugar, lo mein noodles, salt, chicken broth, light soy sauce, flank steak, beansprouts, dried black mushrooms, pepper, chives, oyster sauce, dark soy sauce, peanuts, sesame oil, cabbage]                                                                                                                                     \n",
       "26     [herbs, lemon juice, fresh tomatoes, paprika, mango, stock, chile pepper, onions, red chili peppers, oil]                                                                                                                                                                                                                       \n",
       "27     [ground black pepper, butter, sliced mushrooms, sherry, salt, grated parmesan cheese, heavy cream, spaghetti, chicken broth, cooked chicken, all-purpose flour]                                                                                                                                                                 \n",
       "28     [green bell pepper, egg roll wrappers, sweet and sour sauce, corn starch, molasses, vegetable oil, oil, soy sauce, shredded cabbage, garlic, onions, fresh ginger root, ground pork, carrots]                                                                                                                                   \n",
       "29     [flour tortillas, cheese, breakfast sausages, large eggs]                                                                                                                                                                                                                                                                       \n",
       "...                                                          ...                                                                                                                                                                                                                                                                       \n",
       "39744  [extra-virgin olive oil, oregano, potatoes, garlic cloves, pepper, salt, yellow mustard, fresh lemon juice]                                                                                                                                                                                                                     \n",
       "39745  [quinoa, extra-virgin olive oil, fresh thyme leaves, scallion greens]                                                                                                                                                                                                                                                           \n",
       "39746  [clove, bay leaves, ginger, chopped cilantro, ground turmeric, white onion, cinnamon, cardamom pods, serrano chile, canola oil, kosher salt, dates, ground coriander, basmati rice, black peppercorns, russet potatoes, garlic, frozen peas, plum tomatoes]                                                                     \n",
       "39747  [water, sugar, grated lemon zest, butter, pitted date, blanched almonds]                                                                                                                                                                                                                                                        \n",
       "39748  [sea salt, pizza doughs, all-purpose flour, cornmeal, extra-virgin olive oil, shredded mozzarella cheese, kosher salt, ricotta]                                                                                                                                                                                                 \n",
       "39749  [kosher salt, minced onion, tortilla chips, sugar, tomato juice, cilantro leaves, avocado, lime juice, roma tomatoes, Manzanilla olives, fish fillets, olive oil, Mexican oregano, serrano chile]                                                                                                                               \n",
       "39750  [ground black pepper, chicken breasts, salsa, cheddar cheese, pepper jack, heavy cream, red enchilada sauce, unsalted butter, chili powder, tortilla chips, kosher salt, large eggs, mild green chiles, sour cream]                                                                                                             \n",
       "39751  [olive oil, cayenne pepper, chopped cilantro fresh, boneless chicken skinless thigh, fine sea salt, low salt chicken broth, fennel bulb, fresh lemon juice, ground cumin, paprika, brine cured green olives]                                                                                                                    \n",
       "39752  [self rising flour, milk, white sugar, butter, peaches in light syrup]                                                                                                                                                                                                                                                          \n",
       "39753  [rosemary sprigs, lemon zest, garlic cloves, ground black pepper, vegetable broth, fresh basil leaves, minced garlic, extra-virgin olive oil, thyme sprigs, red potato, parsley leaves, artichokes]                                                                                                                             \n",
       "39754  [jasmine rice, bay leaves, sticky rice, rotisserie chicken, chopped cilantro, large eggs, vegetable oil, yellow onion, beansprouts, lime, savory, salt, carrots, pepper, green onions, ginger, garlic cloves, peppercorns]                                                                                                      \n",
       "39755  [mint leaves, cilantro leaves, ghee, tomatoes, cinnamon, oil, basmati rice, garlic paste, salt, coconut milk, clove, bay leaves, green chilies, onions]                                                                                                                                                                         \n",
       "39756  [vegetable oil, cinnamon sticks, water, all-purpose flour, piloncillo, salt, orange zest, baking powder, hot water]                                                                                                                                                                                                             \n",
       "39757  [red bell pepper, garlic cloves, extra-virgin olive oil, feta cheese crumbles]                                                                                                                                                                                                                                                  \n",
       "39758  [milk, salt, ground cayenne pepper, ground lamb, ground cinnamon, ground black pepper, pomegranate, chopped fresh mint, pitas, ground coriander, fresh mint, ground cumin, kosher salt, purple onion, greek yogurt, canola oil]                                                                                                 \n",
       "39759  [red chili peppers, sea salt, onions, water, chilli bean sauce, caster sugar, garlic, white vinegar, chili oil, cucumber]                                                                                                                                                                                                       \n",
       "39760  [butter, large eggs, cornmeal, baking powder, boiling water, milk, salt]                                                                                                                                                                                                                                                        \n",
       "39761  [honey, chicken breast halves, cilantro leaves, carrots, soy sauce, Sriracha, wonton wrappers, freshly ground pepper, beansprouts, fresh ginger, shallots, rice vinegar, red bell pepper, kosher salt, green onions, napa cabbage, garlic cloves, canola oil]                                                                   \n",
       "39762  [curry powder, salt, chicken, water, vegetable oil, basmati rice, eggs, finely chopped onion, lemon juice, pepper, mango chutney, puff pastry]                                                                                                                                                                                  \n",
       "39763  [fettuccine pasta, low-fat cream cheese, garlic, nonfat evaporated milk, grated parmesan cheese, corn starch, nonfat milk]                                                                                                                                                                                                      \n",
       "39764  [chili powder, worcestershire sauce, celery, red kidney beans, lean ground beef, stewed tomatoes, dried parsley, pepper, red wine vinegar, salt, ground cumin, dried basil, red wine, red bell pepper]                                                                                                                          \n",
       "39765  [coconut, unsweetened coconut milk, mint leaves, plain yogurt]                                                                                                                                                                                                                                                                  \n",
       "39766  [rutabaga, ham, thick-cut bacon, potatoes, fresh parsley, salt, onions, pepper, carrots, pork sausages]                                                                                                                                                                                                                         \n",
       "39767  [low-fat sour cream, grated parmesan cheese, salt, dried oregano, low-fat cottage cheese, butter, onions, olive oil, artichok heart marin, ground cayenne pepper, ground black pepper, garlic, spaghetti]                                                                                                                       \n",
       "39768  [shredded cheddar cheese, crushed cheese crackers, cheddar cheese soup, cream of chicken soup, hot sauce, diced green chilies, salt, pepper, cooked chicken, rotini]                                                                                                                                                            \n",
       "39769  [light brown sugar, granulated sugar, butter, warm water, large eggs, all-purpose flour, whole wheat flour, cooking spray, boiling water, steel-cut oats, dry yeast, salt]                                                                                                                                                      \n",
       "39770  [KRAFT Zesty Italian Dressing, purple onion, broccoli florets, rotini, pitted black olives, Kraft Grated Parmesan Cheese, red pepper]                                                                                                                                                                                           \n",
       "39771  [eggs, citrus fruit, raisins, sourdough starter, flour, hot tea, sugar, ground nutmeg, salt, ground cinnamon, milk, butter]                                                                                                                                                                                                     \n",
       "39772  [boneless chicken skinless thigh, minced garlic, steamed white rice, baking powder, corn starch, dark soy sauce, kosher salt, peanuts, flour, scallions, Chinese rice vinegar, vodka, fresh ginger, egg whites, broccoli, toasted sesame seeds, sugar, store bought low sodium chicken stock, baking soda, Shaoxing wine, oil]  \n",
       "39773  [green chile, jalapeno chilies, onions, ground black pepper, salt, chopped cilantro fresh, green bell pepper, garlic, white sugar, roma tomatoes, celery, dried oregano]                                                                                                                                                        \n",
       "\n",
       "[39774 rows x 2 columns]"
      ]
     },
     "execution_count": 503,
     "metadata": {},
     "output_type": "execute_result"
    }
   ],
   "source": [
    "pd.set_option('display.max_colwidth', -1)\n",
    "train[['cuisine', 'ingredients']]"
   ]
  },
  {
   "cell_type": "markdown",
   "metadata": {},
   "source": [
    "## [SUGGEST WE REMOVE] Model with Balanced Training Classes"
   ]
  },
  {
   "cell_type": "code",
   "execution_count": 257,
   "metadata": {},
   "outputs": [
    {
     "data": {
      "text/plain": [
       "cajun_creole    5875\n",
       "russian         5875\n",
       "filipino        5875\n",
       "french          5875\n",
       "spanish         5875\n",
       "brazilian       5875\n",
       "jamaican        5875\n",
       "mexican         5875\n",
       "moroccan        5875\n",
       "vietnamese      5875\n",
       "indian          5875\n",
       "korean          5875\n",
       "italian         5875\n",
       "irish           5875\n",
       "southern_us     5875\n",
       "greek           5875\n",
       "british         5875\n",
       "thai            5875\n",
       "chinese         5875\n",
       "japanese        5875\n",
       "Name: cuisine, dtype: int64"
      ]
     },
     "execution_count": 257,
     "metadata": {},
     "output_type": "execute_result"
    }
   ],
   "source": [
    "train_all = pd.DataFrame([X_train_str, y_train]).T\n",
    "max_count = y_train.value_counts().max()\n",
    "max_class = y_train.value_counts().idxmax()\n",
    "\n",
    "resampled_train_all = train_all[train_all.cuisine == max_class]\n",
    "for c in y_train.unique():\n",
    "    if c == max_class:\n",
    "        continue\n",
    "        \n",
    "    c_train_all = train_all[train_all.cuisine == c]\n",
    "    c_train_all = resample(c_train_all, replace=True, n_samples=max_count, random_state=123)\n",
    "    resampled_train_all = resampled_train_all.append(c_train_all)\n",
    "\n",
    "resampled_train_all.cuisine.value_counts()"
   ]
  },
  {
   "cell_type": "code",
   "execution_count": 260,
   "metadata": {},
   "outputs": [
    {
     "data": {
      "text/plain": [
       "Pipeline(memory=None,\n",
       "     steps=[('countvectorizer', CountVectorizer(analyzer=u'word', binary=True, decode_error=u'strict',\n",
       "        dtype=<type 'numpy.int64'>, encoding=u'utf-8', input=u'content',\n",
       "        lowercase=True, max_df=1.0, max_features=None, min_df=1,\n",
       "        ngram_range=(1, 1), preprocessor=None, stop_words=None,\n",
       "...ty='l2', random_state=None, solver='liblinear', tol=0.0001,\n",
       "          verbose=0, warm_start=False))])"
      ]
     },
     "execution_count": 260,
     "metadata": {},
     "output_type": "execute_result"
    }
   ],
   "source": [
    "base_pipeline = Pipeline(steps=[\n",
    "    ('countvectorizer', CountVectorizer(binary=True)),\n",
    "    ('lr', LogisticRegression()),\n",
    "])\n",
    "base_pipeline.fit(resampled_train_all.ingredients, resampled_train_all.cuisine)"
   ]
  },
  {
   "cell_type": "code",
   "execution_count": 261,
   "metadata": {},
   "outputs": [
    {
     "name": "stdout",
     "output_type": "stream",
     "text": [
      "Accuracy of the base model is 0.740949316171\n"
     ]
    }
   ],
   "source": [
    "print \"Accuracy of the base model is\", base_pipeline.score(X_dev_str, y_dev)"
   ]
  },
  {
   "cell_type": "markdown",
   "metadata": {},
   "source": [
    "## Baseline Model with Broadmatch"
   ]
  },
  {
   "cell_type": "markdown",
   "metadata": {},
   "source": [
    "#### Broadmatch Technique"
   ]
  },
  {
   "cell_type": "markdown",
   "metadata": {},
   "source": [
    "To address the problem of normalizing the long, \"uncommon\" ingredients like \"one third less sodium chicken broth\" to just \"chicken broth\", we feel this will improve model performance, since if an ingredient in the test set has not been seen before from the training set, then that ingredient has no predictive power. That said, the ingredient may just have been a common ingredient with a unique modifier term.\n",
    "\n",
    "Here we introduce a technique called \"broadmatching\" where we take each ingredient and recurisively drop terms to see if the resulting substring is a more common ingredient than the original ingredient. To assess what is more \"common\", we leverage the training set to look at how many recipes contain the ingredient. E.g. \"salt\" would have a high num_recipes where as \"finely grounded sea salt\" would have a low num_recipes."
   ]
  },
  {
   "cell_type": "code",
   "execution_count": 548,
   "metadata": {
    "collapsed": true
   },
   "outputs": [],
   "source": [
    "# Helper function for normalizing strings\n",
    "def normalize(s):\n",
    "    lm = WordNetLemmatizer()\n",
    "    printable = string.printable\n",
    "    PERMITTED_CHARS = \"abcdefghijklmnopqrstuvwxyzABCDEFGHIJKLMNOPQRSTUVWXYZ \" \n",
    "\n",
    "    filter(lambda x: x in printable, s)\n",
    "    s = \"\".join(c for c in s if c in PERMITTED_CHARS)\n",
    "    s = lm.lemmatize(s.lower())\n",
    "\n",
    "    return s \n",
    "\n",
    "# Build a list of ingredients across all recipes (used for counting later)\n",
    "ingredient_list = []\n",
    "i = 0\n",
    "for ingredients in X_train_str:\n",
    "    for ingredient in ingredients.split(' '):\n",
    "        ingredient_list.append(normalize(ingredient.replace('_', ' ')))\n",
    "        \n",
    "# Flatten the list to an ingredient - count table, to be used for broadmatching\n",
    "ing_counts = pd.DataFrame(ingredient_list, columns=['num_recipes']).num_recipes.value_counts()\n",
    "ing_df = pd.DataFrame(ing_counts)\n",
    "ing_df.index.names = ['ingredient']\n",
    "\n",
    "# Given an ingredient, return all subsets of the ingredient string as a list of strings\n",
    "def get_substrings(ingredient):\n",
    "    # Base case - Return an empty list of the string is empty\n",
    "    if ingredient == '':\n",
    "        return []\n",
    "    \n",
    "    word_list = ingredient.split(' ')\n",
    "    substring_list = []\n",
    "    substring_list.append(ingredient)\n",
    "    \n",
    "    # Base case - Return a list with only the ingredient if there is only one word\n",
    "    if len(word_list) == 1:\n",
    "        return substring_list\n",
    "    \n",
    "    # Recursive Case    \n",
    "    for i in range(len(word_list)):\n",
    "        new_list = np.array(word_list, copy=True).tolist()\n",
    "        new_list.remove(word_list[i])\n",
    "        substring_word = ' '.join(new_list)\n",
    "        substring_list.append(substring_word)\n",
    "        \n",
    "        sub_list = get_substrings(substring_word)\n",
    "        for w in sub_list:\n",
    "            substring_list.append(w)\n",
    "\n",
    "    return substring_list\n",
    "\n",
    "# Dedupes the output list of get_substrings function\n",
    "def get_substrings_deduped(substring_list):\n",
    "    return np.unique(get_substrings(substring_list)).tolist()"
   ]
  },
  {
   "cell_type": "code",
   "execution_count": 525,
   "metadata": {},
   "outputs": [
    {
     "data": {
      "text/html": [
       "<div>\n",
       "<style>\n",
       "    .dataframe thead tr:only-child th {\n",
       "        text-align: right;\n",
       "    }\n",
       "\n",
       "    .dataframe thead th {\n",
       "        text-align: left;\n",
       "    }\n",
       "\n",
       "    .dataframe tbody tr th {\n",
       "        vertical-align: top;\n",
       "    }\n",
       "</style>\n",
       "<table border=\"1\" class=\"dataframe\">\n",
       "  <thead>\n",
       "    <tr style=\"text-align: right;\">\n",
       "      <th></th>\n",
       "      <th>Original Ingredient</th>\n",
       "      <th>Broadmatched Ingredient</th>\n",
       "    </tr>\n",
       "  </thead>\n",
       "  <tbody>\n",
       "    <tr>\n",
       "      <th>0</th>\n",
       "      <td>salt</td>\n",
       "      <td>salt</td>\n",
       "    </tr>\n",
       "    <tr>\n",
       "      <th>1</th>\n",
       "      <td>onion</td>\n",
       "      <td>onion</td>\n",
       "    </tr>\n",
       "    <tr>\n",
       "      <th>2</th>\n",
       "      <td>olive oil</td>\n",
       "      <td>olive oil</td>\n",
       "    </tr>\n",
       "    <tr>\n",
       "      <th>3</th>\n",
       "      <td>water</td>\n",
       "      <td>water</td>\n",
       "    </tr>\n",
       "    <tr>\n",
       "      <th>4</th>\n",
       "      <td>garlic</td>\n",
       "      <td>garlic</td>\n",
       "    </tr>\n",
       "    <tr>\n",
       "      <th>5</th>\n",
       "      <td>sugar</td>\n",
       "      <td>sugar</td>\n",
       "    </tr>\n",
       "    <tr>\n",
       "      <th>6</th>\n",
       "      <td>garlic cloves</td>\n",
       "      <td>garlic</td>\n",
       "    </tr>\n",
       "    <tr>\n",
       "      <th>7</th>\n",
       "      <td>butter</td>\n",
       "      <td>butter</td>\n",
       "    </tr>\n",
       "    <tr>\n",
       "      <th>8</th>\n",
       "      <td>ground black pepper</td>\n",
       "      <td>ground black pepper</td>\n",
       "    </tr>\n",
       "    <tr>\n",
       "      <th>9</th>\n",
       "      <td>allpurpose flour</td>\n",
       "      <td>allpurpose flour</td>\n",
       "    </tr>\n",
       "  </tbody>\n",
       "</table>\n",
       "</div>"
      ],
      "text/plain": [
       "   Original Ingredient Broadmatched Ingredient\n",
       "0  salt                 salt                  \n",
       "1  onion                onion                 \n",
       "2  olive oil            olive oil             \n",
       "3  water                water                 \n",
       "4  garlic               garlic                \n",
       "5  sugar                sugar                 \n",
       "6  garlic cloves        garlic                \n",
       "7  butter               butter                \n",
       "8  ground black pepper  ground black pepper   \n",
       "9  allpurpose flour     allpurpose flour      "
      ]
     },
     "execution_count": 525,
     "metadata": {},
     "output_type": "execute_result"
    }
   ],
   "source": [
    "# Finding the broadmatched ingredient for each unique ingredient, storing in a dataframe as a look-up table\n",
    "# Note: This code takes quite a bit of time to compute\n",
    "norm_ing_arr = []\n",
    "for i in range(len(ing_df.index)):\n",
    "    norm_ing_arr.append([ing_df.index[i], broadmatch(ing_df.index[i])])\n",
    "    \n",
    "norm_ing_df = pd.DataFrame(norm_ing_arr, columns = ['Original Ingredient', 'Broadmatched Ingredient'])\n",
    "norm_ing_df.head(10)"
   ]
  },
  {
   "cell_type": "markdown",
   "metadata": {},
   "source": [
    "#### Broadmatch Analysis\n",
    "Broadmatching seems to have greatly reduced the number of unique ingredients in the training data. This shows good signs that broadmatching was able to deduplicate tail ingredients to more common ingredient."
   ]
  },
  {
   "cell_type": "code",
   "execution_count": 549,
   "metadata": {},
   "outputs": [
    {
     "name": "stdout",
     "output_type": "stream",
     "text": [
      "Number of unique ingredients before broadmatching 6224\n",
      "Number of unique ingredients after broadmatching 2187\n"
     ]
    }
   ],
   "source": [
    "print \"Number of unique ingredients before broadmatching %d\" % norm_ing_df['Original Ingredient'].unique().shape\n",
    "print \"Number of unique ingredients after broadmatching %d\" % norm_ing_df['Broadmatched Ingredient'].unique().shape"
   ]
  },
  {
   "cell_type": "markdown",
   "metadata": {},
   "source": [
    "Below are a few examples where broad matching tends to do really well. In these cases, dropping terms led to finding a more common ingredient that would be more relevant for training purposes."
   ]
  },
  {
   "cell_type": "code",
   "execution_count": 543,
   "metadata": {},
   "outputs": [
    {
     "name": "stdout",
     "output_type": "stream",
     "text": [
      "Good examples:\n",
      "frozen lemonade concentrate thawed and undiluted --> frozen lemonade concentrate\n",
      "tomato sauce low sodium --> tomato\n",
      "johnsonville hot  spicy sausage slices --> sausage\n",
      "new mexico red chile powder --> chile\n"
     ]
    }
   ],
   "source": [
    "print \"Good examples:\"\n",
    "print \"frozen lemonade concentrate thawed and undiluted --> %s\" % broadmatch(\"frozen lemonade concentrate thawed and undiluted\")\n",
    "print \"tomato sauce low sodium --> %s\" % broadmatch(\"tomato sauce low sodium\")\n",
    "print \"johnsonville hot  spicy sausage slices --> %s\" % broadmatch(\"johnsonville hot  spicy sausage slices\")\n",
    "print \"new mexico red chile powder --> %s\" % broadmatch(\"new mexico red chile powder\")\n",
    "print \"raw peeled prawns --> %s\" % broadmatch(\"raw peeled prawns\")"
   ]
  },
  {
   "cell_type": "markdown",
   "metadata": {},
   "source": [
    "That said, there are also some examples where broadmatching does not tend to work well. In some cases, broadmatching was too aggressive, where the broadmatched ingredient was too common. In other cases, a relevant term gets dropped, in which case the actually ingredient changed after broadmatching. From inspection, it does look like broadmatching works well in more cases than not work well."
   ]
  },
  {
   "cell_type": "code",
   "execution_count": 544,
   "metadata": {},
   "outputs": [
    {
     "name": "stdout",
     "output_type": "stream",
     "text": [
      "Bad examples:\n",
      "condensed cream of broccoli soup --> cream\n",
      "orange pekoe tea --> orange\n",
      "whole wheat pita pockets --> pita\n",
      "garlic herb spreadable cheese --> garlic\n",
      "reduced sodium beef stock --> beef\n"
     ]
    }
   ],
   "source": [
    "print \"Bad examples:\"\n",
    "print \"condensed cream of broccoli soup --> %s\" % broadmatch(\"condensed cream of broccoli soup\")\n",
    "print \"orange pekoe tea --> %s\" % broadmatch(\"orange pekoe tea\")\n",
    "print \"whole wheat pita pockets --> %s\" % broadmatch(\"whole wheat pita pockets\")\n",
    "print \"garlic herb spreadable cheese --> %s\" % broadmatch(\"garlic herb spreadable cheese\")\n",
    "print \"reduced sodium beef stock --> %s\" % broadmatch(\"reduced sodium beef stock\")"
   ]
  },
  {
   "cell_type": "markdown",
   "metadata": {},
   "source": [
    "#### Adding Broadmatch to the Baseline Model"
   ]
  },
  {
   "cell_type": "code",
   "execution_count": 527,
   "metadata": {
    "collapsed": true
   },
   "outputs": [],
   "source": [
    "# Convert the look-up table to a dictionary for the actual look-up\n",
    "bm_dict = {}\n",
    "for i, row in norm_ing_df.iterrows():\n",
    "    bm_dict[row['Original Ingredient']] = row['Broadmatched Ingredient']"
   ]
  },
  {
   "cell_type": "code",
   "execution_count": 528,
   "metadata": {
    "collapsed": true
   },
   "outputs": [],
   "source": [
    "def broadmatch_string(s):\n",
    "    final_ing_list = []\n",
    "    for ing in s.split(' '):\n",
    "        ing = ing.replace('_', ' ')\n",
    "        if ing in bm_dict:\n",
    "            ing = bm_dict[ing]\n",
    "        final_ing_list.append(ing.replace(' ', '_'))\n",
    "    \n",
    "    return ' '.join(final_ing_list)\n",
    "\n",
    "# Create a broadmatch function to be used for the pipeline\n",
    "def broadmatch_X(X, turn_on):\n",
    "    if turn_on == True:\n",
    "        return X.apply(broadmatch_string)\n",
    "    else:\n",
    "        return X"
   ]
  },
  {
   "cell_type": "code",
   "execution_count": 529,
   "metadata": {},
   "outputs": [
    {
     "data": {
      "text/plain": [
       "Pipeline(memory=None,\n",
       "     steps=[('broaddmatch', FunctionTransformer(accept_sparse=False,\n",
       "          func=<function broadmatch_X at 0x1a37d00aa0>, inv_kw_args=None,\n",
       "          inverse_func=None, kw_args={'turn_on': True},\n",
       "          pass_y='deprecated', validate=False)), ('countvectorizer', CountVectorizer(analyzer=u'word', bin...ty='l2', random_state=None, solver='liblinear', tol=0.0001,\n",
       "          verbose=0, warm_start=False))])"
      ]
     },
     "execution_count": 529,
     "metadata": {},
     "output_type": "execute_result"
    }
   ],
   "source": [
    "broadmatch_pipeline = Pipeline(steps=[\n",
    "    ('broaddmatch', FunctionTransformer(broadmatch_X, validate=False, kw_args={ \"turn_on\" : True })),\n",
    "    ('countvectorizer', CountVectorizer(binary=True, min_df=10)),\n",
    "    ('lr', LogisticRegression()),\n",
    "])\n",
    "broadmatch_pipeline.fit(resampled_train_all.ingredients, resampled_train_all.cuisine)"
   ]
  },
  {
   "cell_type": "code",
   "execution_count": 530,
   "metadata": {},
   "outputs": [
    {
     "name": "stdout",
     "output_type": "stream",
     "text": [
      "Accuracy of the base model is 0.702835880933\n"
     ]
    }
   ],
   "source": [
    "print \"Accuracy of the base model is\", broadmatch_pipeline.score(X_dev_str, y_dev)"
   ]
  },
  {
   "cell_type": "markdown",
   "metadata": {},
   "source": [
    "#### Confusion Matrix"
   ]
  },
  {
   "cell_type": "markdown",
   "metadata": {},
   "source": [
    "Using broadmatching surprisingly led to a considerably lower accuracy. Looking at the confusion matrix, it is very similar to the confusion matrix for the baseline model. From additional analyses, we have found that broadmatching sometimes were too aggressive, and many ingredients broadmatched to very common ingredients, which further enhanced the problem of separating out cuisines based on only these common ingredients (e.g. salt, oil, etc.)."
   ]
  },
  {
   "cell_type": "code",
   "execution_count": 545,
   "metadata": {},
   "outputs": [
    {
     "data": {
      "image/png": "[encoded data removed]",
      "text/plain": [
       "<matplotlib.figure.Figure at 0x1a28732090>"
      ]
     },
     "metadata": {},
     "output_type": "display_data"
    }
   ],
   "source": [
    "cm = confusion_matrix(y_dev, y_pred)\n",
    "np.fill_diagonal(cm, 0)\n",
    "cm_df = pandas.DataFrame(cm, index=broadmatch_pipeline.classes_, columns=broadmatch_pipeline.classes_)\n",
    "\n",
    "plt.figure(figsize=(10,10))\n",
    "sn.set(font_scale=1.3)\n",
    "ax = sn.heatmap(cm_df, cmap=\"Blues\")"
   ]
  },
  {
   "cell_type": "markdown",
   "metadata": {},
   "source": [
    "## [SUGGEST WE REMOVE] XGBoost Modeling with Hyper-Parameter Tuning"
   ]
  },
  {
   "cell_type": "code",
   "execution_count": 429,
   "metadata": {},
   "outputs": [
    {
     "data": {
      "text/plain": [
       "Pipeline(memory=None,\n",
       "     steps=[('broadmatch', FunctionTransformer(accept_sparse=False,\n",
       "          func=<function broadmatch_X at 0x1a37d001b8>, inv_kw_args=None,\n",
       "          inverse_func=None, kw_args={'turn_on': False},\n",
       "          pass_y='deprecated', validate=False)), ('countvectorizer', CountVectorizer(analyzer=u'word', bin...softprob', reg_alpha=0, reg_lambda=1,\n",
       "       scale_pos_weight=1, seed=0, silent=True, subsample=1))])"
      ]
     },
     "execution_count": 429,
     "metadata": {},
     "output_type": "execute_result"
    }
   ],
   "source": [
    "search_params = {\n",
    "    #'broadmatch__kw_args': [{ \"turn_on\" : True }, { \"turn_on\" : False }],\n",
    "    #'countvectorizer__min_df': np.linspace(5, 100, 5, dtype=int),\n",
    "    #'countvectorizer__max_df': np.linspace(3000, 10000, 5, dtype=int),\n",
    "    #'xg__max_depth' : np.linspace(10, 100, 5, dtype=int),\n",
    "    #'xg__n_estimators' : np.linspace(50, 250, 5, dtype=int),\n",
    "}\n",
    "\n",
    "\n",
    "xgboost_pipeline = Pipeline(steps=[\n",
    "    ('broadmatch', FunctionTransformer(broadmatch_X, validate=False, kw_args={ \"turn_on\" : False })),\n",
    "    ('countvectorizer', CountVectorizer(binary=True, max_df = 8250, min_df=5)),\n",
    "    ('xg', XGBClassifier(nthread=2, max_depth=77, n_estimators=250)),\n",
    "])\n",
    "\n",
    "xgboost_pipeline.fit(X_train_str, y_train)"
   ]
  },
  {
   "cell_type": "code",
   "execution_count": 430,
   "metadata": {},
   "outputs": [
    {
     "name": "stdout",
     "output_type": "stream",
     "text": [
      "Accuracy of the XGBoost model is 0.764782783588\n"
     ]
    }
   ],
   "source": [
    "print \"Accuracy of the XGBoost model is\", xgboost_pipeline.score(X_dev_str, y_dev)"
   ]
  },
  {
   "cell_type": "markdown",
   "metadata": {},
   "source": [
    "## [SUGGEST WE REMOVE] Logistic Regression Modeling with Hyper-Parameter Tuning"
   ]
  },
  {
   "cell_type": "code",
   "execution_count": 433,
   "metadata": {},
   "outputs": [
    {
     "name": "stdout",
     "output_type": "stream",
     "text": [
      "Fitting 5 folds for each of 80 candidates, totalling 400 fits\n",
      "[CV] lr__solver=newton-cg, lr__C=0.1, broadmatch__kw_args={'turn_on': True}, lr__multi_class=ovr \n",
      "[CV]  lr__solver=newton-cg, lr__C=0.1, broadmatch__kw_args={'turn_on': True}, lr__multi_class=ovr, score=0.710363301524, total=   4.4s\n",
      "[CV] lr__solver=newton-cg, lr__C=0.1, broadmatch__kw_args={'turn_on': True}, lr__multi_class=ovr \n"
     ]
    },
    {
     "name": "stderr",
     "output_type": "stream",
     "text": [
      "[Parallel(n_jobs=1)]: Done   1 out of   1 | elapsed:    5.2s remaining:    0.0s\n"
     ]
    },
    {
     "name": "stdout",
     "output_type": "stream",
     "text": [
      "[CV]  lr__solver=newton-cg, lr__C=0.1, broadmatch__kw_args={'turn_on': True}, lr__multi_class=ovr, score=0.72172893282, total=   4.0s\n",
      "[CV] lr__solver=newton-cg, lr__C=0.1, broadmatch__kw_args={'turn_on': True}, lr__multi_class=ovr \n"
     ]
    },
    {
     "name": "stderr",
     "output_type": "stream",
     "text": [
      "[Parallel(n_jobs=1)]: Done   2 out of   2 | elapsed:   10.0s remaining:    0.0s\n"
     ]
    },
    {
     "name": "stdout",
     "output_type": "stream",
     "text": [
      "[CV]  lr__solver=newton-cg, lr__C=0.1, broadmatch__kw_args={'turn_on': True}, lr__multi_class=ovr, score=0.714046262152, total=   4.4s\n",
      "[CV] lr__solver=newton-cg, lr__C=0.1, broadmatch__kw_args={'turn_on': True}, lr__multi_class=ovr \n"
     ]
    },
    {
     "name": "stderr",
     "output_type": "stream",
     "text": [
      "[Parallel(n_jobs=1)]: Done   3 out of   3 | elapsed:   15.2s remaining:    0.0s\n"
     ]
    },
    {
     "name": "stdout",
     "output_type": "stream",
     "text": [
      "[CV]  lr__solver=newton-cg, lr__C=0.1, broadmatch__kw_args={'turn_on': True}, lr__multi_class=ovr, score=0.728950016773, total=   4.2s\n",
      "[CV] lr__solver=newton-cg, lr__C=0.1, broadmatch__kw_args={'turn_on': True}, lr__multi_class=ovr \n"
     ]
    },
    {
     "name": "stderr",
     "output_type": "stream",
     "text": [
      "[Parallel(n_jobs=1)]: Done   4 out of   4 | elapsed:   20.4s remaining:    0.0s\n"
     ]
    },
    {
     "name": "stdout",
     "output_type": "stream",
     "text": [
      "[CV]  lr__solver=newton-cg, lr__C=0.1, broadmatch__kw_args={'turn_on': True}, lr__multi_class=ovr, score=0.721308724832, total=   3.9s\n",
      "[CV] lr__solver=lbfgs, lr__C=0.1, broadmatch__kw_args={'turn_on': True}, lr__multi_class=ovr \n"
     ]
    },
    {
     "name": "stderr",
     "output_type": "stream",
     "text": [
      "[Parallel(n_jobs=1)]: Done   5 out of   5 | elapsed:   25.1s remaining:    0.0s\n"
     ]
    },
    {
     "name": "stdout",
     "output_type": "stream",
     "text": [
      "[CV]  lr__solver=lbfgs, lr__C=0.1, broadmatch__kw_args={'turn_on': True}, lr__multi_class=ovr, score=0.710363301524, total=   3.1s\n",
      "[CV] lr__solver=lbfgs, lr__C=0.1, broadmatch__kw_args={'turn_on': True}, lr__multi_class=ovr \n"
     ]
    },
    {
     "name": "stderr",
     "output_type": "stream",
     "text": [
      "[Parallel(n_jobs=1)]: Done   6 out of   6 | elapsed:   29.0s remaining:    0.0s\n"
     ]
    },
    {
     "name": "stdout",
     "output_type": "stream",
     "text": [
      "[CV]  lr__solver=lbfgs, lr__C=0.1, broadmatch__kw_args={'turn_on': True}, lr__multi_class=ovr, score=0.72172893282, total=   3.1s\n",
      "[CV] lr__solver=lbfgs, lr__C=0.1, broadmatch__kw_args={'turn_on': True}, lr__multi_class=ovr \n"
     ]
    },
    {
     "name": "stderr",
     "output_type": "stream",
     "text": [
      "[Parallel(n_jobs=1)]: Done   7 out of   7 | elapsed:   32.9s remaining:    0.0s\n"
     ]
    },
    {
     "name": "stdout",
     "output_type": "stream",
     "text": [
      "[CV]  lr__solver=lbfgs, lr__C=0.1, broadmatch__kw_args={'turn_on': True}, lr__multi_class=ovr, score=0.714046262152, total=   3.0s\n",
      "[CV] lr__solver=lbfgs, lr__C=0.1, broadmatch__kw_args={'turn_on': True}, lr__multi_class=ovr \n"
     ]
    },
    {
     "name": "stderr",
     "output_type": "stream",
     "text": [
      "[Parallel(n_jobs=1)]: Done   8 out of   8 | elapsed:   36.7s remaining:    0.0s\n"
     ]
    },
    {
     "name": "stdout",
     "output_type": "stream",
     "text": [
      "[CV]  lr__solver=lbfgs, lr__C=0.1, broadmatch__kw_args={'turn_on': True}, lr__multi_class=ovr, score=0.728950016773, total=   3.1s\n",
      "[CV] lr__solver=lbfgs, lr__C=0.1, broadmatch__kw_args={'turn_on': True}, lr__multi_class=ovr \n"
     ]
    },
    {
     "name": "stderr",
     "output_type": "stream",
     "text": [
      "[Parallel(n_jobs=1)]: Done   9 out of   9 | elapsed:   40.7s remaining:    0.0s\n"
     ]
    },
    {
     "name": "stdout",
     "output_type": "stream",
     "text": [
      "[CV]  lr__solver=lbfgs, lr__C=0.1, broadmatch__kw_args={'turn_on': True}, lr__multi_class=ovr, score=0.721308724832, total=   3.0s\n",
      "[CV] lr__solver=sag, lr__C=0.1, broadmatch__kw_args={'turn_on': True}, lr__multi_class=ovr \n",
      "[CV]  lr__solver=sag, lr__C=0.1, broadmatch__kw_args={'turn_on': True}, lr__multi_class=ovr, score=0.71053072158, total=  35.1s\n",
      "[CV] lr__solver=sag, lr__C=0.1, broadmatch__kw_args={'turn_on': True}, lr__multi_class=ovr \n",
      "[CV]  lr__solver=sag, lr__C=0.1, broadmatch__kw_args={'turn_on': True}, lr__multi_class=ovr, score=0.72172893282, total=  35.9s\n",
      "[CV] lr__solver=sag, lr__C=0.1, broadmatch__kw_args={'turn_on': True}, lr__multi_class=ovr \n",
      "[CV]  lr__solver=sag, lr__C=0.1, broadmatch__kw_args={'turn_on': True}, lr__multi_class=ovr, score=0.714213878646, total=  36.0s\n",
      "[CV] lr__solver=sag, lr__C=0.1, broadmatch__kw_args={'turn_on': True}, lr__multi_class=ovr \n",
      "[CV]  lr__solver=sag, lr__C=0.1, broadmatch__kw_args={'turn_on': True}, lr__multi_class=ovr, score=0.728950016773, total=  37.4s\n",
      "[CV] lr__solver=sag, lr__C=0.1, broadmatch__kw_args={'turn_on': True}, lr__multi_class=ovr \n",
      "[CV]  lr__solver=sag, lr__C=0.1, broadmatch__kw_args={'turn_on': True}, lr__multi_class=ovr, score=0.721308724832, total=  36.7s\n",
      "[CV] lr__solver=saga, lr__C=0.1, broadmatch__kw_args={'turn_on': True}, lr__multi_class=ovr \n",
      "[CV]  lr__solver=saga, lr__C=0.1, broadmatch__kw_args={'turn_on': True}, lr__multi_class=ovr, score=0.712372342207, total=  52.3s\n",
      "[CV] lr__solver=saga, lr__C=0.1, broadmatch__kw_args={'turn_on': True}, lr__multi_class=ovr \n",
      "[CV]  lr__solver=saga, lr__C=0.1, broadmatch__kw_args={'turn_on': True}, lr__multi_class=ovr, score=0.723404255319, total=  53.0s\n",
      "[CV] lr__solver=saga, lr__C=0.1, broadmatch__kw_args={'turn_on': True}, lr__multi_class=ovr \n",
      "[CV]  lr__solver=saga, lr__C=0.1, broadmatch__kw_args={'turn_on': True}, lr__multi_class=ovr, score=0.717398592021, total=  52.3s\n",
      "[CV] lr__solver=saga, lr__C=0.1, broadmatch__kw_args={'turn_on': True}, lr__multi_class=ovr \n",
      "[CV]  lr__solver=saga, lr__C=0.1, broadmatch__kw_args={'turn_on': True}, lr__multi_class=ovr, score=0.733310969473, total=  54.7s\n",
      "[CV] lr__solver=saga, lr__C=0.1, broadmatch__kw_args={'turn_on': True}, lr__multi_class=ovr \n",
      "[CV]  lr__solver=saga, lr__C=0.1, broadmatch__kw_args={'turn_on': True}, lr__multi_class=ovr, score=0.723993288591, total=  53.6s\n",
      "[CV] lr__solver=newton-cg, lr__C=0.1, broadmatch__kw_args={'turn_on': True}, lr__multi_class=multinomial \n",
      "[CV]  lr__solver=newton-cg, lr__C=0.1, broadmatch__kw_args={'turn_on': True}, lr__multi_class=multinomial, score=0.720575924996, total=   4.0s\n",
      "[CV] lr__solver=newton-cg, lr__C=0.1, broadmatch__kw_args={'turn_on': True}, lr__multi_class=multinomial \n",
      "[CV]  lr__solver=newton-cg, lr__C=0.1, broadmatch__kw_args={'turn_on': True}, lr__multi_class=multinomial, score=0.729267884068, total=   4.1s\n",
      "[CV] lr__solver=newton-cg, lr__C=0.1, broadmatch__kw_args={'turn_on': True}, lr__multi_class=multinomial \n",
      "[CV]  lr__solver=newton-cg, lr__C=0.1, broadmatch__kw_args={'turn_on': True}, lr__multi_class=multinomial, score=0.724941334227, total=   3.9s\n",
      "[CV] lr__solver=newton-cg, lr__C=0.1, broadmatch__kw_args={'turn_on': True}, lr__multi_class=multinomial \n",
      "[CV]  lr__solver=newton-cg, lr__C=0.1, broadmatch__kw_args={'turn_on': True}, lr__multi_class=multinomial, score=0.741865145924, total=   4.1s\n",
      "[CV] lr__solver=newton-cg, lr__C=0.1, broadmatch__kw_args={'turn_on': True}, lr__multi_class=multinomial \n",
      "[CV]  lr__solver=newton-cg, lr__C=0.1, broadmatch__kw_args={'turn_on': True}, lr__multi_class=multinomial, score=0.731375838926, total=   4.1s\n",
      "[CV] lr__solver=lbfgs, lr__C=0.1, broadmatch__kw_args={'turn_on': True}, lr__multi_class=multinomial \n",
      "[CV]  lr__solver=lbfgs, lr__C=0.1, broadmatch__kw_args={'turn_on': True}, lr__multi_class=multinomial, score=0.720575924996, total=   3.3s\n",
      "[CV] lr__solver=lbfgs, lr__C=0.1, broadmatch__kw_args={'turn_on': True}, lr__multi_class=multinomial \n",
      "[CV]  lr__solver=lbfgs, lr__C=0.1, broadmatch__kw_args={'turn_on': True}, lr__multi_class=multinomial, score=0.729267884068, total=   3.2s\n",
      "[CV] lr__solver=lbfgs, lr__C=0.1, broadmatch__kw_args={'turn_on': True}, lr__multi_class=multinomial \n",
      "[CV]  lr__solver=lbfgs, lr__C=0.1, broadmatch__kw_args={'turn_on': True}, lr__multi_class=multinomial, score=0.724941334227, total=   3.3s\n",
      "[CV] lr__solver=lbfgs, lr__C=0.1, broadmatch__kw_args={'turn_on': True}, lr__multi_class=multinomial \n",
      "[CV]  lr__solver=lbfgs, lr__C=0.1, broadmatch__kw_args={'turn_on': True}, lr__multi_class=multinomial, score=0.741865145924, total=   3.4s\n",
      "[CV] lr__solver=lbfgs, lr__C=0.1, broadmatch__kw_args={'turn_on': True}, lr__multi_class=multinomial \n",
      "[CV]  lr__solver=lbfgs, lr__C=0.1, broadmatch__kw_args={'turn_on': True}, lr__multi_class=multinomial, score=0.731375838926, total=   3.2s\n",
      "[CV] lr__solver=sag, lr__C=0.1, broadmatch__kw_args={'turn_on': True}, lr__multi_class=multinomial \n",
      "[CV]  lr__solver=sag, lr__C=0.1, broadmatch__kw_args={'turn_on': True}, lr__multi_class=multinomial, score=0.720575924996, total=   3.8s\n",
      "[CV] lr__solver=sag, lr__C=0.1, broadmatch__kw_args={'turn_on': True}, lr__multi_class=multinomial \n",
      "[CV]  lr__solver=sag, lr__C=0.1, broadmatch__kw_args={'turn_on': True}, lr__multi_class=multinomial, score=0.729267884068, total=   3.9s\n",
      "[CV] lr__solver=sag, lr__C=0.1, broadmatch__kw_args={'turn_on': True}, lr__multi_class=multinomial \n",
      "[CV]  lr__solver=sag, lr__C=0.1, broadmatch__kw_args={'turn_on': True}, lr__multi_class=multinomial, score=0.724941334227, total=   3.7s\n",
      "[CV] lr__solver=sag, lr__C=0.1, broadmatch__kw_args={'turn_on': True}, lr__multi_class=multinomial \n",
      "[CV]  lr__solver=sag, lr__C=0.1, broadmatch__kw_args={'turn_on': True}, lr__multi_class=multinomial, score=0.741697416974, total=   3.9s\n",
      "[CV] lr__solver=sag, lr__C=0.1, broadmatch__kw_args={'turn_on': True}, lr__multi_class=multinomial \n",
      "[CV]  lr__solver=sag, lr__C=0.1, broadmatch__kw_args={'turn_on': True}, lr__multi_class=multinomial, score=0.731375838926, total=   3.9s\n",
      "[CV] lr__solver=saga, lr__C=0.1, broadmatch__kw_args={'turn_on': True}, lr__multi_class=multinomial \n",
      "[CV]  lr__solver=saga, lr__C=0.1, broadmatch__kw_args={'turn_on': True}, lr__multi_class=multinomial, score=0.721078185167, total=   5.0s\n",
      "[CV] lr__solver=saga, lr__C=0.1, broadmatch__kw_args={'turn_on': True}, lr__multi_class=multinomial \n",
      "[CV]  lr__solver=saga, lr__C=0.1, broadmatch__kw_args={'turn_on': True}, lr__multi_class=multinomial, score=0.730775674317, total=   4.9s\n",
      "[CV] lr__solver=saga, lr__C=0.1, broadmatch__kw_args={'turn_on': True}, lr__multi_class=multinomial \n",
      "[CV]  lr__solver=saga, lr__C=0.1, broadmatch__kw_args={'turn_on': True}, lr__multi_class=multinomial, score=0.725779416695, total=   5.0s\n",
      "[CV] lr__solver=saga, lr__C=0.1, broadmatch__kw_args={'turn_on': True}, lr__multi_class=multinomial \n",
      "[CV]  lr__solver=saga, lr__C=0.1, broadmatch__kw_args={'turn_on': True}, lr__multi_class=multinomial, score=0.742536061724, total=   5.1s\n",
      "[CV] lr__solver=saga, lr__C=0.1, broadmatch__kw_args={'turn_on': True}, lr__multi_class=multinomial \n",
      "[CV]  lr__solver=saga, lr__C=0.1, broadmatch__kw_args={'turn_on': True}, lr__multi_class=multinomial, score=0.731879194631, total=   4.9s\n",
      "[CV] lr__solver=newton-cg, lr__C=1, broadmatch__kw_args={'turn_on': True}, lr__multi_class=ovr \n",
      "[CV]  lr__solver=newton-cg, lr__C=1, broadmatch__kw_args={'turn_on': True}, lr__multi_class=ovr, score=0.743345052737, total=   4.7s\n",
      "[CV] lr__solver=newton-cg, lr__C=1, broadmatch__kw_args={'turn_on': True}, lr__multi_class=ovr \n",
      "[CV]  lr__solver=newton-cg, lr__C=1, broadmatch__kw_args={'turn_on': True}, lr__multi_class=ovr, score=0.753727592562, total=   4.7s\n",
      "[CV] lr__solver=newton-cg, lr__C=1, broadmatch__kw_args={'turn_on': True}, lr__multi_class=ovr \n",
      "[CV]  lr__solver=newton-cg, lr__C=1, broadmatch__kw_args={'turn_on': True}, lr__multi_class=ovr, score=0.746228628897, total=   4.8s\n",
      "[CV] lr__solver=newton-cg, lr__C=1, broadmatch__kw_args={'turn_on': True}, lr__multi_class=ovr \n",
      "[CV]  lr__solver=newton-cg, lr__C=1, broadmatch__kw_args={'turn_on': True}, lr__multi_class=ovr, score=0.762831264676, total=   4.7s\n",
      "[CV] lr__solver=newton-cg, lr__C=1, broadmatch__kw_args={'turn_on': True}, lr__multi_class=ovr \n",
      "[CV]  lr__solver=newton-cg, lr__C=1, broadmatch__kw_args={'turn_on': True}, lr__multi_class=ovr, score=0.749832214765, total=   4.6s\n",
      "[CV] lr__solver=lbfgs, lr__C=1, broadmatch__kw_args={'turn_on': True}, lr__multi_class=ovr \n"
     ]
    },
    {
     "name": "stdout",
     "output_type": "stream",
     "text": [
      "[CV]  lr__solver=lbfgs, lr__C=1, broadmatch__kw_args={'turn_on': True}, lr__multi_class=ovr, score=0.743345052737, total=   3.9s\n",
      "[CV] lr__solver=lbfgs, lr__C=1, broadmatch__kw_args={'turn_on': True}, lr__multi_class=ovr \n",
      "[CV]  lr__solver=lbfgs, lr__C=1, broadmatch__kw_args={'turn_on': True}, lr__multi_class=ovr, score=0.753727592562, total=   3.6s\n",
      "[CV] lr__solver=lbfgs, lr__C=1, broadmatch__kw_args={'turn_on': True}, lr__multi_class=ovr \n",
      "[CV]  lr__solver=lbfgs, lr__C=1, broadmatch__kw_args={'turn_on': True}, lr__multi_class=ovr, score=0.746396245391, total=   3.7s\n",
      "[CV] lr__solver=lbfgs, lr__C=1, broadmatch__kw_args={'turn_on': True}, lr__multi_class=ovr \n",
      "[CV]  lr__solver=lbfgs, lr__C=1, broadmatch__kw_args={'turn_on': True}, lr__multi_class=ovr, score=0.762831264676, total=   4.2s\n",
      "[CV] lr__solver=lbfgs, lr__C=1, broadmatch__kw_args={'turn_on': True}, lr__multi_class=ovr \n",
      "[CV]  lr__solver=lbfgs, lr__C=1, broadmatch__kw_args={'turn_on': True}, lr__multi_class=ovr, score=0.749832214765, total=   3.8s\n",
      "[CV] lr__solver=sag, lr__C=1, broadmatch__kw_args={'turn_on': True}, lr__multi_class=ovr \n",
      "[CV]  lr__solver=sag, lr__C=1, broadmatch__kw_args={'turn_on': True}, lr__multi_class=ovr, score=0.743847312908, total=  45.8s\n",
      "[CV] lr__solver=sag, lr__C=1, broadmatch__kw_args={'turn_on': True}, lr__multi_class=ovr \n",
      "[CV]  lr__solver=sag, lr__C=1, broadmatch__kw_args={'turn_on': True}, lr__multi_class=ovr, score=0.754062657061, total=  46.3s\n",
      "[CV] lr__solver=sag, lr__C=1, broadmatch__kw_args={'turn_on': True}, lr__multi_class=ovr \n",
      "[CV]  lr__solver=sag, lr__C=1, broadmatch__kw_args={'turn_on': True}, lr__multi_class=ovr, score=0.746563861884, total=  47.8s\n",
      "[CV] lr__solver=sag, lr__C=1, broadmatch__kw_args={'turn_on': True}, lr__multi_class=ovr \n",
      "[CV]  lr__solver=sag, lr__C=1, broadmatch__kw_args={'turn_on': True}, lr__multi_class=ovr, score=0.763166722576, total=  47.6s\n",
      "[CV] lr__solver=sag, lr__C=1, broadmatch__kw_args={'turn_on': True}, lr__multi_class=ovr \n",
      "[CV]  lr__solver=sag, lr__C=1, broadmatch__kw_args={'turn_on': True}, lr__multi_class=ovr, score=0.750503355705, total=  45.9s\n",
      "[CV] lr__solver=saga, lr__C=1, broadmatch__kw_args={'turn_on': True}, lr__multi_class=ovr \n",
      "[CV]  lr__solver=saga, lr__C=1, broadmatch__kw_args={'turn_on': True}, lr__multi_class=ovr, score=0.745019253307, total=  54.0s\n",
      "[CV] lr__solver=saga, lr__C=1, broadmatch__kw_args={'turn_on': True}, lr__multi_class=ovr \n",
      "[CV]  lr__solver=saga, lr__C=1, broadmatch__kw_args={'turn_on': True}, lr__multi_class=ovr, score=0.753224995812, total=  53.2s\n",
      "[CV] lr__solver=saga, lr__C=1, broadmatch__kw_args={'turn_on': True}, lr__multi_class=ovr \n",
      "[CV]  lr__solver=saga, lr__C=1, broadmatch__kw_args={'turn_on': True}, lr__multi_class=ovr, score=0.745725779417, total=  54.4s\n",
      "[CV] lr__solver=saga, lr__C=1, broadmatch__kw_args={'turn_on': True}, lr__multi_class=ovr \n",
      "[CV]  lr__solver=saga, lr__C=1, broadmatch__kw_args={'turn_on': True}, lr__multi_class=ovr, score=0.766018114727, total=  53.8s\n",
      "[CV] lr__solver=saga, lr__C=1, broadmatch__kw_args={'turn_on': True}, lr__multi_class=ovr \n",
      "[CV]  lr__solver=saga, lr__C=1, broadmatch__kw_args={'turn_on': True}, lr__multi_class=ovr, score=0.752013422819, total=  54.5s\n",
      "[CV] lr__solver=newton-cg, lr__C=1, broadmatch__kw_args={'turn_on': True}, lr__multi_class=multinomial \n",
      "[CV]  lr__solver=newton-cg, lr__C=1, broadmatch__kw_args={'turn_on': True}, lr__multi_class=multinomial, score=0.744684413193, total=   5.2s\n",
      "[CV] lr__solver=newton-cg, lr__C=1, broadmatch__kw_args={'turn_on': True}, lr__multi_class=multinomial \n",
      "[CV]  lr__solver=newton-cg, lr__C=1, broadmatch__kw_args={'turn_on': True}, lr__multi_class=multinomial, score=0.749874350813, total=   5.3s\n",
      "[CV] lr__solver=newton-cg, lr__C=1, broadmatch__kw_args={'turn_on': True}, lr__multi_class=multinomial \n",
      "[CV]  lr__solver=newton-cg, lr__C=1, broadmatch__kw_args={'turn_on': True}, lr__multi_class=multinomial, score=0.744887696949, total=   5.5s\n",
      "[CV] lr__solver=newton-cg, lr__C=1, broadmatch__kw_args={'turn_on': True}, lr__multi_class=multinomial \n",
      "[CV]  lr__solver=newton-cg, lr__C=1, broadmatch__kw_args={'turn_on': True}, lr__multi_class=multinomial, score=0.762831264676, total=   5.4s\n",
      "[CV] lr__solver=newton-cg, lr__C=1, broadmatch__kw_args={'turn_on': True}, lr__multi_class=multinomial \n",
      "[CV]  lr__solver=newton-cg, lr__C=1, broadmatch__kw_args={'turn_on': True}, lr__multi_class=multinomial, score=0.753187919463, total=   5.3s\n",
      "[CV] lr__solver=lbfgs, lr__C=1, broadmatch__kw_args={'turn_on': True}, lr__multi_class=multinomial \n",
      "[CV]  lr__solver=lbfgs, lr__C=1, broadmatch__kw_args={'turn_on': True}, lr__multi_class=multinomial, score=0.744516993136, total=   3.6s\n",
      "[CV] lr__solver=lbfgs, lr__C=1, broadmatch__kw_args={'turn_on': True}, lr__multi_class=multinomial \n",
      "[CV]  lr__solver=lbfgs, lr__C=1, broadmatch__kw_args={'turn_on': True}, lr__multi_class=multinomial, score=0.750544479812, total=   3.8s\n",
      "[CV] lr__solver=lbfgs, lr__C=1, broadmatch__kw_args={'turn_on': True}, lr__multi_class=multinomial \n",
      "[CV]  lr__solver=lbfgs, lr__C=1, broadmatch__kw_args={'turn_on': True}, lr__multi_class=multinomial, score=0.744887696949, total=   3.7s\n",
      "[CV] lr__solver=lbfgs, lr__C=1, broadmatch__kw_args={'turn_on': True}, lr__multi_class=multinomial \n",
      "[CV]  lr__solver=lbfgs, lr__C=1, broadmatch__kw_args={'turn_on': True}, lr__multi_class=multinomial, score=0.762495806776, total=   3.6s\n",
      "[CV] lr__solver=lbfgs, lr__C=1, broadmatch__kw_args={'turn_on': True}, lr__multi_class=multinomial \n",
      "[CV]  lr__solver=lbfgs, lr__C=1, broadmatch__kw_args={'turn_on': True}, lr__multi_class=multinomial, score=0.753355704698, total=   3.7s\n",
      "[CV] lr__solver=sag, lr__C=1, broadmatch__kw_args={'turn_on': True}, lr__multi_class=multinomial \n",
      "[CV]  lr__solver=sag, lr__C=1, broadmatch__kw_args={'turn_on': True}, lr__multi_class=multinomial, score=0.744684413193, total=   4.6s\n",
      "[CV] lr__solver=sag, lr__C=1, broadmatch__kw_args={'turn_on': True}, lr__multi_class=multinomial \n",
      "[CV]  lr__solver=sag, lr__C=1, broadmatch__kw_args={'turn_on': True}, lr__multi_class=multinomial, score=0.750209415312, total=   4.8s\n",
      "[CV] lr__solver=sag, lr__C=1, broadmatch__kw_args={'turn_on': True}, lr__multi_class=multinomial \n",
      "[CV]  lr__solver=sag, lr__C=1, broadmatch__kw_args={'turn_on': True}, lr__multi_class=multinomial, score=0.744887696949, total=   4.8s\n",
      "[CV] lr__solver=sag, lr__C=1, broadmatch__kw_args={'turn_on': True}, lr__multi_class=multinomial \n",
      "[CV]  lr__solver=sag, lr__C=1, broadmatch__kw_args={'turn_on': True}, lr__multi_class=multinomial, score=0.763166722576, total=   4.8s\n",
      "[CV] lr__solver=sag, lr__C=1, broadmatch__kw_args={'turn_on': True}, lr__multi_class=multinomial \n",
      "[CV]  lr__solver=sag, lr__C=1, broadmatch__kw_args={'turn_on': True}, lr__multi_class=multinomial, score=0.753020134228, total=   4.8s\n",
      "[CV] lr__solver=saga, lr__C=1, broadmatch__kw_args={'turn_on': True}, lr__multi_class=multinomial \n",
      "[CV]  lr__solver=saga, lr__C=1, broadmatch__kw_args={'turn_on': True}, lr__multi_class=multinomial, score=0.745186673363, total=   5.1s\n",
      "[CV] lr__solver=saga, lr__C=1, broadmatch__kw_args={'turn_on': True}, lr__multi_class=multinomial \n",
      "[CV]  lr__solver=saga, lr__C=1, broadmatch__kw_args={'turn_on': True}, lr__multi_class=multinomial, score=0.751047076562, total=   4.9s\n",
      "[CV] lr__solver=saga, lr__C=1, broadmatch__kw_args={'turn_on': True}, lr__multi_class=multinomial \n",
      "[CV]  lr__solver=saga, lr__C=1, broadmatch__kw_args={'turn_on': True}, lr__multi_class=multinomial, score=0.744552463962, total=   5.1s\n",
      "[CV] lr__solver=saga, lr__C=1, broadmatch__kw_args={'turn_on': True}, lr__multi_class=multinomial \n",
      "[CV]  lr__solver=saga, lr__C=1, broadmatch__kw_args={'turn_on': True}, lr__multi_class=multinomial, score=0.763669909426, total=   5.0s\n",
      "[CV] lr__solver=saga, lr__C=1, broadmatch__kw_args={'turn_on': True}, lr__multi_class=multinomial \n",
      "[CV]  lr__solver=saga, lr__C=1, broadmatch__kw_args={'turn_on': True}, lr__multi_class=multinomial, score=0.753187919463, total=   4.9s\n",
      "[CV] lr__solver=newton-cg, lr__C=10, broadmatch__kw_args={'turn_on': True}, lr__multi_class=ovr \n",
      "[CV]  lr__solver=newton-cg, lr__C=10, broadmatch__kw_args={'turn_on': True}, lr__multi_class=ovr, score=0.74049891177, total=   5.9s\n",
      "[CV] lr__solver=newton-cg, lr__C=10, broadmatch__kw_args={'turn_on': True}, lr__multi_class=ovr \n"
     ]
    },
    {
     "name": "stdout",
     "output_type": "stream",
     "text": [
      "[CV]  lr__solver=newton-cg, lr__C=10, broadmatch__kw_args={'turn_on': True}, lr__multi_class=ovr, score=0.743675657564, total=   5.9s\n",
      "[CV] lr__solver=newton-cg, lr__C=10, broadmatch__kw_args={'turn_on': True}, lr__multi_class=ovr \n",
      "[CV]  lr__solver=newton-cg, lr__C=10, broadmatch__kw_args={'turn_on': True}, lr__multi_class=ovr, score=0.739188736172, total=   6.0s\n",
      "[CV] lr__solver=newton-cg, lr__C=10, broadmatch__kw_args={'turn_on': True}, lr__multi_class=ovr \n",
      "[CV]  lr__solver=newton-cg, lr__C=10, broadmatch__kw_args={'turn_on': True}, lr__multi_class=ovr, score=0.754444817175, total=   5.8s\n",
      "[CV] lr__solver=newton-cg, lr__C=10, broadmatch__kw_args={'turn_on': True}, lr__multi_class=ovr \n",
      "[CV]  lr__solver=newton-cg, lr__C=10, broadmatch__kw_args={'turn_on': True}, lr__multi_class=ovr, score=0.743791946309, total=   6.1s\n",
      "[CV] lr__solver=lbfgs, lr__C=10, broadmatch__kw_args={'turn_on': True}, lr__multi_class=ovr \n",
      "[CV]  lr__solver=lbfgs, lr__C=10, broadmatch__kw_args={'turn_on': True}, lr__multi_class=ovr, score=0.740164071656, total=   4.4s\n",
      "[CV] lr__solver=lbfgs, lr__C=10, broadmatch__kw_args={'turn_on': True}, lr__multi_class=ovr \n",
      "[CV]  lr__solver=lbfgs, lr__C=10, broadmatch__kw_args={'turn_on': True}, lr__multi_class=ovr, score=0.743843189814, total=   4.3s\n",
      "[CV] lr__solver=lbfgs, lr__C=10, broadmatch__kw_args={'turn_on': True}, lr__multi_class=ovr \n",
      "[CV]  lr__solver=lbfgs, lr__C=10, broadmatch__kw_args={'turn_on': True}, lr__multi_class=ovr, score=0.739356352665, total=   4.6s\n",
      "[CV] lr__solver=lbfgs, lr__C=10, broadmatch__kw_args={'turn_on': True}, lr__multi_class=ovr \n",
      "[CV]  lr__solver=lbfgs, lr__C=10, broadmatch__kw_args={'turn_on': True}, lr__multi_class=ovr, score=0.754277088225, total=   4.2s\n",
      "[CV] lr__solver=lbfgs, lr__C=10, broadmatch__kw_args={'turn_on': True}, lr__multi_class=ovr \n",
      "[CV]  lr__solver=lbfgs, lr__C=10, broadmatch__kw_args={'turn_on': True}, lr__multi_class=ovr, score=0.743791946309, total=   4.4s\n",
      "[CV] lr__solver=sag, lr__C=10, broadmatch__kw_args={'turn_on': True}, lr__multi_class=ovr \n",
      "[CV]  lr__solver=sag, lr__C=10, broadmatch__kw_args={'turn_on': True}, lr__multi_class=ovr, score=0.741168591997, total=  55.0s\n",
      "[CV] lr__solver=sag, lr__C=10, broadmatch__kw_args={'turn_on': True}, lr__multi_class=ovr \n",
      "[CV]  lr__solver=sag, lr__C=10, broadmatch__kw_args={'turn_on': True}, lr__multi_class=ovr, score=0.746188641313, total=  54.8s\n",
      "[CV] lr__solver=sag, lr__C=10, broadmatch__kw_args={'turn_on': True}, lr__multi_class=ovr \n",
      "[CV]  lr__solver=sag, lr__C=10, broadmatch__kw_args={'turn_on': True}, lr__multi_class=ovr, score=0.740362051626, total=  58.0s\n",
      "[CV] lr__solver=sag, lr__C=10, broadmatch__kw_args={'turn_on': True}, lr__multi_class=ovr \n",
      "[CV]  lr__solver=sag, lr__C=10, broadmatch__kw_args={'turn_on': True}, lr__multi_class=ovr, score=0.754444817175, total=  55.3s\n",
      "[CV] lr__solver=sag, lr__C=10, broadmatch__kw_args={'turn_on': True}, lr__multi_class=ovr \n",
      "[CV]  lr__solver=sag, lr__C=10, broadmatch__kw_args={'turn_on': True}, lr__multi_class=ovr, score=0.744295302013, total=  55.2s\n",
      "[CV] lr__solver=saga, lr__C=10, broadmatch__kw_args={'turn_on': True}, lr__multi_class=ovr \n",
      "[CV]  lr__solver=saga, lr__C=10, broadmatch__kw_args={'turn_on': True}, lr__multi_class=ovr, score=0.742005692282, total=  56.1s\n",
      "[CV] lr__solver=saga, lr__C=10, broadmatch__kw_args={'turn_on': True}, lr__multi_class=ovr \n",
      "[CV]  lr__solver=saga, lr__C=10, broadmatch__kw_args={'turn_on': True}, lr__multi_class=ovr, score=0.749036689563, total=  55.3s\n",
      "[CV] lr__solver=saga, lr__C=10, broadmatch__kw_args={'turn_on': True}, lr__multi_class=ovr \n",
      "[CV]  lr__solver=saga, lr__C=10, broadmatch__kw_args={'turn_on': True}, lr__multi_class=ovr, score=0.744049614482, total=  55.3s\n",
      "[CV] lr__solver=saga, lr__C=10, broadmatch__kw_args={'turn_on': True}, lr__multi_class=ovr \n",
      "[CV]  lr__solver=saga, lr__C=10, broadmatch__kw_args={'turn_on': True}, lr__multi_class=ovr, score=0.759476685676, total=  53.8s\n",
      "[CV] lr__solver=saga, lr__C=10, broadmatch__kw_args={'turn_on': True}, lr__multi_class=ovr \n",
      "[CV]  lr__solver=saga, lr__C=10, broadmatch__kw_args={'turn_on': True}, lr__multi_class=ovr, score=0.747818791946, total=  49.7s\n",
      "[CV] lr__solver=newton-cg, lr__C=10, broadmatch__kw_args={'turn_on': True}, lr__multi_class=multinomial \n",
      "[CV]  lr__solver=newton-cg, lr__C=10, broadmatch__kw_args={'turn_on': True}, lr__multi_class=multinomial, score=0.731123388582, total=   9.0s\n",
      "[CV] lr__solver=newton-cg, lr__C=10, broadmatch__kw_args={'turn_on': True}, lr__multi_class=multinomial \n",
      "[CV]  lr__solver=newton-cg, lr__C=10, broadmatch__kw_args={'turn_on': True}, lr__multi_class=multinomial, score=0.730440609817, total=   8.9s\n",
      "[CV] lr__solver=newton-cg, lr__C=10, broadmatch__kw_args={'turn_on': True}, lr__multi_class=multinomial \n",
      "[CV]  lr__solver=newton-cg, lr__C=10, broadmatch__kw_args={'turn_on': True}, lr__multi_class=multinomial, score=0.731981226953, total=   8.4s\n",
      "[CV] lr__solver=newton-cg, lr__C=10, broadmatch__kw_args={'turn_on': True}, lr__multi_class=multinomial \n",
      "[CV]  lr__solver=newton-cg, lr__C=10, broadmatch__kw_args={'turn_on': True}, lr__multi_class=multinomial, score=0.748238846025, total=   8.9s\n",
      "[CV] lr__solver=newton-cg, lr__C=10, broadmatch__kw_args={'turn_on': True}, lr__multi_class=multinomial \n",
      "[CV]  lr__solver=newton-cg, lr__C=10, broadmatch__kw_args={'turn_on': True}, lr__multi_class=multinomial, score=0.739597315436, total=   8.3s\n",
      "[CV] lr__solver=lbfgs, lr__C=10, broadmatch__kw_args={'turn_on': True}, lr__multi_class=multinomial \n",
      "[CV]  lr__solver=lbfgs, lr__C=10, broadmatch__kw_args={'turn_on': True}, lr__multi_class=multinomial, score=0.732127908923, total=   3.6s\n",
      "[CV] lr__solver=lbfgs, lr__C=10, broadmatch__kw_args={'turn_on': True}, lr__multi_class=multinomial \n",
      "[CV]  lr__solver=lbfgs, lr__C=10, broadmatch__kw_args={'turn_on': True}, lr__multi_class=multinomial, score=0.730273077567, total=   3.6s\n",
      "[CV] lr__solver=lbfgs, lr__C=10, broadmatch__kw_args={'turn_on': True}, lr__multi_class=multinomial \n",
      "[CV]  lr__solver=lbfgs, lr__C=10, broadmatch__kw_args={'turn_on': True}, lr__multi_class=multinomial, score=0.732148843446, total=   3.6s\n",
      "[CV] lr__solver=lbfgs, lr__C=10, broadmatch__kw_args={'turn_on': True}, lr__multi_class=multinomial \n",
      "[CV]  lr__solver=lbfgs, lr__C=10, broadmatch__kw_args={'turn_on': True}, lr__multi_class=multinomial, score=0.750251593425, total=   3.7s\n",
      "[CV] lr__solver=lbfgs, lr__C=10, broadmatch__kw_args={'turn_on': True}, lr__multi_class=multinomial \n",
      "[CV]  lr__solver=lbfgs, lr__C=10, broadmatch__kw_args={'turn_on': True}, lr__multi_class=multinomial, score=0.739765100671, total=   3.6s\n",
      "[CV] lr__solver=sag, lr__C=10, broadmatch__kw_args={'turn_on': True}, lr__multi_class=multinomial \n",
      "[CV]  lr__solver=sag, lr__C=10, broadmatch__kw_args={'turn_on': True}, lr__multi_class=multinomial, score=0.732965009208, total=   4.7s\n",
      "[CV] lr__solver=sag, lr__C=10, broadmatch__kw_args={'turn_on': True}, lr__multi_class=multinomial \n",
      "[CV]  lr__solver=sag, lr__C=10, broadmatch__kw_args={'turn_on': True}, lr__multi_class=multinomial, score=0.731613335567, total=   4.7s\n",
      "[CV] lr__solver=sag, lr__C=10, broadmatch__kw_args={'turn_on': True}, lr__multi_class=multinomial \n",
      "[CV]  lr__solver=sag, lr__C=10, broadmatch__kw_args={'turn_on': True}, lr__multi_class=multinomial, score=0.732986925914, total=   4.7s\n",
      "[CV] lr__solver=sag, lr__C=10, broadmatch__kw_args={'turn_on': True}, lr__multi_class=multinomial \n",
      "[CV]  lr__solver=sag, lr__C=10, broadmatch__kw_args={'turn_on': True}, lr__multi_class=multinomial, score=0.751593425025, total=   4.9s\n",
      "[CV] lr__solver=sag, lr__C=10, broadmatch__kw_args={'turn_on': True}, lr__multi_class=multinomial \n",
      "[CV]  lr__solver=sag, lr__C=10, broadmatch__kw_args={'turn_on': True}, lr__multi_class=multinomial, score=0.738758389262, total=   4.8s\n",
      "[CV] lr__solver=saga, lr__C=10, broadmatch__kw_args={'turn_on': True}, lr__multi_class=multinomial \n",
      "[CV]  lr__solver=saga, lr__C=10, broadmatch__kw_args={'turn_on': True}, lr__multi_class=multinomial, score=0.737317930688, total=   4.9s\n",
      "[CV] lr__solver=saga, lr__C=10, broadmatch__kw_args={'turn_on': True}, lr__multi_class=multinomial \n",
      "[CV]  lr__solver=saga, lr__C=10, broadmatch__kw_args={'turn_on': True}, lr__multi_class=multinomial, score=0.736471770816, total=   5.0s\n",
      "[CV] lr__solver=saga, lr__C=10, broadmatch__kw_args={'turn_on': True}, lr__multi_class=multinomial \n"
     ]
    },
    {
     "name": "stdout",
     "output_type": "stream",
     "text": [
      "[CV]  lr__solver=saga, lr__C=10, broadmatch__kw_args={'turn_on': True}, lr__multi_class=multinomial, score=0.738350653704, total=   5.1s\n",
      "[CV] lr__solver=saga, lr__C=10, broadmatch__kw_args={'turn_on': True}, lr__multi_class=multinomial \n",
      "[CV]  lr__solver=saga, lr__C=10, broadmatch__kw_args={'turn_on': True}, lr__multi_class=multinomial, score=0.755283461926, total=   5.0s\n",
      "[CV] lr__solver=saga, lr__C=10, broadmatch__kw_args={'turn_on': True}, lr__multi_class=multinomial \n",
      "[CV]  lr__solver=saga, lr__C=10, broadmatch__kw_args={'turn_on': True}, lr__multi_class=multinomial, score=0.740939597315, total=   5.0s\n",
      "[CV] lr__solver=newton-cg, lr__C=100, broadmatch__kw_args={'turn_on': True}, lr__multi_class=ovr \n",
      "[CV]  lr__solver=newton-cg, lr__C=100, broadmatch__kw_args={'turn_on': True}, lr__multi_class=ovr, score=0.726435626988, total=   8.7s\n",
      "[CV] lr__solver=newton-cg, lr__C=100, broadmatch__kw_args={'turn_on': True}, lr__multi_class=ovr \n",
      "[CV]  lr__solver=newton-cg, lr__C=100, broadmatch__kw_args={'turn_on': True}, lr__multi_class=ovr, score=0.730105545317, total=   8.7s\n",
      "[CV] lr__solver=newton-cg, lr__C=100, broadmatch__kw_args={'turn_on': True}, lr__multi_class=ovr \n",
      "[CV]  lr__solver=newton-cg, lr__C=100, broadmatch__kw_args={'turn_on': True}, lr__multi_class=ovr, score=0.725947033188, total=   8.9s\n",
      "[CV] lr__solver=newton-cg, lr__C=100, broadmatch__kw_args={'turn_on': True}, lr__multi_class=ovr \n",
      "[CV]  lr__solver=newton-cg, lr__C=100, broadmatch__kw_args={'turn_on': True}, lr__multi_class=ovr, score=0.740187856424, total=   8.7s\n",
      "[CV] lr__solver=newton-cg, lr__C=100, broadmatch__kw_args={'turn_on': True}, lr__multi_class=ovr \n",
      "[CV]  lr__solver=newton-cg, lr__C=100, broadmatch__kw_args={'turn_on': True}, lr__multi_class=ovr, score=0.732046979866, total=   8.8s\n",
      "[CV] lr__solver=lbfgs, lr__C=100, broadmatch__kw_args={'turn_on': True}, lr__multi_class=ovr \n",
      "[CV]  lr__solver=lbfgs, lr__C=100, broadmatch__kw_args={'turn_on': True}, lr__multi_class=ovr, score=0.726770467102, total=   4.3s\n",
      "[CV] lr__solver=lbfgs, lr__C=100, broadmatch__kw_args={'turn_on': True}, lr__multi_class=ovr \n",
      "[CV]  lr__solver=lbfgs, lr__C=100, broadmatch__kw_args={'turn_on': True}, lr__multi_class=ovr, score=0.731445803317, total=   4.4s\n",
      "[CV] lr__solver=lbfgs, lr__C=100, broadmatch__kw_args={'turn_on': True}, lr__multi_class=ovr \n",
      "[CV]  lr__solver=lbfgs, lr__C=100, broadmatch__kw_args={'turn_on': True}, lr__multi_class=ovr, score=0.725947033188, total=   4.4s\n",
      "[CV] lr__solver=lbfgs, lr__C=100, broadmatch__kw_args={'turn_on': True}, lr__multi_class=ovr \n",
      "[CV]  lr__solver=lbfgs, lr__C=100, broadmatch__kw_args={'turn_on': True}, lr__multi_class=ovr, score=0.741361959074, total=   4.3s\n",
      "[CV] lr__solver=lbfgs, lr__C=100, broadmatch__kw_args={'turn_on': True}, lr__multi_class=ovr \n",
      "[CV]  lr__solver=lbfgs, lr__C=100, broadmatch__kw_args={'turn_on': True}, lr__multi_class=ovr, score=0.73255033557, total=   4.3s\n",
      "[CV] lr__solver=sag, lr__C=100, broadmatch__kw_args={'turn_on': True}, lr__multi_class=ovr \n",
      "[CV]  lr__solver=sag, lr__C=100, broadmatch__kw_args={'turn_on': True}, lr__multi_class=ovr, score=0.734806629834, total=  54.0s\n",
      "[CV] lr__solver=sag, lr__C=100, broadmatch__kw_args={'turn_on': True}, lr__multi_class=ovr \n",
      "[CV]  lr__solver=sag, lr__C=100, broadmatch__kw_args={'turn_on': True}, lr__multi_class=ovr, score=0.737812028816, total=  53.5s\n",
      "[CV] lr__solver=sag, lr__C=100, broadmatch__kw_args={'turn_on': True}, lr__multi_class=ovr \n",
      "[CV]  lr__solver=sag, lr__C=100, broadmatch__kw_args={'turn_on': True}, lr__multi_class=ovr, score=0.733825008381, total=  53.7s\n",
      "[CV] lr__solver=sag, lr__C=100, broadmatch__kw_args={'turn_on': True}, lr__multi_class=ovr \n",
      "[CV]  lr__solver=sag, lr__C=100, broadmatch__kw_args={'turn_on': True}, lr__multi_class=ovr, score=0.749412948675, total=  54.4s\n",
      "[CV] lr__solver=sag, lr__C=100, broadmatch__kw_args={'turn_on': True}, lr__multi_class=ovr \n",
      "[CV]  lr__solver=sag, lr__C=100, broadmatch__kw_args={'turn_on': True}, lr__multi_class=ovr, score=0.738422818792, total=  54.5s\n",
      "[CV] lr__solver=saga, lr__C=100, broadmatch__kw_args={'turn_on': True}, lr__multi_class=ovr \n",
      "[CV]  lr__solver=saga, lr__C=100, broadmatch__kw_args={'turn_on': True}, lr__multi_class=ovr, score=0.740164071656, total=  54.8s\n",
      "[CV] lr__solver=saga, lr__C=100, broadmatch__kw_args={'turn_on': True}, lr__multi_class=ovr \n",
      "[CV]  lr__solver=saga, lr__C=100, broadmatch__kw_args={'turn_on': True}, lr__multi_class=ovr, score=0.743843189814, total=  54.8s\n",
      "[CV] lr__solver=saga, lr__C=100, broadmatch__kw_args={'turn_on': True}, lr__multi_class=ovr \n",
      "[CV]  lr__solver=saga, lr__C=100, broadmatch__kw_args={'turn_on': True}, lr__multi_class=ovr, score=0.738518270198, total=  54.7s\n",
      "[CV] lr__solver=saga, lr__C=100, broadmatch__kw_args={'turn_on': True}, lr__multi_class=ovr \n",
      "[CV]  lr__solver=saga, lr__C=100, broadmatch__kw_args={'turn_on': True}, lr__multi_class=ovr, score=0.754444817175, total=  54.4s\n",
      "[CV] lr__solver=saga, lr__C=100, broadmatch__kw_args={'turn_on': True}, lr__multi_class=ovr \n",
      "[CV]  lr__solver=saga, lr__C=100, broadmatch__kw_args={'turn_on': True}, lr__multi_class=ovr, score=0.74211409396, total=  54.8s\n",
      "[CV] lr__solver=newton-cg, lr__C=100, broadmatch__kw_args={'turn_on': True}, lr__multi_class=multinomial \n",
      "[CV]  lr__solver=newton-cg, lr__C=100, broadmatch__kw_args={'turn_on': True}, lr__multi_class=multinomial, score=0.702829398962, total=  17.3s\n",
      "[CV] lr__solver=newton-cg, lr__C=100, broadmatch__kw_args={'turn_on': True}, lr__multi_class=multinomial \n",
      "[CV]  lr__solver=newton-cg, lr__C=100, broadmatch__kw_args={'turn_on': True}, lr__multi_class=multinomial, score=0.707321159323, total=  16.5s\n",
      "[CV] lr__solver=newton-cg, lr__C=100, broadmatch__kw_args={'turn_on': True}, lr__multi_class=multinomial \n",
      "[CV]  lr__solver=newton-cg, lr__C=100, broadmatch__kw_args={'turn_on': True}, lr__multi_class=multinomial, score=0.70667113644, total=  14.7s\n",
      "[CV] lr__solver=newton-cg, lr__C=100, broadmatch__kw_args={'turn_on': True}, lr__multi_class=multinomial \n",
      "[CV]  lr__solver=newton-cg, lr__C=100, broadmatch__kw_args={'turn_on': True}, lr__multi_class=multinomial, score=0.720228111372, total=  15.4s\n",
      "[CV] lr__solver=newton-cg, lr__C=100, broadmatch__kw_args={'turn_on': True}, lr__multi_class=multinomial \n",
      "[CV]  lr__solver=newton-cg, lr__C=100, broadmatch__kw_args={'turn_on': True}, lr__multi_class=multinomial, score=0.71744966443, total=  14.4s\n",
      "[CV] lr__solver=lbfgs, lr__C=100, broadmatch__kw_args={'turn_on': True}, lr__multi_class=multinomial \n",
      "[CV]  lr__solver=lbfgs, lr__C=100, broadmatch__kw_args={'turn_on': True}, lr__multi_class=multinomial, score=0.717897204085, total=   3.6s\n",
      "[CV] lr__solver=lbfgs, lr__C=100, broadmatch__kw_args={'turn_on': True}, lr__multi_class=multinomial \n",
      "[CV]  lr__solver=lbfgs, lr__C=100, broadmatch__kw_args={'turn_on': True}, lr__multi_class=multinomial, score=0.71904841682, total=   3.6s\n",
      "[CV] lr__solver=lbfgs, lr__C=100, broadmatch__kw_args={'turn_on': True}, lr__multi_class=multinomial \n",
      "[CV]  lr__solver=lbfgs, lr__C=100, broadmatch__kw_args={'turn_on': True}, lr__multi_class=multinomial, score=0.718907140463, total=   3.7s\n",
      "[CV] lr__solver=lbfgs, lr__C=100, broadmatch__kw_args={'turn_on': True}, lr__multi_class=multinomial \n",
      "[CV]  lr__solver=lbfgs, lr__C=100, broadmatch__kw_args={'turn_on': True}, lr__multi_class=multinomial, score=0.736665548474, total=   3.6s\n",
      "[CV] lr__solver=lbfgs, lr__C=100, broadmatch__kw_args={'turn_on': True}, lr__multi_class=multinomial \n",
      "[CV]  lr__solver=lbfgs, lr__C=100, broadmatch__kw_args={'turn_on': True}, lr__multi_class=multinomial, score=0.729026845638, total=   3.7s\n",
      "[CV] lr__solver=sag, lr__C=100, broadmatch__kw_args={'turn_on': True}, lr__multi_class=multinomial \n",
      "[CV]  lr__solver=sag, lr__C=100, broadmatch__kw_args={'turn_on': True}, lr__multi_class=multinomial, score=0.722417545622, total=   4.6s\n",
      "[CV] lr__solver=sag, lr__C=100, broadmatch__kw_args={'turn_on': True}, lr__multi_class=multinomial \n",
      "[CV]  lr__solver=sag, lr__C=100, broadmatch__kw_args={'turn_on': True}, lr__multi_class=multinomial, score=0.716870497571, total=   4.7s\n",
      "[CV] lr__solver=sag, lr__C=100, broadmatch__kw_args={'turn_on': True}, lr__multi_class=multinomial \n",
      "[CV]  lr__solver=sag, lr__C=100, broadmatch__kw_args={'turn_on': True}, lr__multi_class=multinomial, score=0.71974522293, total=   5.0s\n",
      "[CV] lr__solver=sag, lr__C=100, broadmatch__kw_args={'turn_on': True}, lr__multi_class=multinomial \n"
     ]
    },
    {
     "name": "stdout",
     "output_type": "stream",
     "text": [
      "[CV]  lr__solver=sag, lr__C=100, broadmatch__kw_args={'turn_on': True}, lr__multi_class=multinomial, score=0.737168735324, total=   4.6s\n",
      "[CV] lr__solver=sag, lr__C=100, broadmatch__kw_args={'turn_on': True}, lr__multi_class=multinomial \n",
      "[CV]  lr__solver=sag, lr__C=100, broadmatch__kw_args={'turn_on': True}, lr__multi_class=multinomial, score=0.728859060403, total=   4.8s\n",
      "[CV] lr__solver=saga, lr__C=100, broadmatch__kw_args={'turn_on': True}, lr__multi_class=multinomial \n",
      "[CV]  lr__solver=saga, lr__C=100, broadmatch__kw_args={'turn_on': True}, lr__multi_class=multinomial, score=0.729784028127, total=   5.0s\n",
      "[CV] lr__solver=saga, lr__C=100, broadmatch__kw_args={'turn_on': True}, lr__multi_class=multinomial \n",
      "[CV]  lr__solver=saga, lr__C=100, broadmatch__kw_args={'turn_on': True}, lr__multi_class=multinomial, score=0.728262690568, total=   5.0s\n",
      "[CV] lr__solver=saga, lr__C=100, broadmatch__kw_args={'turn_on': True}, lr__multi_class=multinomial \n",
      "[CV]  lr__solver=saga, lr__C=100, broadmatch__kw_args={'turn_on': True}, lr__multi_class=multinomial, score=0.729131746564, total=   4.9s\n",
      "[CV] lr__solver=saga, lr__C=100, broadmatch__kw_args={'turn_on': True}, lr__multi_class=multinomial \n",
      "[CV]  lr__solver=saga, lr__C=100, broadmatch__kw_args={'turn_on': True}, lr__multi_class=multinomial, score=0.748406574975, total=   5.0s\n",
      "[CV] lr__solver=saga, lr__C=100, broadmatch__kw_args={'turn_on': True}, lr__multi_class=multinomial \n",
      "[CV]  lr__solver=saga, lr__C=100, broadmatch__kw_args={'turn_on': True}, lr__multi_class=multinomial, score=0.737248322148, total=   5.2s\n",
      "[CV] lr__solver=newton-cg, lr__C=1000, broadmatch__kw_args={'turn_on': True}, lr__multi_class=ovr \n",
      "[CV]  lr__solver=newton-cg, lr__C=1000, broadmatch__kw_args={'turn_on': True}, lr__multi_class=ovr, score=0.715051063117, total=  14.5s\n",
      "[CV] lr__solver=newton-cg, lr__C=1000, broadmatch__kw_args={'turn_on': True}, lr__multi_class=ovr \n",
      "[CV]  lr__solver=newton-cg, lr__C=1000, broadmatch__kw_args={'turn_on': True}, lr__multi_class=ovr, score=0.717875691071, total=  14.9s\n",
      "[CV] lr__solver=newton-cg, lr__C=1000, broadmatch__kw_args={'turn_on': True}, lr__multi_class=ovr \n",
      "[CV]  lr__solver=newton-cg, lr__C=1000, broadmatch__kw_args={'turn_on': True}, lr__multi_class=ovr, score=0.715554810593, total=  14.8s\n",
      "[CV] lr__solver=newton-cg, lr__C=1000, broadmatch__kw_args={'turn_on': True}, lr__multi_class=ovr \n",
      "[CV]  lr__solver=newton-cg, lr__C=1000, broadmatch__kw_args={'turn_on': True}, lr__multi_class=ovr, score=0.730291848373, total=  15.2s\n",
      "[CV] lr__solver=newton-cg, lr__C=1000, broadmatch__kw_args={'turn_on': True}, lr__multi_class=ovr \n",
      "[CV]  lr__solver=newton-cg, lr__C=1000, broadmatch__kw_args={'turn_on': True}, lr__multi_class=ovr, score=0.721812080537, total=  14.7s\n",
      "[CV] lr__solver=lbfgs, lr__C=1000, broadmatch__kw_args={'turn_on': True}, lr__multi_class=ovr \n",
      "[CV]  lr__solver=lbfgs, lr__C=1000, broadmatch__kw_args={'turn_on': True}, lr__multi_class=ovr, score=0.716390423573, total=   4.3s\n",
      "[CV] lr__solver=lbfgs, lr__C=1000, broadmatch__kw_args={'turn_on': True}, lr__multi_class=ovr \n",
      "[CV]  lr__solver=lbfgs, lr__C=1000, broadmatch__kw_args={'turn_on': True}, lr__multi_class=ovr, score=0.722063997319, total=   4.4s\n",
      "[CV] lr__solver=lbfgs, lr__C=1000, broadmatch__kw_args={'turn_on': True}, lr__multi_class=ovr \n",
      "[CV]  lr__solver=lbfgs, lr__C=1000, broadmatch__kw_args={'turn_on': True}, lr__multi_class=ovr, score=0.717398592021, total=   4.4s\n",
      "[CV] lr__solver=lbfgs, lr__C=1000, broadmatch__kw_args={'turn_on': True}, lr__multi_class=ovr \n",
      "[CV]  lr__solver=lbfgs, lr__C=1000, broadmatch__kw_args={'turn_on': True}, lr__multi_class=ovr, score=0.734820530023, total=   4.5s\n",
      "[CV] lr__solver=lbfgs, lr__C=1000, broadmatch__kw_args={'turn_on': True}, lr__multi_class=ovr \n",
      "[CV]  lr__solver=lbfgs, lr__C=1000, broadmatch__kw_args={'turn_on': True}, lr__multi_class=ovr, score=0.725167785235, total=   4.4s\n",
      "[CV] lr__solver=sag, lr__C=1000, broadmatch__kw_args={'turn_on': True}, lr__multi_class=ovr \n",
      "[CV]  lr__solver=sag, lr__C=1000, broadmatch__kw_args={'turn_on': True}, lr__multi_class=ovr, score=0.732797589151, total=  54.1s\n",
      "[CV] lr__solver=sag, lr__C=1000, broadmatch__kw_args={'turn_on': True}, lr__multi_class=ovr \n",
      "[CV]  lr__solver=sag, lr__C=1000, broadmatch__kw_args={'turn_on': True}, lr__multi_class=ovr, score=0.737309432066, total=  54.7s\n",
      "[CV] lr__solver=sag, lr__C=1000, broadmatch__kw_args={'turn_on': True}, lr__multi_class=ovr \n",
      "[CV]  lr__solver=sag, lr__C=1000, broadmatch__kw_args={'turn_on': True}, lr__multi_class=ovr, score=0.732148843446, total=  55.0s\n",
      "[CV] lr__solver=sag, lr__C=1000, broadmatch__kw_args={'turn_on': True}, lr__multi_class=ovr \n",
      "[CV]  lr__solver=sag, lr__C=1000, broadmatch__kw_args={'turn_on': True}, lr__multi_class=ovr, score=0.748909761825, total=  55.0s\n",
      "[CV] lr__solver=sag, lr__C=1000, broadmatch__kw_args={'turn_on': True}, lr__multi_class=ovr \n",
      "[CV]  lr__solver=sag, lr__C=1000, broadmatch__kw_args={'turn_on': True}, lr__multi_class=ovr, score=0.737416107383, total=  54.4s\n",
      "[CV] lr__solver=saga, lr__C=1000, broadmatch__kw_args={'turn_on': True}, lr__multi_class=ovr \n",
      "[CV]  lr__solver=saga, lr__C=1000, broadmatch__kw_args={'turn_on': True}, lr__multi_class=ovr, score=0.738992131257, total=  54.1s\n",
      "[CV] lr__solver=saga, lr__C=1000, broadmatch__kw_args={'turn_on': True}, lr__multi_class=ovr \n",
      "[CV]  lr__solver=saga, lr__C=1000, broadmatch__kw_args={'turn_on': True}, lr__multi_class=ovr, score=0.743508125314, total=  55.9s\n",
      "[CV] lr__solver=saga, lr__C=1000, broadmatch__kw_args={'turn_on': True}, lr__multi_class=ovr \n",
      "[CV]  lr__solver=saga, lr__C=1000, broadmatch__kw_args={'turn_on': True}, lr__multi_class=ovr, score=0.738350653704, total=  54.9s\n",
      "[CV] lr__solver=saga, lr__C=1000, broadmatch__kw_args={'turn_on': True}, lr__multi_class=ovr \n",
      "[CV]  lr__solver=saga, lr__C=1000, broadmatch__kw_args={'turn_on': True}, lr__multi_class=ovr, score=0.753941630325, total=  53.7s\n",
      "[CV] lr__solver=saga, lr__C=1000, broadmatch__kw_args={'turn_on': True}, lr__multi_class=ovr \n",
      "[CV]  lr__solver=saga, lr__C=1000, broadmatch__kw_args={'turn_on': True}, lr__multi_class=ovr, score=0.741610738255, total=  54.6s\n",
      "[CV] lr__solver=newton-cg, lr__C=1000, broadmatch__kw_args={'turn_on': True}, lr__multi_class=multinomial \n",
      "[CV]  lr__solver=newton-cg, lr__C=1000, broadmatch__kw_args={'turn_on': True}, lr__multi_class=multinomial, score=0.685417713042, total=  52.3s\n",
      "[CV] lr__solver=newton-cg, lr__C=1000, broadmatch__kw_args={'turn_on': True}, lr__multi_class=multinomial \n",
      "[CV]  lr__solver=newton-cg, lr__C=1000, broadmatch__kw_args={'turn_on': True}, lr__multi_class=multinomial, score=0.690232869827, total=  52.1s\n",
      "[CV] lr__solver=newton-cg, lr__C=1000, broadmatch__kw_args={'turn_on': True}, lr__multi_class=multinomial \n",
      "[CV]  lr__solver=newton-cg, lr__C=1000, broadmatch__kw_args={'turn_on': True}, lr__multi_class=multinomial, score=0.69460274891, total=  48.2s\n",
      "[CV] lr__solver=newton-cg, lr__C=1000, broadmatch__kw_args={'turn_on': True}, lr__multi_class=multinomial \n",
      "[CV]  lr__solver=newton-cg, lr__C=1000, broadmatch__kw_args={'turn_on': True}, lr__multi_class=multinomial, score=0.70261657162, total=  45.2s\n",
      "[CV] lr__solver=newton-cg, lr__C=1000, broadmatch__kw_args={'turn_on': True}, lr__multi_class=multinomial \n",
      "[CV]  lr__solver=newton-cg, lr__C=1000, broadmatch__kw_args={'turn_on': True}, lr__multi_class=multinomial, score=0.701342281879, total=  47.6s\n",
      "[CV] lr__solver=lbfgs, lr__C=1000, broadmatch__kw_args={'turn_on': True}, lr__multi_class=multinomial \n",
      "[CV]  lr__solver=lbfgs, lr__C=1000, broadmatch__kw_args={'turn_on': True}, lr__multi_class=multinomial, score=0.713711702662, total=   3.6s\n",
      "[CV] lr__solver=lbfgs, lr__C=1000, broadmatch__kw_args={'turn_on': True}, lr__multi_class=multinomial \n",
      "[CV]  lr__solver=lbfgs, lr__C=1000, broadmatch__kw_args={'turn_on': True}, lr__multi_class=multinomial, score=0.713352320322, total=   3.7s\n",
      "[CV] lr__solver=lbfgs, lr__C=1000, broadmatch__kw_args={'turn_on': True}, lr__multi_class=multinomial \n",
      "[CV]  lr__solver=lbfgs, lr__C=1000, broadmatch__kw_args={'turn_on': True}, lr__multi_class=multinomial, score=0.720080455917, total=   3.5s\n",
      "[CV] lr__solver=lbfgs, lr__C=1000, broadmatch__kw_args={'turn_on': True}, lr__multi_class=multinomial \n"
     ]
    },
    {
     "name": "stdout",
     "output_type": "stream",
     "text": [
      "[CV]  lr__solver=lbfgs, lr__C=1000, broadmatch__kw_args={'turn_on': True}, lr__multi_class=multinomial, score=0.735826903724, total=   3.6s\n",
      "[CV] lr__solver=lbfgs, lr__C=1000, broadmatch__kw_args={'turn_on': True}, lr__multi_class=multinomial \n",
      "[CV]  lr__solver=lbfgs, lr__C=1000, broadmatch__kw_args={'turn_on': True}, lr__multi_class=multinomial, score=0.726342281879, total=   3.7s\n",
      "[CV] lr__solver=sag, lr__C=1000, broadmatch__kw_args={'turn_on': True}, lr__multi_class=multinomial \n",
      "[CV]  lr__solver=sag, lr__C=1000, broadmatch__kw_args={'turn_on': True}, lr__multi_class=multinomial, score=0.720743345053, total=   4.9s\n",
      "[CV] lr__solver=sag, lr__C=1000, broadmatch__kw_args={'turn_on': True}, lr__multi_class=multinomial \n",
      "[CV]  lr__solver=sag, lr__C=1000, broadmatch__kw_args={'turn_on': True}, lr__multi_class=multinomial, score=0.715530239571, total=   4.8s\n",
      "[CV] lr__solver=sag, lr__C=1000, broadmatch__kw_args={'turn_on': True}, lr__multi_class=multinomial \n",
      "[CV]  lr__solver=sag, lr__C=1000, broadmatch__kw_args={'turn_on': True}, lr__multi_class=multinomial, score=0.719074756956, total=   4.9s\n",
      "[CV] lr__solver=sag, lr__C=1000, broadmatch__kw_args={'turn_on': True}, lr__multi_class=multinomial \n",
      "[CV]  lr__solver=sag, lr__C=1000, broadmatch__kw_args={'turn_on': True}, lr__multi_class=multinomial, score=0.735994632674, total=   4.8s\n",
      "[CV] lr__solver=sag, lr__C=1000, broadmatch__kw_args={'turn_on': True}, lr__multi_class=multinomial \n",
      "[CV]  lr__solver=sag, lr__C=1000, broadmatch__kw_args={'turn_on': True}, lr__multi_class=multinomial, score=0.727181208054, total=   4.7s\n",
      "[CV] lr__solver=saga, lr__C=1000, broadmatch__kw_args={'turn_on': True}, lr__multi_class=multinomial \n",
      "[CV]  lr__solver=saga, lr__C=1000, broadmatch__kw_args={'turn_on': True}, lr__multi_class=multinomial, score=0.729281767956, total=   5.0s\n",
      "[CV] lr__solver=saga, lr__C=1000, broadmatch__kw_args={'turn_on': True}, lr__multi_class=multinomial \n",
      "[CV]  lr__solver=saga, lr__C=1000, broadmatch__kw_args={'turn_on': True}, lr__multi_class=multinomial, score=0.726419835818, total=   5.0s\n",
      "[CV] lr__solver=saga, lr__C=1000, broadmatch__kw_args={'turn_on': True}, lr__multi_class=multinomial \n",
      "[CV]  lr__solver=saga, lr__C=1000, broadmatch__kw_args={'turn_on': True}, lr__multi_class=multinomial, score=0.729131746564, total=   4.9s\n",
      "[CV] lr__solver=saga, lr__C=1000, broadmatch__kw_args={'turn_on': True}, lr__multi_class=multinomial \n",
      "[CV]  lr__solver=saga, lr__C=1000, broadmatch__kw_args={'turn_on': True}, lr__multi_class=multinomial, score=0.747903388125, total=   5.2s\n",
      "[CV] lr__solver=saga, lr__C=1000, broadmatch__kw_args={'turn_on': True}, lr__multi_class=multinomial \n",
      "[CV]  lr__solver=saga, lr__C=1000, broadmatch__kw_args={'turn_on': True}, lr__multi_class=multinomial, score=0.736577181208, total=   4.9s\n",
      "[CV] lr__solver=newton-cg, lr__C=0.1, broadmatch__kw_args={'turn_on': False}, lr__multi_class=ovr \n",
      "[CV]  lr__solver=newton-cg, lr__C=0.1, broadmatch__kw_args={'turn_on': False}, lr__multi_class=ovr, score=0.725933366817, total=   3.4s\n",
      "[CV] lr__solver=newton-cg, lr__C=0.1, broadmatch__kw_args={'turn_on': False}, lr__multi_class=ovr \n",
      "[CV]  lr__solver=newton-cg, lr__C=0.1, broadmatch__kw_args={'turn_on': False}, lr__multi_class=ovr, score=0.731780867817, total=   3.5s\n",
      "[CV] lr__solver=newton-cg, lr__C=0.1, broadmatch__kw_args={'turn_on': False}, lr__multi_class=ovr \n",
      "[CV]  lr__solver=newton-cg, lr__C=0.1, broadmatch__kw_args={'turn_on': False}, lr__multi_class=ovr, score=0.723432785786, total=   3.5s\n",
      "[CV] lr__solver=newton-cg, lr__C=0.1, broadmatch__kw_args={'turn_on': False}, lr__multi_class=ovr \n",
      "[CV]  lr__solver=newton-cg, lr__C=0.1, broadmatch__kw_args={'turn_on': False}, lr__multi_class=ovr, score=0.738678295874, total=   3.4s\n",
      "[CV] lr__solver=newton-cg, lr__C=0.1, broadmatch__kw_args={'turn_on': False}, lr__multi_class=ovr \n",
      "[CV]  lr__solver=newton-cg, lr__C=0.1, broadmatch__kw_args={'turn_on': False}, lr__multi_class=ovr, score=0.735067114094, total=   3.4s\n",
      "[CV] lr__solver=lbfgs, lr__C=0.1, broadmatch__kw_args={'turn_on': False}, lr__multi_class=ovr \n",
      "[CV]  lr__solver=lbfgs, lr__C=0.1, broadmatch__kw_args={'turn_on': False}, lr__multi_class=ovr, score=0.725933366817, total=   2.5s\n",
      "[CV] lr__solver=lbfgs, lr__C=0.1, broadmatch__kw_args={'turn_on': False}, lr__multi_class=ovr \n",
      "[CV]  lr__solver=lbfgs, lr__C=0.1, broadmatch__kw_args={'turn_on': False}, lr__multi_class=ovr, score=0.731780867817, total=   2.4s\n",
      "[CV] lr__solver=lbfgs, lr__C=0.1, broadmatch__kw_args={'turn_on': False}, lr__multi_class=ovr \n",
      "[CV]  lr__solver=lbfgs, lr__C=0.1, broadmatch__kw_args={'turn_on': False}, lr__multi_class=ovr, score=0.723432785786, total=   2.4s\n",
      "[CV] lr__solver=lbfgs, lr__C=0.1, broadmatch__kw_args={'turn_on': False}, lr__multi_class=ovr \n",
      "[CV]  lr__solver=lbfgs, lr__C=0.1, broadmatch__kw_args={'turn_on': False}, lr__multi_class=ovr, score=0.738678295874, total=   2.5s\n",
      "[CV] lr__solver=lbfgs, lr__C=0.1, broadmatch__kw_args={'turn_on': False}, lr__multi_class=ovr \n",
      "[CV]  lr__solver=lbfgs, lr__C=0.1, broadmatch__kw_args={'turn_on': False}, lr__multi_class=ovr, score=0.735067114094, total=   2.4s\n",
      "[CV] lr__solver=sag, lr__C=0.1, broadmatch__kw_args={'turn_on': False}, lr__multi_class=ovr \n",
      "[CV]  lr__solver=sag, lr__C=0.1, broadmatch__kw_args={'turn_on': False}, lr__multi_class=ovr, score=0.725933366817, total=  35.7s\n",
      "[CV] lr__solver=sag, lr__C=0.1, broadmatch__kw_args={'turn_on': False}, lr__multi_class=ovr \n",
      "[CV]  lr__solver=sag, lr__C=0.1, broadmatch__kw_args={'turn_on': False}, lr__multi_class=ovr, score=0.731780867817, total=  38.4s\n",
      "[CV] lr__solver=sag, lr__C=0.1, broadmatch__kw_args={'turn_on': False}, lr__multi_class=ovr \n",
      "[CV]  lr__solver=sag, lr__C=0.1, broadmatch__kw_args={'turn_on': False}, lr__multi_class=ovr, score=0.72360040228, total=  38.7s\n",
      "[CV] lr__solver=sag, lr__C=0.1, broadmatch__kw_args={'turn_on': False}, lr__multi_class=ovr \n",
      "[CV]  lr__solver=sag, lr__C=0.1, broadmatch__kw_args={'turn_on': False}, lr__multi_class=ovr, score=0.738510566924, total=  39.6s\n",
      "[CV] lr__solver=sag, lr__C=0.1, broadmatch__kw_args={'turn_on': False}, lr__multi_class=ovr \n",
      "[CV]  lr__solver=sag, lr__C=0.1, broadmatch__kw_args={'turn_on': False}, lr__multi_class=ovr, score=0.735067114094, total=  39.7s\n",
      "[CV] lr__solver=saga, lr__C=0.1, broadmatch__kw_args={'turn_on': False}, lr__multi_class=ovr \n",
      "[CV]  lr__solver=saga, lr__C=0.1, broadmatch__kw_args={'turn_on': False}, lr__multi_class=ovr, score=0.727105307216, total=  56.5s\n",
      "[CV] lr__solver=saga, lr__C=0.1, broadmatch__kw_args={'turn_on': False}, lr__multi_class=ovr \n",
      "[CV]  lr__solver=saga, lr__C=0.1, broadmatch__kw_args={'turn_on': False}, lr__multi_class=ovr, score=0.734126319316, total=  56.5s\n",
      "[CV] lr__solver=saga, lr__C=0.1, broadmatch__kw_args={'turn_on': False}, lr__multi_class=ovr \n",
      "[CV]  lr__solver=saga, lr__C=0.1, broadmatch__kw_args={'turn_on': False}, lr__multi_class=ovr, score=0.725108950721, total=  57.5s\n",
      "[CV] lr__solver=saga, lr__C=0.1, broadmatch__kw_args={'turn_on': False}, lr__multi_class=ovr \n",
      "[CV]  lr__solver=saga, lr__C=0.1, broadmatch__kw_args={'turn_on': False}, lr__multi_class=ovr, score=0.741026501174, total=  55.5s\n",
      "[CV] lr__solver=saga, lr__C=0.1, broadmatch__kw_args={'turn_on': False}, lr__multi_class=ovr \n",
      "[CV]  lr__solver=saga, lr__C=0.1, broadmatch__kw_args={'turn_on': False}, lr__multi_class=ovr, score=0.738758389262, total=  58.4s\n",
      "[CV] lr__solver=newton-cg, lr__C=0.1, broadmatch__kw_args={'turn_on': False}, lr__multi_class=multinomial \n",
      "[CV]  lr__solver=newton-cg, lr__C=0.1, broadmatch__kw_args={'turn_on': False}, lr__multi_class=multinomial, score=0.737652770802, total=   4.0s\n",
      "[CV] lr__solver=newton-cg, lr__C=0.1, broadmatch__kw_args={'turn_on': False}, lr__multi_class=multinomial \n",
      "[CV]  lr__solver=newton-cg, lr__C=0.1, broadmatch__kw_args={'turn_on': False}, lr__multi_class=multinomial, score=0.741330206065, total=   3.9s\n",
      "[CV] lr__solver=newton-cg, lr__C=0.1, broadmatch__kw_args={'turn_on': False}, lr__multi_class=multinomial \n",
      "[CV]  lr__solver=newton-cg, lr__C=0.1, broadmatch__kw_args={'turn_on': False}, lr__multi_class=multinomial, score=0.736004022796, total=   3.8s\n",
      "[CV] lr__solver=newton-cg, lr__C=0.1, broadmatch__kw_args={'turn_on': False}, lr__multi_class=multinomial \n",
      "[CV]  lr__solver=newton-cg, lr__C=0.1, broadmatch__kw_args={'turn_on': False}, lr__multi_class=multinomial, score=0.748071117075, total=   3.7s\n",
      "[CV] lr__solver=newton-cg, lr__C=0.1, broadmatch__kw_args={'turn_on': False}, lr__multi_class=multinomial \n"
     ]
    },
    {
     "name": "stdout",
     "output_type": "stream",
     "text": [
      "[CV]  lr__solver=newton-cg, lr__C=0.1, broadmatch__kw_args={'turn_on': False}, lr__multi_class=multinomial, score=0.745469798658, total=   3.8s\n",
      "[CV] lr__solver=lbfgs, lr__C=0.1, broadmatch__kw_args={'turn_on': False}, lr__multi_class=multinomial \n",
      "[CV]  lr__solver=lbfgs, lr__C=0.1, broadmatch__kw_args={'turn_on': False}, lr__multi_class=multinomial, score=0.737652770802, total=   2.9s\n",
      "[CV] lr__solver=lbfgs, lr__C=0.1, broadmatch__kw_args={'turn_on': False}, lr__multi_class=multinomial \n",
      "[CV]  lr__solver=lbfgs, lr__C=0.1, broadmatch__kw_args={'turn_on': False}, lr__multi_class=multinomial, score=0.741330206065, total=   2.8s\n",
      "[CV] lr__solver=lbfgs, lr__C=0.1, broadmatch__kw_args={'turn_on': False}, lr__multi_class=multinomial \n",
      "[CV]  lr__solver=lbfgs, lr__C=0.1, broadmatch__kw_args={'turn_on': False}, lr__multi_class=multinomial, score=0.736004022796, total=   2.9s\n",
      "[CV] lr__solver=lbfgs, lr__C=0.1, broadmatch__kw_args={'turn_on': False}, lr__multi_class=multinomial \n",
      "[CV]  lr__solver=lbfgs, lr__C=0.1, broadmatch__kw_args={'turn_on': False}, lr__multi_class=multinomial, score=0.748071117075, total=   3.2s\n",
      "[CV] lr__solver=lbfgs, lr__C=0.1, broadmatch__kw_args={'turn_on': False}, lr__multi_class=multinomial \n",
      "[CV]  lr__solver=lbfgs, lr__C=0.1, broadmatch__kw_args={'turn_on': False}, lr__multi_class=multinomial, score=0.745469798658, total=   3.2s\n",
      "[CV] lr__solver=sag, lr__C=0.1, broadmatch__kw_args={'turn_on': False}, lr__multi_class=multinomial \n",
      "[CV]  lr__solver=sag, lr__C=0.1, broadmatch__kw_args={'turn_on': False}, lr__multi_class=multinomial, score=0.737652770802, total=   3.4s\n",
      "[CV] lr__solver=sag, lr__C=0.1, broadmatch__kw_args={'turn_on': False}, lr__multi_class=multinomial \n",
      "[CV]  lr__solver=sag, lr__C=0.1, broadmatch__kw_args={'turn_on': False}, lr__multi_class=multinomial, score=0.741497738315, total=   3.9s\n",
      "[CV] lr__solver=sag, lr__C=0.1, broadmatch__kw_args={'turn_on': False}, lr__multi_class=multinomial \n",
      "[CV]  lr__solver=sag, lr__C=0.1, broadmatch__kw_args={'turn_on': False}, lr__multi_class=multinomial, score=0.736004022796, total=   3.7s\n",
      "[CV] lr__solver=sag, lr__C=0.1, broadmatch__kw_args={'turn_on': False}, lr__multi_class=multinomial \n",
      "[CV]  lr__solver=sag, lr__C=0.1, broadmatch__kw_args={'turn_on': False}, lr__multi_class=multinomial, score=0.748238846025, total=   3.7s\n",
      "[CV] lr__solver=sag, lr__C=0.1, broadmatch__kw_args={'turn_on': False}, lr__multi_class=multinomial \n",
      "[CV]  lr__solver=sag, lr__C=0.1, broadmatch__kw_args={'turn_on': False}, lr__multi_class=multinomial, score=0.745637583893, total=   3.9s\n",
      "[CV] lr__solver=saga, lr__C=0.1, broadmatch__kw_args={'turn_on': False}, lr__multi_class=multinomial \n",
      "[CV]  lr__solver=saga, lr__C=0.1, broadmatch__kw_args={'turn_on': False}, lr__multi_class=multinomial, score=0.738657291143, total=   5.0s\n",
      "[CV] lr__solver=saga, lr__C=0.1, broadmatch__kw_args={'turn_on': False}, lr__multi_class=multinomial \n",
      "[CV]  lr__solver=saga, lr__C=0.1, broadmatch__kw_args={'turn_on': False}, lr__multi_class=multinomial, score=0.742837996314, total=   4.8s\n",
      "[CV] lr__solver=saga, lr__C=0.1, broadmatch__kw_args={'turn_on': False}, lr__multi_class=multinomial \n",
      "[CV]  lr__solver=saga, lr__C=0.1, broadmatch__kw_args={'turn_on': False}, lr__multi_class=multinomial, score=0.736506872276, total=   5.0s\n",
      "[CV] lr__solver=saga, lr__C=0.1, broadmatch__kw_args={'turn_on': False}, lr__multi_class=multinomial \n",
      "[CV]  lr__solver=saga, lr__C=0.1, broadmatch__kw_args={'turn_on': False}, lr__multi_class=multinomial, score=0.748574303925, total=   4.9s\n",
      "[CV] lr__solver=saga, lr__C=0.1, broadmatch__kw_args={'turn_on': False}, lr__multi_class=multinomial \n",
      "[CV]  lr__solver=saga, lr__C=0.1, broadmatch__kw_args={'turn_on': False}, lr__multi_class=multinomial, score=0.745805369128, total=   5.0s\n",
      "[CV] lr__solver=newton-cg, lr__C=1, broadmatch__kw_args={'turn_on': False}, lr__multi_class=ovr \n",
      "[CV]  lr__solver=newton-cg, lr__C=1, broadmatch__kw_args={'turn_on': False}, lr__multi_class=ovr, score=0.764272559853, total=   4.1s\n",
      "[CV] lr__solver=newton-cg, lr__C=1, broadmatch__kw_args={'turn_on': False}, lr__multi_class=ovr \n",
      "[CV]  lr__solver=newton-cg, lr__C=1, broadmatch__kw_args={'turn_on': False}, lr__multi_class=ovr, score=0.767130172558, total=   4.1s\n",
      "[CV] lr__solver=newton-cg, lr__C=1, broadmatch__kw_args={'turn_on': False}, lr__multi_class=ovr \n",
      "[CV]  lr__solver=newton-cg, lr__C=1, broadmatch__kw_args={'turn_on': False}, lr__multi_class=ovr, score=0.761481729802, total=   4.1s\n",
      "[CV] lr__solver=newton-cg, lr__C=1, broadmatch__kw_args={'turn_on': False}, lr__multi_class=ovr \n",
      "[CV]  lr__solver=newton-cg, lr__C=1, broadmatch__kw_args={'turn_on': False}, lr__multi_class=ovr, score=0.779100972828, total=   4.1s\n",
      "[CV] lr__solver=newton-cg, lr__C=1, broadmatch__kw_args={'turn_on': False}, lr__multi_class=ovr \n",
      "[CV]  lr__solver=newton-cg, lr__C=1, broadmatch__kw_args={'turn_on': False}, lr__multi_class=ovr, score=0.771140939597, total=   4.2s\n",
      "[CV] lr__solver=lbfgs, lr__C=1, broadmatch__kw_args={'turn_on': False}, lr__multi_class=ovr \n",
      "[CV]  lr__solver=lbfgs, lr__C=1, broadmatch__kw_args={'turn_on': False}, lr__multi_class=ovr, score=0.764272559853, total=   3.2s\n",
      "[CV] lr__solver=lbfgs, lr__C=1, broadmatch__kw_args={'turn_on': False}, lr__multi_class=ovr \n",
      "[CV]  lr__solver=lbfgs, lr__C=1, broadmatch__kw_args={'turn_on': False}, lr__multi_class=ovr, score=0.767130172558, total=   3.2s\n",
      "[CV] lr__solver=lbfgs, lr__C=1, broadmatch__kw_args={'turn_on': False}, lr__multi_class=ovr \n",
      "[CV]  lr__solver=lbfgs, lr__C=1, broadmatch__kw_args={'turn_on': False}, lr__multi_class=ovr, score=0.761481729802, total=   3.3s\n",
      "[CV] lr__solver=lbfgs, lr__C=1, broadmatch__kw_args={'turn_on': False}, lr__multi_class=ovr \n",
      "[CV]  lr__solver=lbfgs, lr__C=1, broadmatch__kw_args={'turn_on': False}, lr__multi_class=ovr, score=0.779100972828, total=   3.3s\n",
      "[CV] lr__solver=lbfgs, lr__C=1, broadmatch__kw_args={'turn_on': False}, lr__multi_class=ovr \n",
      "[CV]  lr__solver=lbfgs, lr__C=1, broadmatch__kw_args={'turn_on': False}, lr__multi_class=ovr, score=0.771140939597, total=   3.2s\n",
      "[CV] lr__solver=sag, lr__C=1, broadmatch__kw_args={'turn_on': False}, lr__multi_class=ovr \n",
      "[CV]  lr__solver=sag, lr__C=1, broadmatch__kw_args={'turn_on': False}, lr__multi_class=ovr, score=0.764774820023, total=  49.3s\n",
      "[CV] lr__solver=sag, lr__C=1, broadmatch__kw_args={'turn_on': False}, lr__multi_class=ovr \n",
      "[CV]  lr__solver=sag, lr__C=1, broadmatch__kw_args={'turn_on': False}, lr__multi_class=ovr, score=0.767632769308, total=  52.6s\n",
      "[CV] lr__solver=sag, lr__C=1, broadmatch__kw_args={'turn_on': False}, lr__multi_class=ovr \n",
      "[CV]  lr__solver=sag, lr__C=1, broadmatch__kw_args={'turn_on': False}, lr__multi_class=ovr, score=0.761649346296, total=  51.7s\n",
      "[CV] lr__solver=sag, lr__C=1, broadmatch__kw_args={'turn_on': False}, lr__multi_class=ovr \n",
      "[CV]  lr__solver=sag, lr__C=1, broadmatch__kw_args={'turn_on': False}, lr__multi_class=ovr, score=0.779939617578, total=  52.5s\n",
      "[CV] lr__solver=sag, lr__C=1, broadmatch__kw_args={'turn_on': False}, lr__multi_class=ovr \n",
      "[CV]  lr__solver=sag, lr__C=1, broadmatch__kw_args={'turn_on': False}, lr__multi_class=ovr, score=0.771308724832, total=  53.5s\n",
      "[CV] lr__solver=saga, lr__C=1, broadmatch__kw_args={'turn_on': False}, lr__multi_class=ovr \n",
      "[CV]  lr__solver=saga, lr__C=1, broadmatch__kw_args={'turn_on': False}, lr__multi_class=ovr, score=0.76711870082, total=  56.3s\n",
      "[CV] lr__solver=saga, lr__C=1, broadmatch__kw_args={'turn_on': False}, lr__multi_class=ovr \n",
      "[CV]  lr__solver=saga, lr__C=1, broadmatch__kw_args={'turn_on': False}, lr__multi_class=ovr, score=0.768973027308, total=  57.7s\n",
      "[CV] lr__solver=saga, lr__C=1, broadmatch__kw_args={'turn_on': False}, lr__multi_class=ovr \n",
      "[CV]  lr__solver=saga, lr__C=1, broadmatch__kw_args={'turn_on': False}, lr__multi_class=ovr, score=0.764498826685, total=  56.6s\n",
      "[CV] lr__solver=saga, lr__C=1, broadmatch__kw_args={'turn_on': False}, lr__multi_class=ovr \n",
      "[CV]  lr__solver=saga, lr__C=1, broadmatch__kw_args={'turn_on': False}, lr__multi_class=ovr, score=0.780442804428, total=  57.6s\n",
      "[CV] lr__solver=saga, lr__C=1, broadmatch__kw_args={'turn_on': False}, lr__multi_class=ovr \n",
      "[CV]  lr__solver=saga, lr__C=1, broadmatch__kw_args={'turn_on': False}, lr__multi_class=ovr, score=0.773154362416, total=  56.9s\n",
      "[CV] lr__solver=newton-cg, lr__C=1, broadmatch__kw_args={'turn_on': False}, lr__multi_class=multinomial \n"
     ]
    },
    {
     "name": "stdout",
     "output_type": "stream",
     "text": [
      "[CV]  lr__solver=newton-cg, lr__C=1, broadmatch__kw_args={'turn_on': False}, lr__multi_class=multinomial, score=0.761593838942, total=   5.3s\n",
      "[CV] lr__solver=newton-cg, lr__C=1, broadmatch__kw_args={'turn_on': False}, lr__multi_class=multinomial \n",
      "[CV]  lr__solver=newton-cg, lr__C=1, broadmatch__kw_args={'turn_on': False}, lr__multi_class=multinomial, score=0.768302898308, total=   5.7s\n",
      "[CV] lr__solver=newton-cg, lr__C=1, broadmatch__kw_args={'turn_on': False}, lr__multi_class=multinomial \n",
      "[CV]  lr__solver=newton-cg, lr__C=1, broadmatch__kw_args={'turn_on': False}, lr__multi_class=multinomial, score=0.756620851492, total=   5.2s\n",
      "[CV] lr__solver=newton-cg, lr__C=1, broadmatch__kw_args={'turn_on': False}, lr__multi_class=multinomial \n",
      "[CV]  lr__solver=newton-cg, lr__C=1, broadmatch__kw_args={'turn_on': False}, lr__multi_class=multinomial, score=0.775746393828, total=   5.4s\n",
      "[CV] lr__solver=newton-cg, lr__C=1, broadmatch__kw_args={'turn_on': False}, lr__multi_class=multinomial \n",
      "[CV]  lr__solver=newton-cg, lr__C=1, broadmatch__kw_args={'turn_on': False}, lr__multi_class=multinomial, score=0.770637583893, total=   5.4s\n",
      "[CV] lr__solver=lbfgs, lr__C=1, broadmatch__kw_args={'turn_on': False}, lr__multi_class=multinomial \n",
      "[CV]  lr__solver=lbfgs, lr__C=1, broadmatch__kw_args={'turn_on': False}, lr__multi_class=multinomial, score=0.761593838942, total=   3.6s\n",
      "[CV] lr__solver=lbfgs, lr__C=1, broadmatch__kw_args={'turn_on': False}, lr__multi_class=multinomial \n",
      "[CV]  lr__solver=lbfgs, lr__C=1, broadmatch__kw_args={'turn_on': False}, lr__multi_class=multinomial, score=0.768135366058, total=   3.6s\n",
      "[CV] lr__solver=lbfgs, lr__C=1, broadmatch__kw_args={'turn_on': False}, lr__multi_class=multinomial \n",
      "[CV]  lr__solver=lbfgs, lr__C=1, broadmatch__kw_args={'turn_on': False}, lr__multi_class=multinomial, score=0.756620851492, total=   3.5s\n",
      "[CV] lr__solver=lbfgs, lr__C=1, broadmatch__kw_args={'turn_on': False}, lr__multi_class=multinomial \n",
      "[CV]  lr__solver=lbfgs, lr__C=1, broadmatch__kw_args={'turn_on': False}, lr__multi_class=multinomial, score=0.775914122778, total=   3.5s\n",
      "[CV] lr__solver=lbfgs, lr__C=1, broadmatch__kw_args={'turn_on': False}, lr__multi_class=multinomial \n",
      "[CV]  lr__solver=lbfgs, lr__C=1, broadmatch__kw_args={'turn_on': False}, lr__multi_class=multinomial, score=0.770637583893, total=   3.5s\n",
      "[CV] lr__solver=sag, lr__C=1, broadmatch__kw_args={'turn_on': False}, lr__multi_class=multinomial \n",
      "[CV]  lr__solver=sag, lr__C=1, broadmatch__kw_args={'turn_on': False}, lr__multi_class=multinomial, score=0.762096099113, total=   4.7s\n",
      "[CV] lr__solver=sag, lr__C=1, broadmatch__kw_args={'turn_on': False}, lr__multi_class=multinomial \n",
      "[CV]  lr__solver=sag, lr__C=1, broadmatch__kw_args={'turn_on': False}, lr__multi_class=multinomial, score=0.768135366058, total=   4.7s\n",
      "[CV] lr__solver=sag, lr__C=1, broadmatch__kw_args={'turn_on': False}, lr__multi_class=multinomial \n",
      "[CV]  lr__solver=sag, lr__C=1, broadmatch__kw_args={'turn_on': False}, lr__multi_class=multinomial, score=0.757291317466, total=   4.7s\n",
      "[CV] lr__solver=sag, lr__C=1, broadmatch__kw_args={'turn_on': False}, lr__multi_class=multinomial \n",
      "[CV]  lr__solver=sag, lr__C=1, broadmatch__kw_args={'turn_on': False}, lr__multi_class=multinomial, score=0.776752767528, total=   4.7s\n",
      "[CV] lr__solver=sag, lr__C=1, broadmatch__kw_args={'turn_on': False}, lr__multi_class=multinomial \n",
      "[CV]  lr__solver=sag, lr__C=1, broadmatch__kw_args={'turn_on': False}, lr__multi_class=multinomial, score=0.770973154362, total=   4.9s\n",
      "[CV] lr__solver=saga, lr__C=1, broadmatch__kw_args={'turn_on': False}, lr__multi_class=multinomial \n",
      "[CV]  lr__solver=saga, lr__C=1, broadmatch__kw_args={'turn_on': False}, lr__multi_class=multinomial, score=0.763937719739, total=   4.9s\n",
      "[CV] lr__solver=saga, lr__C=1, broadmatch__kw_args={'turn_on': False}, lr__multi_class=multinomial \n",
      "[CV]  lr__solver=saga, lr__C=1, broadmatch__kw_args={'turn_on': False}, lr__multi_class=multinomial, score=0.766795108058, total=   4.9s\n",
      "[CV] lr__solver=saga, lr__C=1, broadmatch__kw_args={'turn_on': False}, lr__multi_class=multinomial \n",
      "[CV]  lr__solver=saga, lr__C=1, broadmatch__kw_args={'turn_on': False}, lr__multi_class=multinomial, score=0.757794166946, total=   5.0s\n",
      "[CV] lr__solver=saga, lr__C=1, broadmatch__kw_args={'turn_on': False}, lr__multi_class=multinomial \n",
      "[CV]  lr__solver=saga, lr__C=1, broadmatch__kw_args={'turn_on': False}, lr__multi_class=multinomial, score=0.777759141228, total=   5.0s\n",
      "[CV] lr__solver=saga, lr__C=1, broadmatch__kw_args={'turn_on': False}, lr__multi_class=multinomial \n",
      "[CV]  lr__solver=saga, lr__C=1, broadmatch__kw_args={'turn_on': False}, lr__multi_class=multinomial, score=0.770134228188, total=   5.1s\n",
      "[CV] lr__solver=newton-cg, lr__C=10, broadmatch__kw_args={'turn_on': False}, lr__multi_class=ovr \n",
      "[CV]  lr__solver=newton-cg, lr__C=10, broadmatch__kw_args={'turn_on': False}, lr__multi_class=ovr, score=0.754227356437, total=   5.3s\n",
      "[CV] lr__solver=newton-cg, lr__C=10, broadmatch__kw_args={'turn_on': False}, lr__multi_class=ovr \n",
      "[CV]  lr__solver=newton-cg, lr__C=10, broadmatch__kw_args={'turn_on': False}, lr__multi_class=ovr, score=0.753895124812, total=   5.4s\n",
      "[CV] lr__solver=newton-cg, lr__C=10, broadmatch__kw_args={'turn_on': False}, lr__multi_class=ovr \n",
      "[CV]  lr__solver=newton-cg, lr__C=10, broadmatch__kw_args={'turn_on': False}, lr__multi_class=ovr, score=0.747569560845, total=   5.4s\n",
      "[CV] lr__solver=newton-cg, lr__C=10, broadmatch__kw_args={'turn_on': False}, lr__multi_class=ovr \n",
      "[CV]  lr__solver=newton-cg, lr__C=10, broadmatch__kw_args={'turn_on': False}, lr__multi_class=ovr, score=0.762328077826, total=   5.5s\n",
      "[CV] lr__solver=newton-cg, lr__C=10, broadmatch__kw_args={'turn_on': False}, lr__multi_class=ovr \n",
      "[CV]  lr__solver=newton-cg, lr__C=10, broadmatch__kw_args={'turn_on': False}, lr__multi_class=ovr, score=0.760234899329, total=   5.5s\n",
      "[CV] lr__solver=lbfgs, lr__C=10, broadmatch__kw_args={'turn_on': False}, lr__multi_class=ovr \n",
      "[CV]  lr__solver=lbfgs, lr__C=10, broadmatch__kw_args={'turn_on': False}, lr__multi_class=ovr, score=0.755399296836, total=   3.9s\n",
      "[CV] lr__solver=lbfgs, lr__C=10, broadmatch__kw_args={'turn_on': False}, lr__multi_class=ovr \n",
      "[CV]  lr__solver=lbfgs, lr__C=10, broadmatch__kw_args={'turn_on': False}, lr__multi_class=ovr, score=0.753392528062, total=   4.0s\n",
      "[CV] lr__solver=lbfgs, lr__C=10, broadmatch__kw_args={'turn_on': False}, lr__multi_class=ovr \n",
      "[CV]  lr__solver=lbfgs, lr__C=10, broadmatch__kw_args={'turn_on': False}, lr__multi_class=ovr, score=0.747737177338, total=   4.0s\n",
      "[CV] lr__solver=lbfgs, lr__C=10, broadmatch__kw_args={'turn_on': False}, lr__multi_class=ovr \n",
      "[CV]  lr__solver=lbfgs, lr__C=10, broadmatch__kw_args={'turn_on': False}, lr__multi_class=ovr, score=0.762160348876, total=   4.0s\n",
      "[CV] lr__solver=lbfgs, lr__C=10, broadmatch__kw_args={'turn_on': False}, lr__multi_class=ovr \n",
      "[CV]  lr__solver=lbfgs, lr__C=10, broadmatch__kw_args={'turn_on': False}, lr__multi_class=ovr, score=0.761409395973, total=   4.0s\n",
      "[CV] lr__solver=sag, lr__C=10, broadmatch__kw_args={'turn_on': False}, lr__multi_class=ovr \n",
      "[CV]  lr__solver=sag, lr__C=10, broadmatch__kw_args={'turn_on': False}, lr__multi_class=ovr, score=0.757575757576, total=  57.0s\n",
      "[CV] lr__solver=sag, lr__C=10, broadmatch__kw_args={'turn_on': False}, lr__multi_class=ovr \n",
      "[CV]  lr__solver=sag, lr__C=10, broadmatch__kw_args={'turn_on': False}, lr__multi_class=ovr, score=0.757245769811, total=  56.3s\n",
      "[CV] lr__solver=sag, lr__C=10, broadmatch__kw_args={'turn_on': False}, lr__multi_class=ovr \n",
      "[CV]  lr__solver=sag, lr__C=10, broadmatch__kw_args={'turn_on': False}, lr__multi_class=ovr, score=0.751257123701, total=  55.8s\n",
      "[CV] lr__solver=sag, lr__C=10, broadmatch__kw_args={'turn_on': False}, lr__multi_class=ovr \n",
      "[CV]  lr__solver=sag, lr__C=10, broadmatch__kw_args={'turn_on': False}, lr__multi_class=ovr, score=0.766856759477, total=  57.3s\n",
      "[CV] lr__solver=sag, lr__C=10, broadmatch__kw_args={'turn_on': False}, lr__multi_class=ovr \n",
      "[CV]  lr__solver=sag, lr__C=10, broadmatch__kw_args={'turn_on': False}, lr__multi_class=ovr, score=0.766610738255, total=  57.1s\n",
      "[CV] lr__solver=saga, lr__C=10, broadmatch__kw_args={'turn_on': False}, lr__multi_class=ovr \n",
      "[CV]  lr__solver=saga, lr__C=10, broadmatch__kw_args={'turn_on': False}, lr__multi_class=ovr, score=0.760421898543, total=  58.5s\n",
      "[CV] lr__solver=saga, lr__C=10, broadmatch__kw_args={'turn_on': False}, lr__multi_class=ovr \n"
     ]
    },
    {
     "name": "stdout",
     "output_type": "stream",
     "text": [
      "[CV]  lr__solver=saga, lr__C=10, broadmatch__kw_args={'turn_on': False}, lr__multi_class=ovr, score=0.76193667281, total=  47.0s\n",
      "[CV] lr__solver=saga, lr__C=10, broadmatch__kw_args={'turn_on': False}, lr__multi_class=ovr \n",
      "[CV]  lr__solver=saga, lr__C=10, broadmatch__kw_args={'turn_on': False}, lr__multi_class=ovr, score=0.757123700972, total=  56.9s\n",
      "[CV] lr__solver=saga, lr__C=10, broadmatch__kw_args={'turn_on': False}, lr__multi_class=ovr \n",
      "[CV]  lr__solver=saga, lr__C=10, broadmatch__kw_args={'turn_on': False}, lr__multi_class=ovr, score=0.772727272727, total=  56.9s\n",
      "[CV] lr__solver=saga, lr__C=10, broadmatch__kw_args={'turn_on': False}, lr__multi_class=ovr \n",
      "[CV]  lr__solver=saga, lr__C=10, broadmatch__kw_args={'turn_on': False}, lr__multi_class=ovr, score=0.768120805369, total=  56.1s\n",
      "[CV] lr__solver=newton-cg, lr__C=10, broadmatch__kw_args={'turn_on': False}, lr__multi_class=multinomial \n",
      "[CV]  lr__solver=newton-cg, lr__C=10, broadmatch__kw_args={'turn_on': False}, lr__multi_class=multinomial, score=0.740164071656, total=   9.1s\n",
      "[CV] lr__solver=newton-cg, lr__C=10, broadmatch__kw_args={'turn_on': False}, lr__multi_class=multinomial \n",
      "[CV]  lr__solver=newton-cg, lr__C=10, broadmatch__kw_args={'turn_on': False}, lr__multi_class=multinomial, score=0.740827609315, total=   7.8s\n",
      "[CV] lr__solver=newton-cg, lr__C=10, broadmatch__kw_args={'turn_on': False}, lr__multi_class=multinomial \n",
      "[CV]  lr__solver=newton-cg, lr__C=10, broadmatch__kw_args={'turn_on': False}, lr__multi_class=multinomial, score=0.734160241368, total=   9.9s\n",
      "[CV] lr__solver=newton-cg, lr__C=10, broadmatch__kw_args={'turn_on': False}, lr__multi_class=multinomial \n",
      "[CV]  lr__solver=newton-cg, lr__C=10, broadmatch__kw_args={'turn_on': False}, lr__multi_class=multinomial, score=0.749245219725, total=   8.9s\n",
      "[CV] lr__solver=newton-cg, lr__C=10, broadmatch__kw_args={'turn_on': False}, lr__multi_class=multinomial \n",
      "[CV]  lr__solver=newton-cg, lr__C=10, broadmatch__kw_args={'turn_on': False}, lr__multi_class=multinomial, score=0.747483221477, total=   8.9s\n",
      "[CV] lr__solver=lbfgs, lr__C=10, broadmatch__kw_args={'turn_on': False}, lr__multi_class=multinomial \n",
      "[CV]  lr__solver=lbfgs, lr__C=10, broadmatch__kw_args={'turn_on': False}, lr__multi_class=multinomial, score=0.742507952453, total=   3.6s\n",
      "[CV] lr__solver=lbfgs, lr__C=10, broadmatch__kw_args={'turn_on': False}, lr__multi_class=multinomial \n",
      "[CV]  lr__solver=lbfgs, lr__C=10, broadmatch__kw_args={'turn_on': False}, lr__multi_class=multinomial, score=0.744513318814, total=   3.6s\n",
      "[CV] lr__solver=lbfgs, lr__C=10, broadmatch__kw_args={'turn_on': False}, lr__multi_class=multinomial \n",
      "[CV]  lr__solver=lbfgs, lr__C=10, broadmatch__kw_args={'turn_on': False}, lr__multi_class=multinomial, score=0.737344954744, total=   3.6s\n",
      "[CV] lr__solver=lbfgs, lr__C=10, broadmatch__kw_args={'turn_on': False}, lr__multi_class=multinomial \n",
      "[CV]  lr__solver=lbfgs, lr__C=10, broadmatch__kw_args={'turn_on': False}, lr__multi_class=multinomial, score=0.749580677625, total=   3.4s\n",
      "[CV] lr__solver=lbfgs, lr__C=10, broadmatch__kw_args={'turn_on': False}, lr__multi_class=multinomial \n",
      "[CV]  lr__solver=lbfgs, lr__C=10, broadmatch__kw_args={'turn_on': False}, lr__multi_class=multinomial, score=0.747986577181, total=   3.5s\n",
      "[CV] lr__solver=sag, lr__C=10, broadmatch__kw_args={'turn_on': False}, lr__multi_class=multinomial \n",
      "[CV]  lr__solver=sag, lr__C=10, broadmatch__kw_args={'turn_on': False}, lr__multi_class=multinomial, score=0.742340532396, total=   4.8s\n",
      "[CV] lr__solver=sag, lr__C=10, broadmatch__kw_args={'turn_on': False}, lr__multi_class=multinomial \n",
      "[CV]  lr__solver=sag, lr__C=10, broadmatch__kw_args={'turn_on': False}, lr__multi_class=multinomial, score=0.745686044564, total=   4.8s\n",
      "[CV] lr__solver=sag, lr__C=10, broadmatch__kw_args={'turn_on': False}, lr__multi_class=multinomial \n",
      "[CV]  lr__solver=sag, lr__C=10, broadmatch__kw_args={'turn_on': False}, lr__multi_class=multinomial, score=0.735836406302, total=   4.7s\n",
      "[CV] lr__solver=sag, lr__C=10, broadmatch__kw_args={'turn_on': False}, lr__multi_class=multinomial \n",
      "[CV]  lr__solver=sag, lr__C=10, broadmatch__kw_args={'turn_on': False}, lr__multi_class=multinomial, score=0.751928882925, total=   4.8s\n",
      "[CV] lr__solver=sag, lr__C=10, broadmatch__kw_args={'turn_on': False}, lr__multi_class=multinomial \n",
      "[CV]  lr__solver=sag, lr__C=10, broadmatch__kw_args={'turn_on': False}, lr__multi_class=multinomial, score=0.74966442953, total=   4.8s\n",
      "[CV] lr__solver=saga, lr__C=10, broadmatch__kw_args={'turn_on': False}, lr__multi_class=multinomial \n",
      "[CV]  lr__solver=saga, lr__C=10, broadmatch__kw_args={'turn_on': False}, lr__multi_class=multinomial, score=0.748032814331, total=   4.8s\n",
      "[CV] lr__solver=saga, lr__C=10, broadmatch__kw_args={'turn_on': False}, lr__multi_class=multinomial \n",
      "[CV]  lr__solver=saga, lr__C=10, broadmatch__kw_args={'turn_on': False}, lr__multi_class=multinomial, score=0.752052270062, total=   5.1s\n",
      "[CV] lr__solver=saga, lr__C=10, broadmatch__kw_args={'turn_on': False}, lr__multi_class=multinomial \n",
      "[CV]  lr__solver=saga, lr__C=10, broadmatch__kw_args={'turn_on': False}, lr__multi_class=multinomial, score=0.742373449547, total=   4.9s\n",
      "[CV] lr__solver=saga, lr__C=10, broadmatch__kw_args={'turn_on': False}, lr__multi_class=multinomial \n",
      "[CV]  lr__solver=saga, lr__C=10, broadmatch__kw_args={'turn_on': False}, lr__multi_class=multinomial, score=0.761321704126, total=   5.0s\n",
      "[CV] lr__solver=saga, lr__C=10, broadmatch__kw_args={'turn_on': False}, lr__multi_class=multinomial \n",
      "[CV]  lr__solver=saga, lr__C=10, broadmatch__kw_args={'turn_on': False}, lr__multi_class=multinomial, score=0.755033557047, total=   5.1s\n",
      "[CV] lr__solver=newton-cg, lr__C=100, broadmatch__kw_args={'turn_on': False}, lr__multi_class=ovr \n",
      "[CV]  lr__solver=newton-cg, lr__C=100, broadmatch__kw_args={'turn_on': False}, lr__multi_class=ovr, score=0.726937887159, total=   7.6s\n",
      "[CV] lr__solver=newton-cg, lr__C=100, broadmatch__kw_args={'turn_on': False}, lr__multi_class=ovr \n",
      "[CV]  lr__solver=newton-cg, lr__C=100, broadmatch__kw_args={'turn_on': False}, lr__multi_class=ovr, score=0.72172893282, total=   7.9s\n",
      "[CV] lr__solver=newton-cg, lr__C=100, broadmatch__kw_args={'turn_on': False}, lr__multi_class=ovr \n",
      "[CV]  lr__solver=newton-cg, lr__C=100, broadmatch__kw_args={'turn_on': False}, lr__multi_class=ovr, score=0.721086154878, total=   7.9s\n",
      "[CV] lr__solver=newton-cg, lr__C=100, broadmatch__kw_args={'turn_on': False}, lr__multi_class=ovr \n",
      "[CV]  lr__solver=newton-cg, lr__C=100, broadmatch__kw_args={'turn_on': False}, lr__multi_class=ovr, score=0.728111372023, total=   7.9s\n",
      "[CV] lr__solver=newton-cg, lr__C=100, broadmatch__kw_args={'turn_on': False}, lr__multi_class=ovr \n",
      "[CV]  lr__solver=newton-cg, lr__C=100, broadmatch__kw_args={'turn_on': False}, lr__multi_class=ovr, score=0.727013422819, total=   8.0s\n",
      "[CV] lr__solver=lbfgs, lr__C=100, broadmatch__kw_args={'turn_on': False}, lr__multi_class=ovr \n",
      "[CV]  lr__solver=lbfgs, lr__C=100, broadmatch__kw_args={'turn_on': False}, lr__multi_class=ovr, score=0.728612087728, total=   4.0s\n",
      "[CV] lr__solver=lbfgs, lr__C=100, broadmatch__kw_args={'turn_on': False}, lr__multi_class=ovr \n",
      "[CV]  lr__solver=lbfgs, lr__C=100, broadmatch__kw_args={'turn_on': False}, lr__multi_class=ovr, score=0.724409448819, total=   4.0s\n",
      "[CV] lr__solver=lbfgs, lr__C=100, broadmatch__kw_args={'turn_on': False}, lr__multi_class=ovr \n",
      "[CV]  lr__solver=lbfgs, lr__C=100, broadmatch__kw_args={'turn_on': False}, lr__multi_class=ovr, score=0.721253771371, total=   4.0s\n",
      "[CV] lr__solver=lbfgs, lr__C=100, broadmatch__kw_args={'turn_on': False}, lr__multi_class=ovr \n",
      "[CV]  lr__solver=lbfgs, lr__C=100, broadmatch__kw_args={'turn_on': False}, lr__multi_class=ovr, score=0.729453203623, total=   3.8s\n",
      "[CV] lr__solver=lbfgs, lr__C=100, broadmatch__kw_args={'turn_on': False}, lr__multi_class=ovr \n",
      "[CV]  lr__solver=lbfgs, lr__C=100, broadmatch__kw_args={'turn_on': False}, lr__multi_class=ovr, score=0.729362416107, total=   3.8s\n",
      "[CV] lr__solver=sag, lr__C=100, broadmatch__kw_args={'turn_on': False}, lr__multi_class=ovr \n",
      "[CV]  lr__solver=sag, lr__C=100, broadmatch__kw_args={'turn_on': False}, lr__multi_class=ovr, score=0.7497070149, total=  56.4s\n",
      "[CV] lr__solver=sag, lr__C=100, broadmatch__kw_args={'turn_on': False}, lr__multi_class=ovr \n"
     ]
    },
    {
     "name": "stdout",
     "output_type": "stream",
     "text": [
      "[CV]  lr__solver=sag, lr__C=100, broadmatch__kw_args={'turn_on': False}, lr__multi_class=ovr, score=0.751047076562, total=  55.6s\n",
      "[CV] lr__solver=sag, lr__C=100, broadmatch__kw_args={'turn_on': False}, lr__multi_class=ovr \n",
      "[CV]  lr__solver=sag, lr__C=100, broadmatch__kw_args={'turn_on': False}, lr__multi_class=ovr, score=0.743211532015, total=  56.4s\n",
      "[CV] lr__solver=sag, lr__C=100, broadmatch__kw_args={'turn_on': False}, lr__multi_class=ovr \n",
      "[CV]  lr__solver=sag, lr__C=100, broadmatch__kw_args={'turn_on': False}, lr__multi_class=ovr, score=0.756457564576, total=  56.6s\n",
      "[CV] lr__solver=sag, lr__C=100, broadmatch__kw_args={'turn_on': False}, lr__multi_class=ovr \n",
      "[CV]  lr__solver=sag, lr__C=100, broadmatch__kw_args={'turn_on': False}, lr__multi_class=ovr, score=0.756543624161, total=  56.2s\n",
      "[CV] lr__solver=saga, lr__C=100, broadmatch__kw_args={'turn_on': False}, lr__multi_class=ovr \n",
      "[CV]  lr__solver=saga, lr__C=100, broadmatch__kw_args={'turn_on': False}, lr__multi_class=ovr, score=0.756571237234, total=  57.3s\n",
      "[CV] lr__solver=saga, lr__C=100, broadmatch__kw_args={'turn_on': False}, lr__multi_class=ovr \n",
      "[CV]  lr__solver=saga, lr__C=100, broadmatch__kw_args={'turn_on': False}, lr__multi_class=ovr, score=0.75858602781, total=  57.1s\n",
      "[CV] lr__solver=saga, lr__C=100, broadmatch__kw_args={'turn_on': False}, lr__multi_class=ovr \n",
      "[CV]  lr__solver=saga, lr__C=100, broadmatch__kw_args={'turn_on': False}, lr__multi_class=ovr, score=0.75460945357, total=  56.7s\n",
      "[CV] lr__solver=saga, lr__C=100, broadmatch__kw_args={'turn_on': False}, lr__multi_class=ovr \n",
      "[CV]  lr__solver=saga, lr__C=100, broadmatch__kw_args={'turn_on': False}, lr__multi_class=ovr, score=0.769372693727, total=  55.8s\n",
      "[CV] lr__solver=saga, lr__C=100, broadmatch__kw_args={'turn_on': False}, lr__multi_class=ovr \n",
      "[CV]  lr__solver=saga, lr__C=100, broadmatch__kw_args={'turn_on': False}, lr__multi_class=ovr, score=0.768624161074, total=  57.4s\n",
      "[CV] lr__solver=newton-cg, lr__C=100, broadmatch__kw_args={'turn_on': False}, lr__multi_class=multinomial \n",
      "[CV]  lr__solver=newton-cg, lr__C=100, broadmatch__kw_args={'turn_on': False}, lr__multi_class=multinomial, score=0.700150678051, total=  12.6s\n",
      "[CV] lr__solver=newton-cg, lr__C=100, broadmatch__kw_args={'turn_on': False}, lr__multi_class=multinomial \n",
      "[CV]  lr__solver=newton-cg, lr__C=100, broadmatch__kw_args={'turn_on': False}, lr__multi_class=multinomial, score=0.700284804825, total=  14.8s\n",
      "[CV] lr__solver=newton-cg, lr__C=100, broadmatch__kw_args={'turn_on': False}, lr__multi_class=multinomial \n",
      "[CV]  lr__solver=newton-cg, lr__C=100, broadmatch__kw_args={'turn_on': False}, lr__multi_class=multinomial, score=0.699631243714, total=  17.8s\n",
      "[CV] lr__solver=newton-cg, lr__C=100, broadmatch__kw_args={'turn_on': False}, lr__multi_class=multinomial \n",
      "[CV]  lr__solver=newton-cg, lr__C=100, broadmatch__kw_args={'turn_on': False}, lr__multi_class=multinomial, score=0.709661187521, total=  13.3s\n",
      "[CV] lr__solver=newton-cg, lr__C=100, broadmatch__kw_args={'turn_on': False}, lr__multi_class=multinomial \n",
      "[CV]  lr__solver=newton-cg, lr__C=100, broadmatch__kw_args={'turn_on': False}, lr__multi_class=multinomial, score=0.713590604027, total=  18.3s\n",
      "[CV] lr__solver=lbfgs, lr__C=100, broadmatch__kw_args={'turn_on': False}, lr__multi_class=multinomial \n",
      "[CV]  lr__solver=lbfgs, lr__C=100, broadmatch__kw_args={'turn_on': False}, lr__multi_class=multinomial, score=0.72308722585, total=   3.8s\n",
      "[CV] lr__solver=lbfgs, lr__C=100, broadmatch__kw_args={'turn_on': False}, lr__multi_class=multinomial \n",
      "[CV]  lr__solver=lbfgs, lr__C=100, broadmatch__kw_args={'turn_on': False}, lr__multi_class=multinomial, score=0.724241916569, total=   3.6s\n",
      "[CV] lr__solver=lbfgs, lr__C=100, broadmatch__kw_args={'turn_on': False}, lr__multi_class=multinomial \n",
      "[CV]  lr__solver=lbfgs, lr__C=100, broadmatch__kw_args={'turn_on': False}, lr__multi_class=multinomial, score=0.718739523969, total=   3.5s\n",
      "[CV] lr__solver=lbfgs, lr__C=100, broadmatch__kw_args={'turn_on': False}, lr__multi_class=multinomial \n",
      "[CV]  lr__solver=lbfgs, lr__C=100, broadmatch__kw_args={'turn_on': False}, lr__multi_class=multinomial, score=0.727440456223, total=   3.5s\n",
      "[CV] lr__solver=lbfgs, lr__C=100, broadmatch__kw_args={'turn_on': False}, lr__multi_class=multinomial \n",
      "[CV]  lr__solver=lbfgs, lr__C=100, broadmatch__kw_args={'turn_on': False}, lr__multi_class=multinomial, score=0.729530201342, total=   3.6s\n",
      "[CV] lr__solver=sag, lr__C=100, broadmatch__kw_args={'turn_on': False}, lr__multi_class=multinomial \n",
      "[CV]  lr__solver=sag, lr__C=100, broadmatch__kw_args={'turn_on': False}, lr__multi_class=multinomial, score=0.731458228696, total=   4.6s\n",
      "[CV] lr__solver=sag, lr__C=100, broadmatch__kw_args={'turn_on': False}, lr__multi_class=multinomial \n",
      "[CV]  lr__solver=sag, lr__C=100, broadmatch__kw_args={'turn_on': False}, lr__multi_class=multinomial, score=0.735801641816, total=   4.7s\n",
      "[CV] lr__solver=sag, lr__C=100, broadmatch__kw_args={'turn_on': False}, lr__multi_class=multinomial \n",
      "[CV]  lr__solver=sag, lr__C=100, broadmatch__kw_args={'turn_on': False}, lr__multi_class=multinomial, score=0.730305062018, total=   4.8s\n",
      "[CV] lr__solver=sag, lr__C=100, broadmatch__kw_args={'turn_on': False}, lr__multi_class=multinomial \n",
      "[CV]  lr__solver=sag, lr__C=100, broadmatch__kw_args={'turn_on': False}, lr__multi_class=multinomial, score=0.742703790674, total=   4.8s\n",
      "[CV] lr__solver=sag, lr__C=100, broadmatch__kw_args={'turn_on': False}, lr__multi_class=multinomial \n",
      "[CV]  lr__solver=sag, lr__C=100, broadmatch__kw_args={'turn_on': False}, lr__multi_class=multinomial, score=0.739261744966, total=   4.8s\n",
      "[CV] lr__solver=saga, lr__C=100, broadmatch__kw_args={'turn_on': False}, lr__multi_class=multinomial \n",
      "[CV]  lr__solver=saga, lr__C=100, broadmatch__kw_args={'turn_on': False}, lr__multi_class=multinomial, score=0.741503432111, total=   5.0s\n",
      "[CV] lr__solver=saga, lr__C=100, broadmatch__kw_args={'turn_on': False}, lr__multi_class=multinomial \n",
      "[CV]  lr__solver=saga, lr__C=100, broadmatch__kw_args={'turn_on': False}, lr__multi_class=multinomial, score=0.749371754063, total=   5.0s\n",
      "[CV] lr__solver=saga, lr__C=100, broadmatch__kw_args={'turn_on': False}, lr__multi_class=multinomial \n",
      "[CV]  lr__solver=saga, lr__C=100, broadmatch__kw_args={'turn_on': False}, lr__multi_class=multinomial, score=0.739691585652, total=   5.1s\n",
      "[CV] lr__solver=saga, lr__C=100, broadmatch__kw_args={'turn_on': False}, lr__multi_class=multinomial \n",
      "[CV]  lr__solver=saga, lr__C=100, broadmatch__kw_args={'turn_on': False}, lr__multi_class=multinomial, score=0.756960751426, total=   4.9s\n",
      "[CV] lr__solver=saga, lr__C=100, broadmatch__kw_args={'turn_on': False}, lr__multi_class=multinomial \n",
      "[CV]  lr__solver=saga, lr__C=100, broadmatch__kw_args={'turn_on': False}, lr__multi_class=multinomial, score=0.750838926174, total=   5.0s\n",
      "[CV] lr__solver=newton-cg, lr__C=1000, broadmatch__kw_args={'turn_on': False}, lr__multi_class=ovr \n",
      "[CV]  lr__solver=newton-cg, lr__C=1000, broadmatch__kw_args={'turn_on': False}, lr__multi_class=ovr, score=0.690607734807, total=  11.9s\n",
      "[CV] lr__solver=newton-cg, lr__C=1000, broadmatch__kw_args={'turn_on': False}, lr__multi_class=ovr \n",
      "[CV]  lr__solver=newton-cg, lr__C=1000, broadmatch__kw_args={'turn_on': False}, lr__multi_class=ovr, score=0.67867314458, total=  12.4s\n",
      "[CV] lr__solver=newton-cg, lr__C=1000, broadmatch__kw_args={'turn_on': False}, lr__multi_class=ovr \n",
      "[CV]  lr__solver=newton-cg, lr__C=1000, broadmatch__kw_args={'turn_on': False}, lr__multi_class=ovr, score=0.692926583976, total=  12.1s\n",
      "[CV] lr__solver=newton-cg, lr__C=1000, broadmatch__kw_args={'turn_on': False}, lr__multi_class=ovr \n",
      "[CV]  lr__solver=newton-cg, lr__C=1000, broadmatch__kw_args={'turn_on': False}, lr__multi_class=ovr, score=0.69557195572, total=  12.9s\n",
      "[CV] lr__solver=newton-cg, lr__C=1000, broadmatch__kw_args={'turn_on': False}, lr__multi_class=ovr \n",
      "[CV]  lr__solver=newton-cg, lr__C=1000, broadmatch__kw_args={'turn_on': False}, lr__multi_class=ovr, score=0.69244966443, total=  11.7s\n",
      "[CV] lr__solver=lbfgs, lr__C=1000, broadmatch__kw_args={'turn_on': False}, lr__multi_class=ovr \n",
      "[CV]  lr__solver=lbfgs, lr__C=1000, broadmatch__kw_args={'turn_on': False}, lr__multi_class=ovr, score=0.704336179474, total=   3.9s\n",
      "[CV] lr__solver=lbfgs, lr__C=1000, broadmatch__kw_args={'turn_on': False}, lr__multi_class=ovr \n"
     ]
    },
    {
     "name": "stdout",
     "output_type": "stream",
     "text": [
      "[CV]  lr__solver=lbfgs, lr__C=1000, broadmatch__kw_args={'turn_on': False}, lr__multi_class=ovr, score=0.699112079075, total=   3.9s\n",
      "[CV] lr__solver=lbfgs, lr__C=1000, broadmatch__kw_args={'turn_on': False}, lr__multi_class=ovr \n",
      "[CV]  lr__solver=lbfgs, lr__C=1000, broadmatch__kw_args={'turn_on': False}, lr__multi_class=ovr, score=0.704994971505, total=   3.9s\n",
      "[CV] lr__solver=lbfgs, lr__C=1000, broadmatch__kw_args={'turn_on': False}, lr__multi_class=ovr \n",
      "[CV]  lr__solver=lbfgs, lr__C=1000, broadmatch__kw_args={'turn_on': False}, lr__multi_class=ovr, score=0.706642066421, total=   3.9s\n",
      "[CV] lr__solver=lbfgs, lr__C=1000, broadmatch__kw_args={'turn_on': False}, lr__multi_class=ovr \n",
      "[CV]  lr__solver=lbfgs, lr__C=1000, broadmatch__kw_args={'turn_on': False}, lr__multi_class=ovr, score=0.710906040268, total=   4.0s\n",
      "[CV] lr__solver=sag, lr__C=1000, broadmatch__kw_args={'turn_on': False}, lr__multi_class=ovr \n",
      "[CV]  lr__solver=sag, lr__C=1000, broadmatch__kw_args={'turn_on': False}, lr__multi_class=ovr, score=0.748869914616, total=  56.5s\n",
      "[CV] lr__solver=sag, lr__C=1000, broadmatch__kw_args={'turn_on': False}, lr__multi_class=ovr \n",
      "[CV]  lr__solver=sag, lr__C=1000, broadmatch__kw_args={'turn_on': False}, lr__multi_class=ovr, score=0.749706818563, total=  57.3s\n",
      "[CV] lr__solver=sag, lr__C=1000, broadmatch__kw_args={'turn_on': False}, lr__multi_class=ovr \n",
      "[CV]  lr__solver=sag, lr__C=1000, broadmatch__kw_args={'turn_on': False}, lr__multi_class=ovr, score=0.741702983574, total=  56.0s\n",
      "[CV] lr__solver=sag, lr__C=1000, broadmatch__kw_args={'turn_on': False}, lr__multi_class=ovr \n",
      "[CV]  lr__solver=sag, lr__C=1000, broadmatch__kw_args={'turn_on': False}, lr__multi_class=ovr, score=0.755786648776, total=  56.1s\n",
      "[CV] lr__solver=sag, lr__C=1000, broadmatch__kw_args={'turn_on': False}, lr__multi_class=ovr \n",
      "[CV]  lr__solver=sag, lr__C=1000, broadmatch__kw_args={'turn_on': False}, lr__multi_class=ovr, score=0.756375838926, total=  57.0s\n",
      "[CV] lr__solver=saga, lr__C=1000, broadmatch__kw_args={'turn_on': False}, lr__multi_class=ovr \n",
      "[CV]  lr__solver=saga, lr__C=1000, broadmatch__kw_args={'turn_on': False}, lr__multi_class=ovr, score=0.756068977063, total=  57.5s\n",
      "[CV] lr__solver=saga, lr__C=1000, broadmatch__kw_args={'turn_on': False}, lr__multi_class=ovr \n",
      "[CV]  lr__solver=saga, lr__C=1000, broadmatch__kw_args={'turn_on': False}, lr__multi_class=ovr, score=0.75841849556, total=  57.2s\n",
      "[CV] lr__solver=saga, lr__C=1000, broadmatch__kw_args={'turn_on': False}, lr__multi_class=ovr \n",
      "[CV]  lr__solver=saga, lr__C=1000, broadmatch__kw_args={'turn_on': False}, lr__multi_class=ovr, score=0.754441837077, total=  55.8s\n",
      "[CV] lr__solver=saga, lr__C=1000, broadmatch__kw_args={'turn_on': False}, lr__multi_class=ovr \n",
      "[CV]  lr__solver=saga, lr__C=1000, broadmatch__kw_args={'turn_on': False}, lr__multi_class=ovr, score=0.768534048977, total=  57.2s\n",
      "[CV] lr__solver=saga, lr__C=1000, broadmatch__kw_args={'turn_on': False}, lr__multi_class=ovr \n",
      "[CV]  lr__solver=saga, lr__C=1000, broadmatch__kw_args={'turn_on': False}, lr__multi_class=ovr, score=0.767953020134, total=  54.5s\n",
      "[CV] lr__solver=newton-cg, lr__C=1000, broadmatch__kw_args={'turn_on': False}, lr__multi_class=multinomial \n",
      "[CV]  lr__solver=newton-cg, lr__C=1000, broadmatch__kw_args={'turn_on': False}, lr__multi_class=multinomial, score=0.669680227691, total=  26.7s\n",
      "[CV] lr__solver=newton-cg, lr__C=1000, broadmatch__kw_args={'turn_on': False}, lr__multi_class=multinomial \n",
      "[CV]  lr__solver=newton-cg, lr__C=1000, broadmatch__kw_args={'turn_on': False}, lr__multi_class=multinomial, score=0.667783548333, total=  30.2s\n",
      "[CV] lr__solver=newton-cg, lr__C=1000, broadmatch__kw_args={'turn_on': False}, lr__multi_class=multinomial \n",
      "[CV]  lr__solver=newton-cg, lr__C=1000, broadmatch__kw_args={'turn_on': False}, lr__multi_class=multinomial, score=0.671471672813, total=  33.8s\n",
      "[CV] lr__solver=newton-cg, lr__C=1000, broadmatch__kw_args={'turn_on': False}, lr__multi_class=multinomial \n",
      "[CV]  lr__solver=newton-cg, lr__C=1000, broadmatch__kw_args={'turn_on': False}, lr__multi_class=multinomial, score=0.675444481718, total=  29.1s\n",
      "[CV] lr__solver=newton-cg, lr__C=1000, broadmatch__kw_args={'turn_on': False}, lr__multi_class=multinomial \n",
      "[CV]  lr__solver=newton-cg, lr__C=1000, broadmatch__kw_args={'turn_on': False}, lr__multi_class=multinomial, score=0.68355704698, total=  33.8s\n",
      "[CV] lr__solver=lbfgs, lr__C=1000, broadmatch__kw_args={'turn_on': False}, lr__multi_class=multinomial \n",
      "[CV]  lr__solver=lbfgs, lr__C=1000, broadmatch__kw_args={'turn_on': False}, lr__multi_class=multinomial, score=0.715218483174, total=   3.6s\n",
      "[CV] lr__solver=lbfgs, lr__C=1000, broadmatch__kw_args={'turn_on': False}, lr__multi_class=multinomial \n",
      "[CV]  lr__solver=lbfgs, lr__C=1000, broadmatch__kw_args={'turn_on': False}, lr__multi_class=multinomial, score=0.714189981571, total=   3.5s\n",
      "[CV] lr__solver=lbfgs, lr__C=1000, broadmatch__kw_args={'turn_on': False}, lr__multi_class=multinomial \n",
      "[CV]  lr__solver=lbfgs, lr__C=1000, broadmatch__kw_args={'turn_on': False}, lr__multi_class=multinomial, score=0.714716728126, total=   3.6s\n",
      "[CV] lr__solver=lbfgs, lr__C=1000, broadmatch__kw_args={'turn_on': False}, lr__multi_class=multinomial \n",
      "[CV]  lr__solver=lbfgs, lr__C=1000, broadmatch__kw_args={'turn_on': False}, lr__multi_class=multinomial, score=0.720395840322, total=   3.9s\n",
      "[CV] lr__solver=lbfgs, lr__C=1000, broadmatch__kw_args={'turn_on': False}, lr__multi_class=multinomial \n",
      "[CV]  lr__solver=lbfgs, lr__C=1000, broadmatch__kw_args={'turn_on': False}, lr__multi_class=multinomial, score=0.723154362416, total=   3.5s\n",
      "[CV] lr__solver=sag, lr__C=1000, broadmatch__kw_args={'turn_on': False}, lr__multi_class=multinomial \n",
      "[CV]  lr__solver=sag, lr__C=1000, broadmatch__kw_args={'turn_on': False}, lr__multi_class=multinomial, score=0.729281767956, total=   4.8s\n",
      "[CV] lr__solver=sag, lr__C=1000, broadmatch__kw_args={'turn_on': False}, lr__multi_class=multinomial \n",
      "[CV]  lr__solver=sag, lr__C=1000, broadmatch__kw_args={'turn_on': False}, lr__multi_class=multinomial, score=0.733623722567, total=   4.8s\n",
      "[CV] lr__solver=sag, lr__C=1000, broadmatch__kw_args={'turn_on': False}, lr__multi_class=multinomial \n",
      "[CV]  lr__solver=sag, lr__C=1000, broadmatch__kw_args={'turn_on': False}, lr__multi_class=multinomial, score=0.727623198123, total=   4.7s\n",
      "[CV] lr__solver=sag, lr__C=1000, broadmatch__kw_args={'turn_on': False}, lr__multi_class=multinomial \n",
      "[CV]  lr__solver=sag, lr__C=1000, broadmatch__kw_args={'turn_on': False}, lr__multi_class=multinomial, score=0.741529688024, total=   4.7s\n",
      "[CV] lr__solver=sag, lr__C=1000, broadmatch__kw_args={'turn_on': False}, lr__multi_class=multinomial \n",
      "[CV]  lr__solver=sag, lr__C=1000, broadmatch__kw_args={'turn_on': False}, lr__multi_class=multinomial, score=0.737583892617, total=   4.8s\n",
      "[CV] lr__solver=saga, lr__C=1000, broadmatch__kw_args={'turn_on': False}, lr__multi_class=multinomial \n",
      "[CV]  lr__solver=saga, lr__C=1000, broadmatch__kw_args={'turn_on': False}, lr__multi_class=multinomial, score=0.74100117194, total=   5.0s\n",
      "[CV] lr__solver=saga, lr__C=1000, broadmatch__kw_args={'turn_on': False}, lr__multi_class=multinomial \n",
      "[CV]  lr__solver=saga, lr__C=1000, broadmatch__kw_args={'turn_on': False}, lr__multi_class=multinomial, score=0.747528899313, total=   5.0s\n",
      "[CV] lr__solver=saga, lr__C=1000, broadmatch__kw_args={'turn_on': False}, lr__multi_class=multinomial \n",
      "[CV]  lr__solver=saga, lr__C=1000, broadmatch__kw_args={'turn_on': False}, lr__multi_class=multinomial, score=0.738685886691, total=   4.9s\n",
      "[CV] lr__solver=saga, lr__C=1000, broadmatch__kw_args={'turn_on': False}, lr__multi_class=multinomial \n",
      "[CV]  lr__solver=saga, lr__C=1000, broadmatch__kw_args={'turn_on': False}, lr__multi_class=multinomial, score=0.755451190876, total=   4.9s\n",
      "[CV] lr__solver=saga, lr__C=1000, broadmatch__kw_args={'turn_on': False}, lr__multi_class=multinomial \n",
      "[CV]  lr__solver=saga, lr__C=1000, broadmatch__kw_args={'turn_on': False}, lr__multi_class=multinomial, score=0.749496644295, total=   4.9s\n"
     ]
    },
    {
     "name": "stderr",
     "output_type": "stream",
     "text": [
      "[Parallel(n_jobs=1)]: Done 400 out of 400 | elapsed: 124.9min finished\n"
     ]
    },
    {
     "data": {
      "text/plain": [
       "{'broadmatch__kw_args': {'turn_on': False},\n",
       " 'lr__C': 1,\n",
       " 'lr__multi_class': 'ovr',\n",
       " 'lr__solver': 'saga'}"
      ]
     },
     "execution_count": 433,
     "metadata": {},
     "output_type": "execute_result"
    }
   ],
   "source": [
    "search_params = {\n",
    "    'broadmatch__kw_args': [{ \"turn_on\" : True }, { \"turn_on\" : False }],\n",
    "    'lr__C' : [ 0.1, 1, 10, 100, 1000],\n",
    "    'lr__multi_class' : ['ovr', 'multinomial'],\n",
    "    'lr__solver' : [\"newton-cg\", \"lbfgs\", \"sag\", \"saga\"],\n",
    "}\n",
    "\n",
    "\n",
    "lr_pipeline = Pipeline(steps=[\n",
    "    ('broadmatch', FunctionTransformer(broadmatch_X, validate=False)),\n",
    "    ('countvectorizer', CountVectorizer(binary=True, max_df = 8250, min_df=5)),\n",
    "    ('lr', LogisticRegression(n_jobs=2)),\n",
    "])\n",
    "\n",
    "grid_search_lr = GridSearchCV(lr_pipeline, search_params, cv=5, verbose=10)\n",
    "grid_search_lr.fit(X_train_str, y_train)\n",
    "grid_search_lr.best_params_"
   ]
  },
  {
   "cell_type": "code",
   "execution_count": 434,
   "metadata": {},
   "outputs": [
    {
     "name": "stdout",
     "output_type": "stream",
     "text": [
      "Accuracy of the Logistic Regression model is 0.773230088496\n"
     ]
    }
   ],
   "source": [
    "print \"Accuracy of the Logistic Regression model is\", grid_search_lr.score(X_dev_str, y_dev)"
   ]
  },
  {
   "cell_type": "markdown",
   "metadata": {},
   "source": [
    "## Conclusion"
   ]
  },
  {
   "cell_type": "markdown",
   "metadata": {},
   "source": [
    "MORE HERE"
   ]
  },
  {
   "cell_type": "markdown",
   "metadata": {},
   "source": [
    "To take this challenge further, to accurately predict the correct cuisine, ideally we would love to have additional data along with the ingredients. \n",
    "\n",
    "As seen in our analysis, ingreidents alone may not have enough predictive signals to accurately predict a cuisine given that cuisines like French and Italian have highly overlapping ingredients. Additional data like instructions for cooking the recipe may help differentiate different cuisines. For example, cooking sous vide is very specific to French cooking, and boiling and simmering is more common with Italian cooking.\n",
    "\n",
    "Through inspection, broadmatching seems to show good promise, although there were cases where broadmatching was too aggressive. We think that introducing some threshold on how much to broadmatch would prevent such agressively-broadmatched cases. "
   ]
  },
  {
   "cell_type": "code",
   "execution_count": null,
   "metadata": {
    "collapsed": true
   },
   "outputs": [],
   "source": []
  }
 ],
 "metadata": {
  "kernelspec": {
   "display_name": "Python 2",
   "language": "python",
   "name": "python2"
  },
  "language_info": {
   "codemirror_mode": {
    "name": "ipython",
    "version": 2
   },
   "file_extension": ".py",
   "mimetype": "text/x-python",
   "name": "python",
   "nbconvert_exporter": "python",
   "pygments_lexer": "ipython2",
   "version": "2.7.14"
  }
 },
 "nbformat": 4,
 "nbformat_minor": 2
}
